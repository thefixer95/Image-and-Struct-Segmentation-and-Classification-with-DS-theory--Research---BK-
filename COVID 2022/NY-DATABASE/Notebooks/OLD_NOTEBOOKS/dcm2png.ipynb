{
 "cells": [
  {
   "cell_type": "code",
   "execution_count": 1,
   "metadata": {},
   "outputs": [],
   "source": [
    "# What version of Python do you have?\n",
    "import sys\n",
    "import pandas as pd\n",
    "import numpy as np\n",
    "import math\n",
    "from PIL import Image, ImageOps\n",
    "from scipy import stats\n",
    "from sklearn import preprocessing\n",
    "from sklearn.model_selection import train_test_split\n",
    "import skimage.measure as measure\n",
    "import matplotlib.pyplot as plt\n",
    "from matplotlib import cm\n",
    "import datetime\n",
    "import cv2\n",
    "from skimage import exposure\n",
    "\n",
    "import copy\n",
    "\n",
    "from tqdm import tqdm\n",
    "\n",
    "# import sklearn as sk\n",
    "import tensorflow as tf\n",
    "from pathlib import Path"
   ]
  },
  {
   "cell_type": "code",
   "execution_count": 2,
   "metadata": {},
   "outputs": [],
   "source": [
    "#IMPORT ALL LAYERS AND KERAS/TENSORFLOW PARAMS\n",
    "from tensorflow import keras"
   ]
  },
  {
   "cell_type": "code",
   "execution_count": 3,
   "metadata": {},
   "outputs": [
    {
     "name": "stdout",
     "output_type": "stream",
     "text": [
      "Python 3.9.7 (default, Sep 16 2021, 16:59:28) [MSC v.1916 64 bit (AMD64)]\n",
      "Tensor Flow Version: 2.8.0\n",
      "Keras Version: 2.8.0\n",
      "Pandas 1.3.5\n",
      "Keras Version: 1.22.3\n",
      "\n",
      "GPU is available\n"
     ]
    }
   ],
   "source": [
    "print(f\"Python {sys.version}\")\n",
    "print(f\"Tensor Flow Version: {tf.__version__}\")\n",
    "print(f\"Keras Version: {keras.__version__}\")\n",
    "print(f\"Pandas {pd.__version__}\")\n",
    "print(f\"Keras Version: {np.__version__}\")\n",
    "print()\n",
    "gpu = len(tf.config.list_physical_devices('GPU'))>0\n",
    "print(\"GPU is\", \"available\" if gpu else \"NOT AVAILABLE\")"
   ]
  },
  {
   "cell_type": "code",
   "execution_count": 4,
   "metadata": {},
   "outputs": [
    {
     "name": "stdout",
     "output_type": "stream",
     "text": [
      "[PhysicalDevice(name='/physical_device:GPU:0', device_type='GPU')]\n"
     ]
    }
   ],
   "source": [
    "physical_devices = tf.config.experimental.list_physical_devices('GPU')\n",
    "print(physical_devices)\n",
    "tf.config.experimental.set_memory_growth(physical_devices[0], True)"
   ]
  },
  {
   "cell_type": "code",
   "execution_count": 5,
   "metadata": {},
   "outputs": [
    {
     "name": "stdout",
     "output_type": "stream",
     "text": [
      "Fri May  6 16:37:41 2022       \n",
      "+-----------------------------------------------------------------------------+\n",
      "| NVIDIA-SMI 511.65       Driver Version: 511.65       CUDA Version: 11.6     |\n",
      "|-------------------------------+----------------------+----------------------+\n",
      "| GPU  Name            TCC/WDDM | Bus-Id        Disp.A | Volatile Uncorr. ECC |\n",
      "| Fan  Temp  Perf  Pwr:Usage/Cap|         Memory-Usage | GPU-Util  Compute M. |\n",
      "|                               |                      |               MIG M. |\n",
      "|===============================+======================+======================|\n",
      "|   0  NVIDIA GeForce ... WDDM  | 00000000:01:00.0  On |                  N/A |\n",
      "|  0%   51C    P8    38W / 350W |   1993MiB / 12288MiB |     12%      Default |\n",
      "|                               |                      |                  N/A |\n",
      "+-------------------------------+----------------------+----------------------+\n",
      "                                                                               \n",
      "+-----------------------------------------------------------------------------+\n",
      "| Processes:                                                                  |\n",
      "|  GPU   GI   CI        PID   Type   Process name                  GPU Memory |\n",
      "|        ID   ID                                                   Usage      |\n",
      "|=============================================================================|\n",
      "|    0   N/A  N/A      1576    C+G                                   N/A      |\n",
      "|    0   N/A  N/A      4548    C+G   ...y\\ShellExperienceHost.exe    N/A      |\n",
      "|    0   N/A  N/A      6512    C+G   ...t\\Teams\\current\\Teams.exe    N/A      |\n",
      "|    0   N/A  N/A      8456    C+G   C:\\Windows\\explorer.exe         N/A      |\n",
      "|    0   N/A  N/A      8824    C+G   ...210.32\\msedgewebview2.exe    N/A      |\n",
      "|    0   N/A  N/A     10144    C+G   ...n1h2txyewy\\SearchHost.exe    N/A      |\n",
      "|    0   N/A  N/A     10172    C+G   ...artMenuExperienceHost.exe    N/A      |\n",
      "|    0   N/A  N/A     10492    C+G   ...e\\root\\Office16\\EXCEL.EXE    N/A      |\n",
      "|    0   N/A  N/A     11320    C+G   ...perience\\NVIDIA Share.exe    N/A      |\n",
      "|    0   N/A  N/A     12848    C+G   ...t\\Teams\\current\\Teams.exe    N/A      |\n",
      "|    0   N/A  N/A     14512    C+G                                   N/A      |\n",
      "|    0   N/A  N/A     15732    C+G   ...2txyewy\\TextInputHost.exe    N/A      |\n",
      "|    0   N/A  N/A     15984    C+G   ...lPanel\\SystemSettings.exe    N/A      |\n",
      "|    0   N/A  N/A     16016    C+G   ...me\\Application\\chrome.exe    N/A      |\n",
      "|    0   N/A  N/A     18420    C+G   ...icrosoft VS Code\\Code.exe    N/A      |\n",
      "+-----------------------------------------------------------------------------+\n"
     ]
    }
   ],
   "source": [
    "!nvidia-smi"
   ]
  },
  {
   "cell_type": "code",
   "execution_count": 6,
   "metadata": {},
   "outputs": [],
   "source": [
    "# read in all our data\n",
    "COVID19_data = pd.read_csv(\"../COVID_19_DATA_FEATURES.csv\")\n",
    "# read in all our data\n",
    "COVID19_data_template = pd.read_csv(\"../COVID_19_DATA_FEATURES_TEMPLATE.csv\")\n",
    "\n",
    "COVID19_image_NY_db = pd.read_csv(\"../COVID-19-CHEST-ONLY/manifest-1645033969298/metadata.csv\")"
   ]
  },
  {
   "cell_type": "code",
   "execution_count": 7,
   "metadata": {},
   "outputs": [],
   "source": [
    "# C19_d = pd.DataFrame(COVID19_data[['to_patient_id','is_icu']])\n",
    "C19_d = COVID19_data"
   ]
  },
  {
   "cell_type": "code",
   "execution_count": 8,
   "metadata": {},
   "outputs": [],
   "source": [
    "NEW_PATH_DB = copy.deepcopy(COVID19_image_NY_db)"
   ]
  },
  {
   "cell_type": "code",
   "execution_count": 9,
   "metadata": {},
   "outputs": [],
   "source": [
    "for path in COVID19_image_NY_db['File Location']:\n",
    "    pt = Path(path)\n",
    "    # if (int(pt.stem) % 2 == 0):\n",
    "    if (int(pt.stem) != 1):\n",
    "        NEW_PATH_DB = NEW_PATH_DB[NEW_PATH_DB['File Location'] != path]"
   ]
  },
  {
   "cell_type": "code",
   "execution_count": 10,
   "metadata": {},
   "outputs": [],
   "source": [
    "dataFolder = Path(\"../COVID-19-CHEST-ONLY/manifest-1645033969298/\")"
   ]
  },
  {
   "cell_type": "code",
   "execution_count": 11,
   "metadata": {},
   "outputs": [],
   "source": [
    "#PROGNOSIS: deceased = 1, discharged = 0\n",
    "prognosis = {True: 'SEVERE', False: 'MILD'}\n",
    "C19_d = C19_d.replace({'is_icu': prognosis})"
   ]
  },
  {
   "cell_type": "code",
   "execution_count": null,
   "metadata": {},
   "outputs": [],
   "source": []
  },
  {
   "cell_type": "code",
   "execution_count": 12,
   "metadata": {},
   "outputs": [],
   "source": [
    "from pydicom import dcmread, read_file\n",
    "from pydicom.pixel_data_handlers.util import apply_voi_lut\n",
    "\n",
    "# file = COVID19_data['file Path'][0] / '1-1.dcm'\n",
    "\n",
    "# ds = dcmread(file)\n",
    "# npArrayFile = ds.pixel_array "
   ]
  },
  {
   "cell_type": "code",
   "execution_count": 13,
   "metadata": {},
   "outputs": [],
   "source": [
    "def read_xray(path, voi_lut = True, fix_monochrome = True):\n",
    "    dicom = read_file(path)\n",
    "    \n",
    "    # VOI LUT (if available by DICOM device) is used to transform raw DICOM data to \"human-friendly\" view\n",
    "    if voi_lut:\n",
    "        data = apply_voi_lut(dicom.pixel_array, dicom)\n",
    "    else:\n",
    "        data = dicom.pixel_array\n",
    "               \n",
    "    # depending on this value, X-ray may look inverted - fix that:\n",
    "    if fix_monochrome and dicom.PhotometricInterpretation == \"MONOCHROME1\":\n",
    "        data = np.amax(data) - data\n",
    "        \n",
    "    data = data - np.min(data)\n",
    "    data = data / np.max(data)\n",
    "    data = (data * 255).astype(np.uint8)\n",
    "\n",
    "    # data = data.reshape(data.shape[0], data.shape[1], 1)\n",
    "    \n",
    "    return data"
   ]
  },
  {
   "cell_type": "code",
   "execution_count": 14,
   "metadata": {},
   "outputs": [],
   "source": [
    "# def save2png(dbIM,dbLab,pathIn,pathOut):\n",
    "#     pathMild = pathOut + '/MILD'\n",
    "#     pathSevere = pathOut + '/SEVERE'\n",
    "#     Path(pathMild).mkdir(parents=True, exist_ok=True)\n",
    "#     Path(pathSevere).mkdir(parents=True, exist_ok=True)\n",
    "#     i = 0\n",
    "#     for pt,ph in tqdm(zip(dbIM['File Location'],dbIM['Data Description URI']),total=len(dbIM['File Location'])):\n",
    "#         # print(ph)\n",
    "#         label = dbLab[dbLab['to_patient_id']==ph]['is_icu'].values[0]\n",
    "#         # print(label)\n",
    "#         path = pathIn / pt\n",
    "#         # print(path)\n",
    "#         path = path / '1-1.dcm'\n",
    "#         # print(path)\n",
    "#         img = read_xray(path)\n",
    "#         # print(img.shape)\n",
    "#         img = Image.fromarray(img)\n",
    "#         nameOfFile = str(i)+'_'+ph+'.png'\n",
    "#         # print(nameOfFile)\n",
    "#         i = i+1\n",
    "#         if (label == 'SEVERE'):\n",
    "#             img.save(pathSevere+'/'+nameOfFile)\n",
    "#         else:\n",
    "#             img.save(pathMild+'/'+nameOfFile)\n"
   ]
  },
  {
   "cell_type": "code",
   "execution_count": null,
   "metadata": {},
   "outputs": [],
   "source": []
  },
  {
   "cell_type": "code",
   "execution_count": 15,
   "metadata": {},
   "outputs": [],
   "source": [
    "def save2png(dbIM,dbLab,pathIn,pathOut):\n",
    "    newDB = copy.deepcopy(dbLab)\n",
    "    print(newDB.shape)\n",
    "    pathMild = pathOut + '/MILD'\n",
    "    pathSevere = pathOut + '/SEVERE'\n",
    "    Path(pathMild).mkdir(parents=True, exist_ok=True)\n",
    "    Path(pathSevere).mkdir(parents=True, exist_ok=True)\n",
    "    i = 0\n",
    "\n",
    "    newPaths = []\n",
    "\n",
    "    for patientName in tqdm(dbLab['to_patient_id']):\n",
    "    # for patientName in dbLab['to_patient_id']:\n",
    "\n",
    "        # print(patientName)\n",
    "        label = dbLab[dbLab['to_patient_id']==patientName]['is_icu'].values[0]  #value equal for all images\n",
    "\n",
    "        paths = dbIM[dbIM['Data Description URI']==patientName]['File Location']\n",
    "        dates = dbIM[dbIM['Data Description URI']==patientName]['Study Description']\n",
    "\n",
    "        dates = pd.to_datetime(dates)\n",
    "\n",
    "\n",
    "        paths.reset_index(inplace=True, drop=True)\n",
    "        dates.reset_index(inplace=True, drop=True)\n",
    "\n",
    "        # print(paths)\n",
    "        # print(dates)\n",
    "        dates = dates.sort_values()\n",
    "\n",
    "        paths = paths[dates.index]\n",
    "        # print(paths.index)\n",
    "        # print(dates)\n",
    "        # print(paths)\n",
    "\n",
    "        paths.reset_index(inplace=True, drop=True)\n",
    "        dates.reset_index(inplace=True, drop=True)\n",
    "        \n",
    "        # print(dates)\n",
    "        # print(paths)\n",
    "\n",
    "\n",
    "        # paths = dbIM[dbIM['Data Description URI']==patientName]['File Location']\n",
    "        if len(paths)==0:\n",
    "            # print(patientName)\n",
    "            #drop any rows that have 7 in the rebounds column\n",
    "            newDB = newDB[newDB.to_patient_id != patientName]\n",
    "\n",
    "        else:\n",
    "\n",
    "\n",
    "            uniques, indices, inv, counts = np.unique(dates, return_index=True, return_counts=True,return_inverse = True)\n",
    "            # print(uniques)\n",
    "            # print(indices)\n",
    "            uniquesPaths= paths[indices]\n",
    "            # print(uniquesPaths)\n",
    "\n",
    "            #take only oldest:\n",
    "\n",
    "            path = uniquesPaths[0]\n",
    "            path = pathIn / path\n",
    "            path = path / '1-1.dcm'\n",
    "            img = read_xray(path)\n",
    "            img = Image.fromarray(img)\n",
    "            nameOfFile = str(i)+'_'+patientName+'.png'\n",
    "            i = i+1\n",
    "            if (label == 'SEVERE'):\n",
    "                img.save(pathSevere+'/'+nameOfFile)\n",
    "                newPaths.append('/SEVERE'+'/'+nameOfFile)\n",
    "            else:\n",
    "                img.save(pathMild+'/'+nameOfFile)\n",
    "                newPaths.append('/MILD'+'/'+nameOfFile)\n",
    "                \n",
    "            # break\n",
    "\n",
    "            # all images:\n",
    "\n",
    "            # numImg = 0\n",
    "\n",
    "            # for pt in uniquesPaths:\n",
    "                \n",
    "                \n",
    "                \n",
    "            #     # break\n",
    "\n",
    "            #     path = pt\n",
    "            #     path = pathIn / path\n",
    "            #     path = path / '1-1.dcm'\n",
    "            #     img = read_xray(path)\n",
    "            #     img = Image.fromarray(img)\n",
    "            #     nameOfFile = str(i)+'_'+patientName+'_'+str(numImg)+'.png'\n",
    "            #     i = i+1\n",
    "            #     if (label == 'SEVERE'):\n",
    "            #         img.save(pathSevere+'/'+nameOfFile)\n",
    "            #         newPaths.append('/SEVERE'+'/'+nameOfFile)\n",
    "            #     else:\n",
    "            #         img.save(pathMild+'/'+nameOfFile)\n",
    "            #         newPaths.append('/MILD'+'/'+nameOfFile)\n",
    "\n",
    "            #     numImg = numImg + 1\n",
    "\n",
    "\n",
    "        # if (len(paths)==0 or dbIM[dbIM['Data Description URI']==patientName]['Study Date'].values[0] == 'PA'):\n",
    "        #     # print(patientName)\n",
    "        #     #drop any rows that have 7 in the rebounds column\n",
    "        #     newDB = newDB[newDB.to_patient_id != patientName]\n",
    "        # else:\n",
    "\n",
    "        #     path = paths.values[0]\n",
    "        #     path = pathIn / path\n",
    "        #     path = path / '1-1.dcm'\n",
    "        #     img = read_xray(path)\n",
    "        #     img = Image.fromarray(img)\n",
    "        #     nameOfFile = str(i)+'_'+patientName+'.png'\n",
    "        #     i = i+1\n",
    "        #     if (label == 'SEVERE'):\n",
    "        #         img.save(pathSevere+'/'+nameOfFile)\n",
    "        #         newPaths.append('/SEVERE'+'/'+nameOfFile)\n",
    "        #     else:\n",
    "        #         img.save(pathMild+'/'+nameOfFile)\n",
    "        #         newPaths.append('/MILD'+'/'+nameOfFile)\n",
    "\n",
    "    \n",
    "    #take only oldest:\n",
    "    \n",
    "    newDB['FilePaths'] = newPaths\n",
    "    print(newDB.shape)\n",
    "    newDB.to_csv(pathOut + '/newDB.csv')\n"
   ]
  },
  {
   "cell_type": "code",
   "execution_count": 16,
   "metadata": {},
   "outputs": [],
   "source": [
    "# save2png(NEW_PATH_DB,C19_d,dataFolder,'../CHEST-RAY-ONLY-LABELED-ICU-ONE-PER-PATIENT-OLDEST')"
   ]
  },
  {
   "cell_type": "code",
   "execution_count": 17,
   "metadata": {},
   "outputs": [],
   "source": [
    "# save2png(COVID19_image_NY_db,C19_d,dataFolder,'../CHEST-RAY-ONLY-LABELED-ICU-ONE-PER-PATIENT-ALL-ORDERED')"
   ]
  },
  {
   "cell_type": "code",
   "execution_count": 18,
   "metadata": {},
   "outputs": [],
   "source": [
    "from tensorflow.keras.preprocessing.image import load_img, img_to_array, smart_resize"
   ]
  },
  {
   "cell_type": "code",
   "execution_count": 19,
   "metadata": {},
   "outputs": [],
   "source": [
    "# HackDB = pd.read_excel(\"HACKATON-COVID19/trainClinData.xls\")"
   ]
  },
  {
   "cell_type": "code",
   "execution_count": 20,
   "metadata": {},
   "outputs": [],
   "source": [
    "# dataFolder = Path('HACKATON-COVID19/TrainSet/')"
   ]
  },
  {
   "cell_type": "code",
   "execution_count": 21,
   "metadata": {},
   "outputs": [],
   "source": [
    "import math"
   ]
  },
  {
   "cell_type": "code",
   "execution_count": 22,
   "metadata": {},
   "outputs": [
    {
     "name": "stdout",
     "output_type": "stream",
     "text": [
      "Looking for C:\\Users\\Michele\\.keras-ocr\\craft_mlt_25k.h5\n",
      "Looking for C:\\Users\\Michele\\.keras-ocr\\crnn_kurapan.h5\n"
     ]
    }
   ],
   "source": [
    "import keras_ocr\n",
    "\n",
    "kerasOcr_pipeline = keras_ocr.pipeline.Pipeline()"
   ]
  },
  {
   "cell_type": "code",
   "execution_count": 23,
   "metadata": {},
   "outputs": [],
   "source": [
    "def midpoint(x1, y1, x2, y2):\n",
    "    x_mid = int((x1 + x2)/2)\n",
    "    y_mid = int((y1 + y2)/2)\n",
    "    return (x_mid, y_mid)"
   ]
  },
  {
   "cell_type": "code",
   "execution_count": 24,
   "metadata": {},
   "outputs": [],
   "source": [
    "# def deleteWritings(imgPath,pipeline):\n",
    "    \n",
    "#     img = keras_ocr.tools.read(imgPath)\n",
    "#     prediction_groups = pipeline.recognize([img])\n",
    "    \n",
    "#     mask = np.zeros(img.shape[:2], dtype=\"uint8\")\n",
    "\n",
    "#     for box in prediction_groups[0]:\n",
    "#         x0, y0 = box[1][0]\n",
    "#         x1, y1 = box[1][1] \n",
    "#         x2, y2 = box[1][2]\n",
    "#         x3, y3 = box[1][3] \n",
    "        \n",
    "#         x_mid0, y_mid0 = midpoint(x1, y1, x2, y2)\n",
    "#         x_mid1, y_mi1 = midpoint(x0, y0, x3, y3)\n",
    "        \n",
    "#         thickness = int(math.sqrt( (x2 - x1)**2 + (y2 - y1)**2 ))\n",
    "        \n",
    "#         cv2.line(mask, (x_mid0, y_mid0), (x_mid1, y_mi1), 255,    \n",
    "#         thickness)\n",
    "#         img = cv2.inpaint(img, mask, 7, cv2.INPAINT_NS)\n",
    "\n",
    "#     return img"
   ]
  },
  {
   "cell_type": "code",
   "execution_count": 25,
   "metadata": {},
   "outputs": [],
   "source": [
    "def deleteWritings(imgPath,pipeline):\n",
    "    \n",
    "    img = keras_ocr.tools.read(imgPath)\n",
    "    prediction_groups = pipeline.recognize([img])\n",
    "    \n",
    "    mask = np.zeros(img.shape[:2], dtype=\"uint8\")\n",
    "\n",
    "    for box in prediction_groups[0]:\n",
    "        x0, y0 = box[1][0]\n",
    "        x1, y1 = box[1][1] \n",
    "        x2, y2 = box[1][2]\n",
    "        x3, y3 = box[1][3] \n",
    "        \n",
    "        x_mid0, y_mid0 = midpoint(x1, y1, x2, y2)\n",
    "        x_mid1, y_mi1 = midpoint(x0, y0, x3, y3)\n",
    "        \n",
    "        thickness = int(math.sqrt( (x2 - x1)**2 + (y2 - y1)**2 ))\n",
    "        \n",
    "        cv2.line(mask, (x_mid0, y_mid0), (x_mid1, y_mi1), 255,    \n",
    "        thickness)\n",
    "        img = cv2.inpaint(img, mask, 7, cv2.INPAINT_NS)\n",
    "    return img"
   ]
  },
  {
   "cell_type": "code",
   "execution_count": 26,
   "metadata": {},
   "outputs": [],
   "source": [
    "def invert_if_negative(img,quad = 200):\n",
    "    # print(img.shape)\n",
    "    # assuming image has fixed size of (1396, 1676)\n",
    "    # corners\n",
    "    top_left  = img[:quad, :quad].flatten()\n",
    "    topRPoint = img.shape[1]-quad\n",
    "    # print(topRPoint)\n",
    "    top_right = img[:quad, topRPoint:].flatten()\n",
    "    # more or less center\n",
    "\n",
    "    cLpU = math.floor(img.shape[0]/2) - quad\n",
    "    cRpU = math.floor(img.shape[0]/2) + quad\n",
    "    cLpD = math.floor(img.shape[1]/2) - quad\n",
    "    cRpD = math.floor(img.shape[1]/2) + quad\n",
    "    # print(cLpU)\n",
    "    # print(cRpU)\n",
    "    # print(cLpD)\n",
    "    # print(cRpD)\n",
    "    center    = img[cLpU:cRpU, cLpD:cRpD].flatten()\n",
    "    threshold = 127 # or computed from average\n",
    "    top_left  = top_left > threshold\n",
    "    top_right = top_right > threshold\n",
    "    center    = center > threshold\n",
    "    perc_white_corners = (sum(top_left) + sum(top_right)) / (len(top_left) + len(top_right))\n",
    "    perc_white_center = sum(center) / len(center)\n",
    "    if perc_white_corners > perc_white_center:\n",
    "        img = 255 - img\n",
    "    return img"
   ]
  },
  {
   "cell_type": "code",
   "execution_count": 27,
   "metadata": {},
   "outputs": [],
   "source": [
    "# Imports:\n",
    "import cv2\n",
    "\n",
    "# Image path\n",
    "def cv2ImEqualization(originalGrayscale,eq):\n",
    "    # Reading an image in default mode:\n",
    "    # originalGrayscale = cv2.imread(filePath, cv2.IMREAD_GRAYSCALE)\n",
    "    # print(data_directory + '/P_1_7.png')\n",
    "    # cv2.imshow(\"Image Equalized\", inputImage)\n",
    "    # cv2.waitKey(0)\n",
    "\n",
    "    # Convert RGB to grayscale:\n",
    "    # originalGrayscale = cv2.cvtColor(originalGrayscale, cv2.COLOR_BGR2GRAY)\n",
    "\n",
    "    # Equalize histogram\n",
    "    # grayscaleImage = cv2.equalizeHist(originalGrayscale)\n",
    "\n",
    "\n",
    "    # grayscaleImage = originalGrayscale\n",
    "    \n",
    "    \n",
    "    grayscaleImage = eq.apply(originalGrayscale)\n",
    "\n",
    "\n",
    "    # It might be interesting to you to check out the image equalization:\n",
    "    # cv2.imshow(\"Image Equalized\", grayscaleImage)\n",
    "    # cv2.waitKey(0)\n",
    "    \n",
    "    grayscaleImage = invert_if_negative(grayscaleImage,200)\n",
    "\n",
    "    \n",
    "    return grayscaleImage"
   ]
  },
  {
   "cell_type": "code",
   "execution_count": 28,
   "metadata": {},
   "outputs": [],
   "source": [
    "def saveFolderHackaton(dbIM,pathIn,pathOut):\n",
    "\n",
    "    clahe = cv2.createCLAHE(clipLimit=2.0, tileGridSize=(16,16))\n",
    "\n",
    "    pathMild = pathOut + '/MILD'\n",
    "    pathSevere = pathOut + '/SEVERE'\n",
    "    Path(pathMild).mkdir(parents=True, exist_ok=True)\n",
    "    Path(pathSevere).mkdir(parents=True, exist_ok=True)\n",
    "    for pt,lb in tqdm(zip(dbIM['ImageFile'],dbIM['Prognosis']),total=len(dbIM['ImageFile'])):\n",
    "        fileName = pt\n",
    "        pt = pathIn / pt\n",
    "        # print(pt)\n",
    "        img = img_to_array(load_img(pt,color_mode='grayscale'),dtype='float32')\n",
    "        img = np.amax(img) - img \n",
    "        img = img - np.min(img)\n",
    "        img = img / np.max(img)\n",
    "        img = (img * 255).astype(np.uint8)\n",
    "        img = cv2ImEqualization(img,clahe)\n",
    "        if (lb == 'SEVERE'):\n",
    "            cv2.imwrite(pathSevere+'/'+fileName,img)\n",
    "        else:\n",
    "            cv2.imwrite(pathMild+'/'+fileName,img)"
   ]
  },
  {
   "cell_type": "code",
   "execution_count": 29,
   "metadata": {},
   "outputs": [],
   "source": [
    "# def saveFolderHackaton(dbIM,pathIn,pathOut):\n",
    "#     pathMild = pathOut + '/MILD'\n",
    "#     pathSevere = pathOut + '/SEVERE'\n",
    "#     Path(pathMild).mkdir(parents=True, exist_ok=True)\n",
    "#     Path(pathSevere).mkdir(parents=True, exist_ok=True)\n",
    "#     for pt,lb in tqdm(zip(dbIM['ImageFile'],dbIM['Prognosis']),total=len(dbIM['ImageFile'])):\n",
    "#         fileName = pt\n",
    "#         pt = pathIn / pt\n",
    "#         # print(path)\n",
    "#         img = img_to_array(load_img(pt,color_mode='grayscale'),dtype='float32')\n",
    "#         img = np.amax(img) - img \n",
    "#         img = img - np.min(img)\n",
    "#         img = img / np.max(img)\n",
    "#         img = (img * 255).astype(np.uint8)\n",
    "#         img = np.squeeze(img, axis=2)  # axis=2 is channel dimension \n",
    "#         # print(img[1000,:,0])\n",
    "#         img = Image.fromarray(img)\n",
    "#         # print(nameOfFile)\n",
    "#         if (lb == 'SEVERE'):\n",
    "#             img.save(pathSevere+'/'+fileName)\n",
    "#         else:\n",
    "#             img.save(pathMild+'/'+fileName)"
   ]
  },
  {
   "cell_type": "code",
   "execution_count": 30,
   "metadata": {},
   "outputs": [],
   "source": [
    "# dataFolder = Path('LAST-DIVISION-COVID-h/TRAIN/MILD')"
   ]
  },
  {
   "cell_type": "code",
   "execution_count": 31,
   "metadata": {},
   "outputs": [],
   "source": [
    "# saveFolderHackaton(HackDB,dataFolder,'LAST-DIVISION-COVID-h-EQ/TRAIN')"
   ]
  },
  {
   "cell_type": "code",
   "execution_count": 32,
   "metadata": {},
   "outputs": [],
   "source": [
    "# # function used to reverse the color of an RX image (check the center of the image and invert if the majority is white) - not always reliable\n",
    "# def invert_if_negative(img,quad = 200):\n",
    "#     # print(img.shape)\n",
    "#     # assuming image has fixed size of (1396, 1676)\n",
    "#     # corners\n",
    "#     top_left  = img[:quad, :quad].flatten()\n",
    "#     topRPoint = img.shape[1]-quad\n",
    "#     # print(topRPoint)\n",
    "#     top_right = img[:quad, topRPoint:].flatten()\n",
    "#     # more or less center\n",
    "\n",
    "#     cLpU = math.floor(img.shape[0]/2) - quad\n",
    "#     cRpU = math.floor(img.shape[0]/2) + quad\n",
    "#     cLpD = math.floor(img.shape[1]/2) - quad\n",
    "#     cRpD = math.floor(img.shape[1]/2) + quad\n",
    "#     # print(cLpU)\n",
    "#     # print(cRpU)\n",
    "#     # print(cLpD)\n",
    "#     # print(cRpD)\n",
    "#     center    = img[cLpU:cRpU, cLpD:cRpD].flatten()\n",
    "#     threshold = 127 # or computed from average\n",
    "#     top_left  = top_left > threshold\n",
    "#     top_right = top_right > threshold\n",
    "#     center    = center > threshold\n",
    "#     perc_white_corners = (sum(top_left) + sum(top_right)) / (len(top_left) + len(top_right))\n",
    "#     perc_white_center = sum(center) / len(center)\n",
    "#     if perc_white_corners > perc_white_center:\n",
    "#         img = 255 - img\n",
    "#     return img\n",
    "\n",
    "\n",
    "# equalize images and save the equalized one:\n",
    "\n",
    "# need:\n",
    "# cv2\n",
    "# Path\n",
    "# numpy\n",
    "# tqdm (facoltativo se in for viene tolto tqdm)\n",
    "# load_img and img_to_array from tensorflow.keras.preprocessing.image\n",
    "\n",
    "def equalizeImages(pathIn,pathOut):     #pathIn = path of all images to be equalized        pathOut = path where to save equalized images\n",
    "    \n",
    "    clahe = cv2.createCLAHE(clipLimit=2.0, tileGridSize=(16,16))        # equalizer from cv2 CLAHE(Contrast Limited Adaptive Histogram Equalization) - https://docs.opencv.org/4.x/d5/daf/tutorial_py_histogram_equalization.html\n",
    "\n",
    "    Path(pathOut).mkdir(parents=True, exist_ok=True)        #create folder for path out\n",
    "\n",
    "    for pt in tqdm(os.listdir(pathIn)):         # for all paths (of images) in pathIn directory\n",
    "        fileName = pt               #name of the image\n",
    "        pt = pathIn / pt            #dir path + name of the image\n",
    "        # print(pt)\n",
    "\n",
    "        img = img_to_array(load_img(pt,color_mode='grayscale'),dtype='float32')     #load as numpy array with keras image utilities (can use cv2 to load image)\n",
    "\n",
    "        # normalize image\n",
    "        img = np.amax(img) - img \n",
    "        img = img - np.min(img)\n",
    "        img = img / np.max(img)\n",
    "        \n",
    "        # transform to image for equalization\n",
    "        img = (img * 255).astype(np.uint8)\n",
    "\n",
    "        # equalization using clahe equalizer from cv2\n",
    "        img = clahe.apply(img)\n",
    "        # img = invert_if_negative(img,200)           # other function used for invert the RX images where bones are black\n",
    "        \n",
    "        # img = cv2ImEqualization(img,clahe)        # other function used for invert the RX images where bones are black\n",
    "        \n",
    "        cv2.imwrite(pathOut+'/'+fileName,img)       # save the equalized image to the output path folder"
   ]
  },
  {
   "cell_type": "code",
   "execution_count": 33,
   "metadata": {},
   "outputs": [],
   "source": [
    "# # function used to reverse the color of an RX image (check the center of the image and invert if the majority is white) - not always reliable\n",
    "# def invert_if_negative(img,quad = 200):\n",
    "#     # print(img.shape)\n",
    "#     # assuming image has fixed size of (1396, 1676)\n",
    "#     # corners\n",
    "#     top_left  = img[:quad, :quad].flatten()\n",
    "#     topRPoint = img.shape[1]-quad\n",
    "#     # print(topRPoint)\n",
    "#     top_right = img[:quad, topRPoint:].flatten()\n",
    "#     # more or less center\n",
    "\n",
    "#     cLpU = math.floor(img.shape[0]/2) - quad\n",
    "#     cRpU = math.floor(img.shape[0]/2) + quad\n",
    "#     cLpD = math.floor(img.shape[1]/2) - quad\n",
    "#     cRpD = math.floor(img.shape[1]/2) + quad\n",
    "#     # print(cLpU)\n",
    "#     # print(cRpU)\n",
    "#     # print(cLpD)\n",
    "#     # print(cRpD)\n",
    "#     center    = img[cLpU:cRpU, cLpD:cRpD].flatten()\n",
    "#     threshold = 127 # or computed from average\n",
    "#     top_left  = top_left > threshold\n",
    "#     top_right = top_right > threshold\n",
    "#     center    = center > threshold\n",
    "#     perc_white_corners = (sum(top_left) + sum(top_right)) / (len(top_left) + len(top_right))\n",
    "#     perc_white_center = sum(center) / len(center)\n",
    "#     if perc_white_corners > perc_white_center:\n",
    "#         img = 255 - img\n",
    "#     return img\n",
    "\n",
    "\n",
    "# equalize images and save the equalized one:\n",
    "\n",
    "# need:\n",
    "# cv2\n",
    "# Path\n",
    "# numpy\n",
    "# tqdm (facoltativo se in for viene tolto tqdm)\n",
    "# load_img and img_to_array from tensorflow.keras.preprocessing.image\n",
    "\n",
    "def equalizeImages(pathIn,pathOut):     #pathIn = path of all images to be equalized        pathOut = path where to save equalized images\n",
    "    \n",
    "    clahe = cv2.createCLAHE(clipLimit=2.0, tileGridSize=(16,16))        # equalizer from cv2 CLAHE(Contrast Limited Adaptive Histogram Equalization) - https://docs.opencv.org/4.x/d5/daf/tutorial_py_histogram_equalization.html\n",
    "\n",
    "    Path(pathOut).mkdir(parents=True, exist_ok=True)        #create folder for path out\n",
    "\n",
    "    for pt in tqdm(os.listdir(pathIn)):         # for all paths (of images) in pathIn directory\n",
    "        fileName = pt               #name of the image\n",
    "        pt = pathIn / pt            #dir path + name of the image\n",
    "        # print(pt)\n",
    "\n",
    "        img = img_to_array(load_img(pt,color_mode='grayscale'),dtype='float32')     #load as numpy array with keras image utilities (can use cv2 to load image)\n",
    "\n",
    "        # normalize image\n",
    "        img = np.amax(img) - img \n",
    "        img = img - np.min(img)\n",
    "        img = img / np.max(img)\n",
    "        \n",
    "        # transform to image for equalization\n",
    "        img = (img * 255).astype(np.uint8)\n",
    "\n",
    "        # equalization using clahe equalizer from cv2\n",
    "        img = clahe.apply(img)\n",
    "        # img = invert_if_negative(img,200)           # other function used for invert the RX images where bones are black\n",
    "        \n",
    "        cv2.imwrite(pathOut+'/'+fileName,img)       # save the equalized image to the output path folder"
   ]
  },
  {
   "cell_type": "code",
   "execution_count": 34,
   "metadata": {},
   "outputs": [],
   "source": [
    "# outputPath = Path('../FirstImageInTimeNYPNG')"
   ]
  },
  {
   "cell_type": "code",
   "execution_count": 35,
   "metadata": {},
   "outputs": [],
   "source": [
    "# dataFolder = Path('LAST-DIVISION-COVID-h/TRAIN/MILD')\n",
    "# equalizeImages(dataFolder,'LAST-DIVISION-COVID-h-EQ/TRAIN/MILD')\n",
    "# dataFolder = Path('LAST-DIVISION-COVID-h/TRAIN/SEVERE')\n",
    "# equalizeImages(dataFolder,'LAST-DIVISION-COVID-h-EQ/TRAIN/SEVERE')\n",
    "# dataFolder = Path('LAST-DIVISION-COVID-h/VAL/MILD')\n",
    "# equalizeImages(dataFolder,'LAST-DIVISION-COVID-h-EQ/VAL/MILD')\n",
    "# dataFolder = Path('LAST-DIVISION-COVID-h/VAL/SEVERE')\n",
    "# equalizeImages(dataFolder,'LAST-DIVISION-COVID-h-EQ/VAL/SEVERE')\n",
    "# dataFolder = Path('LAST-DIVISION-COVID-h/TEST/MILD')\n",
    "# equalizeImages(dataFolder,'LAST-DIVISION-COVID-h-EQ/TEST/MILD')\n",
    "# dataFolder = Path('LAST-DIVISION-COVID-h/TEST/SEVERE')\n",
    "# equalizeImages(dataFolder,'LAST-DIVISION-COVID-h-EQ/TEST/SEVERE')"
   ]
  },
  {
   "cell_type": "code",
   "execution_count": 36,
   "metadata": {},
   "outputs": [],
   "source": [
    "import os"
   ]
  },
  {
   "cell_type": "code",
   "execution_count": 37,
   "metadata": {},
   "outputs": [],
   "source": [
    "def dText(pathIn,pathOut):\n",
    "    Path(pathOut).mkdir(parents=True, exist_ok=True)\n",
    "    for filename in tqdm(os.listdir(pathIn)):\n",
    "        f = pathIn / filename\n",
    "        fo = pathOut / filename\n",
    "\n",
    "\n",
    "        img = deleteWritings(str(f),kerasOcr_pipeline)\n",
    "        # img = cv2.cvtColor(img, cv2.COLOR_BGR2GRAY)\n",
    "        cv2.imwrite(str(fo),img)"
   ]
  },
  {
   "cell_type": "code",
   "execution_count": null,
   "metadata": {},
   "outputs": [],
   "source": [
    "imgColorPath = []\n",
    "imgDepthPath = []\n",
    "\n",
    "for pathFile in os.listdir('HR'):\n",
    "    if cartellaPadreDiPathfile == 'color':              # trovare il modo di prendere solo i path dei file che sono all'interno delle cartelle color\n",
    "        imgColorPath.append(pathFile)\n",
    "    if cartellaPadreDiPathfile == 'depth_vi':           # trovare il modo di prendere solo i path dei file che sono all'interno delle cartelle depth_vi\n",
    "        imgDepthPath.append(pathFile)\n",
    "\n",
    "\n",
    "print(imgColorPath)     #ritorna la lista di tutti i path di immagini color\n",
    "\n",
    "\n",
    "imgColorPath = imgColorPath.sort()\n",
    "imgDepthPath = imgDepthPath.sort()\n",
    "\n",
    "\n",
    "X_tr,Y_tr,X_vl,Y_vl = train_test_split(imgColorPath,imgDepthPath, test_size=0.2,shuffle=True)\n",
    "\n",
    "\n",
    "X_trIMG = loadPNGtoArray(X_tr)\n",
    "Y_trIMG = loadPNGtoArray(Y_tr)\n",
    "X_vlIMG = loadPNGtoArray(X_vl)\n",
    "Y_vlIMG = loadPNGtoArray(Y_vl)\n",
    "\n"
   ]
  },
  {
   "cell_type": "code",
   "execution_count": 38,
   "metadata": {},
   "outputs": [],
   "source": [
    "# pathIn = Path('LAST-DIVISION-COVID-h-EQ/TRAIN/MILD')\n",
    "# pathOut = Path('LAST-DIVISION-COVID-h-NO-TEXT/TRAIN/MILD')\n",
    "# dText(pathIn,pathOut)\n",
    "# pathIn = Path('LAST-DIVISION-COVID-h-EQ/TRAIN/SEVERE')\n",
    "# pathOut = Path('LAST-DIVISION-COVID-h-NO-TEXT/TRAIN/SEVERE')\n",
    "# dText(pathIn,pathOut)\n",
    "# pathIn = Path('LAST-DIVISION-COVID-h-EQ/VAL/MILD')\n",
    "# pathOut = Path('LAST-DIVISION-COVID-h-NO-TEXT/VAL/MILD')\n",
    "# dText(pathIn,pathOut)\n",
    "# pathIn = Path('LAST-DIVISION-COVID-h-EQ/VAL/SEVERE')\n",
    "# pathOut = Path('LAST-DIVISION-COVID-h-NO-TEXT/VAL/SEVERE')\n",
    "# dText(pathIn,pathOut)\n",
    "# pathIn = Path('LAST-DIVISION-COVID-h-EQ/TEST/MILD')\n",
    "# pathOut = Path('LAST-DIVISION-COVID-h-NO-TEXT/TEST/MILD')\n",
    "# dText(pathIn,pathOut)\n",
    "# pathIn = Path('LAST-DIVISION-COVID-h-EQ/TEST/SEVERE')\n",
    "# pathOut = Path('LAST-DIVISION-COVID-h-NO-TEXT/TEST/SEVERE')\n",
    "# dText(pathIn,pathOut)"
   ]
  },
  {
   "cell_type": "code",
   "execution_count": 39,
   "metadata": {},
   "outputs": [],
   "source": [
    "# def EqAndSave(img,pathOut,fileName):\n",
    "#     img = np.amax(img) - img \n",
    "#     img = img - np.min(img)\n",
    "#     img = img / np.max(img)\n",
    "#     img = (img * 255).astype(np.uint8)\n",
    "#     img = cv2ImEqualization(img)\n",
    "#     cv2.imwrite(fileName,img)\n"
   ]
  },
  {
   "cell_type": "code",
   "execution_count": 40,
   "metadata": {},
   "outputs": [],
   "source": [
    "# import os\n",
    "# for filename in tqdm(os.listdir(pathIn)):\n",
    "#     f = pathIn / filename\n",
    "#     fo = pathOut / filename\n",
    "#     img = deleteWritings(str(f),kerasOcr_pipeline)\n",
    "\n",
    "#     # img = cv2.cvtColor(img, cv2.COLOR_BGR2GRAY)\n",
    "#     cv2.imwrite(str(fo),img)\n"
   ]
  },
  {
   "cell_type": "code",
   "execution_count": 41,
   "metadata": {},
   "outputs": [],
   "source": [
    "# pathIn = Path('LAST-DIVISION-COVID-h-EQ/TRAIN/SEVERE')\n",
    "# pathOut = Path('LAST-DIVISION-COVID-h-NO-TEXT/TRAIN/SEVERE')"
   ]
  },
  {
   "cell_type": "code",
   "execution_count": 42,
   "metadata": {},
   "outputs": [],
   "source": [
    "# import os\n",
    "# for filename in tqdm(os.listdir(pathIn)):\n",
    "#     f = pathIn / filename\n",
    "#     fo = pathOut / filename\n",
    "#     img = deleteWritings(str(f),kerasOcr_pipeline)\n",
    "\n",
    "#     # img = cv2.cvtColor(img, cv2.COLOR_BGR2GRAY)\n",
    "#     cv2.imwrite(str(fo),img)"
   ]
  },
  {
   "cell_type": "code",
   "execution_count": 43,
   "metadata": {},
   "outputs": [],
   "source": [
    "\n",
    "\n",
    "# # mild:\n",
    "\n",
    "# pathIn = Path('../CHEST-RAY-ONLY-LABELED-ICU-ONE-PER-PATIENT-OLDEST/WITH TEXT/MILD')\n",
    "# pathOut = Path('../CHEST-RAY-ONLY-LABELED-ICU-ONE-PER-PATIENT-OLDEST/MILD')\n",
    "\n",
    "# dText(pathIn,pathOut)\n",
    "# pathOutEQ = Path('../CHEST-RAY-ONLY-LABELED-ICU-ONE-PER-PATIENT-OLDEST/EQUALIZED/MILD')\n",
    "# equalizeImages(pathOut,str(pathOutEQ))\n",
    "\n",
    "# # severe:\n",
    "\n",
    "# pathIn = Path('../CHEST-RAY-ONLY-LABELED-ICU-ONE-PER-PATIENT-OLDEST/WITH TEXT/SEVERE')\n",
    "# pathOut = Path('../CHEST-RAY-ONLY-LABELED-ICU-ONE-PER-PATIENT-OLDEST/SEVERE')\n",
    "\n",
    "# dText(pathIn,pathOut)\n",
    "# pathOutEQ = Path('../CHEST-RAY-ONLY-LABELED-ICU-ONE-PER-PATIENT-OLDEST/EQUALIZED/SEVERE')\n",
    "# equalizeImages(pathOut,str(pathOutEQ))"
   ]
  },
  {
   "cell_type": "code",
   "execution_count": 44,
   "metadata": {},
   "outputs": [],
   "source": [
    "# # TESTSET:\n",
    "\n",
    "# dataFolder = Path('FINAL-TESTSET/TestSet')\n",
    "# equalizeImages(dataFolder,'FINAL-TESTSET/TESTSET-EQ')\n",
    "\n",
    "# pathIn = Path('FINAL-TESTSET/TESTSET-EQ')\n",
    "# pathOut = Path('FINAL-TESTSET/TESTSET-EQ-NO-TEXT')\n",
    "# dText(pathIn,pathOut)"
   ]
  },
  {
   "cell_type": "code",
   "execution_count": 45,
   "metadata": {},
   "outputs": [],
   "source": [
    "from keras.models import load_model\n",
    "from tensorflow.keras.preprocessing import image_dataset_from_directory"
   ]
  },
  {
   "cell_type": "code",
   "execution_count": 46,
   "metadata": {},
   "outputs": [
    {
     "name": "stdout",
     "output_type": "stream",
     "text": [
      "WARNING:tensorflow:Error in loading the saved optimizer state. As a result, your model is starting with a freshly initialized optimizer.\n"
     ]
    }
   ],
   "source": [
    "# modello per segmentazione:\n",
    "segmentationModel = load_model('../TOOLS/trained_model.hdf5')"
   ]
  },
  {
   "cell_type": "code",
   "execution_count": 47,
   "metadata": {},
   "outputs": [
    {
     "name": "stdout",
     "output_type": "stream",
     "text": [
      "Model: \"model_1\"\n",
      "__________________________________________________________________________________________________\n",
      " Layer (type)                   Output Shape         Param #     Connected to                     \n",
      "==================================================================================================\n",
      " input_1 (InputLayer)           [(None, 256, 256, 1  0           []                               \n",
      "                                )]                                                                \n",
      "                                                                                                  \n",
      " conv2d_1 (Conv2D)              (None, 256, 256, 32  320         ['input_1[0][0]']                \n",
      "                                )                                                                 \n",
      "                                                                                                  \n",
      " conv2d_2 (Conv2D)              (None, 256, 256, 32  9248        ['conv2d_1[0][0]']               \n",
      "                                )                                                                 \n",
      "                                                                                                  \n",
      " max_pooling2d_1 (MaxPooling2D)  (None, 128, 128, 32  0          ['conv2d_2[0][0]']               \n",
      "                                )                                                                 \n",
      "                                                                                                  \n",
      " conv2d_3 (Conv2D)              (None, 128, 128, 64  18496       ['max_pooling2d_1[0][0]']        \n",
      "                                )                                                                 \n",
      "                                                                                                  \n",
      " conv2d_4 (Conv2D)              (None, 128, 128, 64  36928       ['conv2d_3[0][0]']               \n",
      "                                )                                                                 \n",
      "                                                                                                  \n",
      " max_pooling2d_2 (MaxPooling2D)  (None, 64, 64, 64)  0           ['conv2d_4[0][0]']               \n",
      "                                                                                                  \n",
      " conv2d_5 (Conv2D)              (None, 64, 64, 64)   36928       ['max_pooling2d_2[0][0]']        \n",
      "                                                                                                  \n",
      " conv2d_6 (Conv2D)              (None, 64, 64, 64)   36928       ['conv2d_5[0][0]']               \n",
      "                                                                                                  \n",
      " max_pooling2d_3 (MaxPooling2D)  (None, 32, 32, 64)  0           ['conv2d_6[0][0]']               \n",
      "                                                                                                  \n",
      " conv2d_7 (Conv2D)              (None, 32, 32, 128)  73856       ['max_pooling2d_3[0][0]']        \n",
      "                                                                                                  \n",
      " conv2d_8 (Conv2D)              (None, 32, 32, 128)  147584      ['conv2d_7[0][0]']               \n",
      "                                                                                                  \n",
      " max_pooling2d_4 (MaxPooling2D)  (None, 16, 16, 128)  0          ['conv2d_8[0][0]']               \n",
      "                                                                                                  \n",
      " conv2d_9 (Conv2D)              (None, 16, 16, 256)  295168      ['max_pooling2d_4[0][0]']        \n",
      "                                                                                                  \n",
      " up_sampling2d_1 (UpSampling2D)  (None, 32, 32, 256)  0          ['conv2d_9[0][0]']               \n",
      "                                                                                                  \n",
      " conv2d_10 (Conv2D)             (None, 32, 32, 256)  590080      ['up_sampling2d_1[0][0]']        \n",
      "                                                                                                  \n",
      " conv2d_11 (Conv2D)             (None, 32, 32, 256)  590080      ['conv2d_10[0][0]']              \n",
      "                                                                                                  \n",
      " concatenate_1 (Concatenate)    (None, 32, 32, 384)  0           ['conv2d_8[0][0]',               \n",
      "                                                                  'conv2d_11[0][0]']              \n",
      "                                                                                                  \n",
      " conv2d_12 (Conv2D)             (None, 32, 32, 256)  884992      ['concatenate_1[0][0]']          \n",
      "                                                                                                  \n",
      " up_sampling2d_2 (UpSampling2D)  (None, 64, 64, 256)  0          ['conv2d_12[0][0]']              \n",
      "                                                                                                  \n",
      " conv2d_13 (Conv2D)             (None, 64, 64, 256)  590080      ['up_sampling2d_2[0][0]']        \n",
      "                                                                                                  \n",
      " conv2d_14 (Conv2D)             (None, 64, 64, 256)  590080      ['conv2d_13[0][0]']              \n",
      "                                                                                                  \n",
      " concatenate_2 (Concatenate)    (None, 64, 64, 320)  0           ['conv2d_6[0][0]',               \n",
      "                                                                  'conv2d_14[0][0]']              \n",
      "                                                                                                  \n",
      " conv2d_15 (Conv2D)             (None, 64, 64, 256)  737536      ['concatenate_2[0][0]']          \n",
      "                                                                                                  \n",
      " up_sampling2d_3 (UpSampling2D)  (None, 128, 128, 25  0          ['conv2d_15[0][0]']              \n",
      "                                6)                                                                \n",
      "                                                                                                  \n",
      " conv2d_16 (Conv2D)             (None, 128, 128, 12  295040      ['up_sampling2d_3[0][0]']        \n",
      "                                8)                                                                \n",
      "                                                                                                  \n",
      " conv2d_17 (Conv2D)             (None, 128, 128, 12  147584      ['conv2d_16[0][0]']              \n",
      "                                8)                                                                \n",
      "                                                                                                  \n",
      " concatenate_3 (Concatenate)    (None, 128, 128, 19  0           ['conv2d_4[0][0]',               \n",
      "                                2)                                'conv2d_17[0][0]']              \n",
      "                                                                                                  \n",
      " conv2d_18 (Conv2D)             (None, 128, 128, 12  221312      ['concatenate_3[0][0]']          \n",
      "                                8)                                                                \n",
      "                                                                                                  \n",
      " up_sampling2d_4 (UpSampling2D)  (None, 256, 256, 12  0          ['conv2d_18[0][0]']              \n",
      "                                8)                                                                \n",
      "                                                                                                  \n",
      " conv2d_19 (Conv2D)             (None, 256, 256, 64  73792       ['up_sampling2d_4[0][0]']        \n",
      "                                )                                                                 \n",
      "                                                                                                  \n",
      " conv2d_20 (Conv2D)             (None, 256, 256, 64  36928       ['conv2d_19[0][0]']              \n",
      "                                )                                                                 \n",
      "                                                                                                  \n",
      " concatenate_4 (Concatenate)    (None, 256, 256, 96  0           ['conv2d_2[0][0]',               \n",
      "                                )                                 'conv2d_20[0][0]']              \n",
      "                                                                                                  \n",
      " conv2d_21 (Conv2D)             (None, 256, 256, 64  55360       ['concatenate_4[0][0]']          \n",
      "                                )                                                                 \n",
      "                                                                                                  \n",
      " conv2d_22 (Conv2D)             (None, 256, 256, 1)  577         ['conv2d_21[0][0]']              \n",
      "                                                                                                  \n",
      "==================================================================================================\n",
      "Total params: 5,468,897\n",
      "Trainable params: 5,468,897\n",
      "Non-trainable params: 0\n",
      "__________________________________________________________________________________________________\n"
     ]
    }
   ],
   "source": [
    "segmentationModel.summary()"
   ]
  },
  {
   "cell_type": "code",
   "execution_count": 48,
   "metadata": {},
   "outputs": [
    {
     "name": "stdout",
     "output_type": "stream",
     "text": [
      "Found 1022 files belonging to 1 classes.\n"
     ]
    }
   ],
   "source": [
    "inputImages = image_dataset_from_directory(\n",
    "    '../CHEST-RAY-ONLY-LABELED-ICU-ONE-PER-PATIENT-OLDEST/EQUALIZED/A/',\n",
    "    label_mode=None,\n",
    "    class_names=None,\n",
    "    color_mode=\"grayscale\",\n",
    "    batch_size=1,\n",
    "    image_size=(256, 256),\n",
    "    shuffle=False,\n",
    "    seed=None,\n",
    "    validation_split=None,\n",
    "    subset=None,\n",
    "    interpolation=\"bilinear\",\n",
    "    follow_links=False,\n",
    "    crop_to_aspect_ratio=False,\n",
    ")"
   ]
  },
  {
   "cell_type": "code",
   "execution_count": 49,
   "metadata": {},
   "outputs": [
    {
     "data": {
      "image/png": "[encoded data removed]",
      "text/plain": [
       "<Figure size 432x288 with 1 Axes>"
      ]
     },
     "metadata": {
      "needs_background": "light"
     },
     "output_type": "display_data"
    }
   ],
   "source": [
    "for images in inputImages.take(1):\n",
    "    plt.imshow(images[0].numpy().astype(\"uint8\"), cmap='gray')\n",
    "    plt.axis(\"off\")"
   ]
  },
  {
   "cell_type": "markdown",
   "metadata": {},
   "source": [
    "## segmentation"
   ]
  },
  {
   "cell_type": "code",
   "execution_count": 50,
   "metadata": {},
   "outputs": [],
   "source": [
    "sys.path.append('../TOOLS/COVIDCXRChallenge-main')"
   ]
  },
  {
   "cell_type": "code",
   "execution_count": 51,
   "metadata": {},
   "outputs": [],
   "source": [
    "import src.utils.util_segmentation as util_segmentation"
   ]
  },
  {
   "cell_type": "code",
   "execution_count": 52,
   "metadata": {},
   "outputs": [],
   "source": [
    "import skimage.measure as measure"
   ]
  },
  {
   "cell_type": "code",
   "execution_count": 53,
   "metadata": {},
   "outputs": [],
   "source": [
    "databasePath = Path('../CHEST-RAY-ONLY-LABELED-ICU-ONE-PER-PATIENT-OLDEST/newDB.csv')\n",
    "databasePathIMAGES = Path('../CHEST-RAY-ONLY-LABELED-ICU-ONE-PER-PATIENT-OLDEST/EQUALIZED/')"
   ]
  },
  {
   "cell_type": "code",
   "execution_count": 54,
   "metadata": {},
   "outputs": [],
   "source": [
    "COVID19 = pd.read_csv(databasePath)"
   ]
  },
  {
   "cell_type": "code",
   "execution_count": 55,
   "metadata": {},
   "outputs": [],
   "source": [
    "paths = pd.DataFrame(COVID19[['FilePaths']])"
   ]
  },
  {
   "cell_type": "code",
   "execution_count": 56,
   "metadata": {},
   "outputs": [],
   "source": [
    "imgDirs = []\n",
    "for p in paths['FilePaths']:\n",
    "    pt = str(str(databasePathIMAGES) + str(Path(p)))\n",
    "    # print(Path(pt))\n",
    "    imgDirs.append(pt)\n",
    "\n",
    "# print(imgDirs)"
   ]
  },
  {
   "cell_type": "code",
   "execution_count": 57,
   "metadata": {},
   "outputs": [],
   "source": [
    "n_test = len(inputImages)\n",
    "inp_shape = 0\n",
    "for images in inputImages.take(1):\n",
    "    inp_shape = images[0].numpy().astype(\"uint8\").shape\n",
    "    "
   ]
  },
  {
   "cell_type": "code",
   "execution_count": 58,
   "metadata": {},
   "outputs": [],
   "source": [
    "im_shape = (256,256)"
   ]
  },
  {
   "cell_type": "code",
   "execution_count": 59,
   "metadata": {},
   "outputs": [
    {
     "name": "stdout",
     "output_type": "stream",
     "text": [
      "1022\n",
      "(256, 256, 1)\n"
     ]
    }
   ],
   "source": [
    "print(n_test)\n",
    "print(inp_shape)"
   ]
  },
  {
   "cell_type": "code",
   "execution_count": 60,
   "metadata": {},
   "outputs": [],
   "source": [
    "i = 0\n",
    "# Bounding Boxes\n",
    "dx_box = []\n",
    "sx_box = []\n",
    "all_box = []"
   ]
  },
  {
   "cell_type": "code",
   "execution_count": 95,
   "metadata": {},
   "outputs": [],
   "source": [
    "# pathIn = databasePathIMAGES / Path('SEVERE')\n",
    "# pathIn = Path('../../FUSION 2022/DATABASE_CNN/Img_Full_Size_From_DICOM_EQ')\n",
    "# pathIn = Path('../CHEST-RAY-ONLY-LABELED-ICU-ONE-PER-PATIENT-OLDEST/EQUALIZED/MILD')\n",
    "pathIn = Path('../CHEST-RAY-ONLY-LABELED-ICU-ALL-ORDERED/SEVERE')\n",
    "\n",
    "# Img_Full_Size_From_DICOM_EQ\n",
    "\n",
    "pathOut = Path('../CHEST-RAY-ONLY-LABELED-ICU-ALL-ORDERED/SEGMENTATION/SEVERE')\n",
    "# pathOut = Path('../CHEST-RAY-ONLY-LABELED-ICU-ONE-PER-PATIENT-OLDEST/SEGMENTATION/MILD')\n",
    "# pathOut = Path('../../FUSION 2022/DATABASE_CNN/Img_Full_Size_From_DICOM_SEGMENTATION')"
   ]
  },
  {
   "cell_type": "code",
   "execution_count": 96,
   "metadata": {},
   "outputs": [],
   "source": [
    "from skimage import morphology, transform"
   ]
  },
  {
   "cell_type": "code",
   "execution_count": 97,
   "metadata": {},
   "outputs": [],
   "source": [
    "def remove_small_regions(img, size):\n",
    "    \"\"\"Morphologically removes small (less than size) connected regions of 0s or 1s.\"\"\"\n",
    "    img = morphology.remove_small_objects(img, size)\n",
    "    img = morphology.remove_small_holes(img, size)\n",
    "    return img"
   ]
  },
  {
   "cell_type": "code",
   "execution_count": 98,
   "metadata": {},
   "outputs": [
    {
     "name": "stderr",
     "output_type": "stream",
     "text": [
      "100%|██████████| 2631/2631 [17:15<00:00,  2.54it/s]"
     ]
    },
    {
     "name": "stdout",
     "output_type": "stream",
     "text": [
      "number of not segmented images: 2628\n"
     ]
    },
    {
     "name": "stderr",
     "output_type": "stream",
     "text": [
      "\n"
     ]
    }
   ],
   "source": [
    "\n",
    "Path(pathOut).mkdir(parents=True, exist_ok=True)\n",
    "\n",
    "notsegmented = 0\n",
    "\n",
    "\n",
    "for filename in tqdm(os.listdir(pathIn)):\n",
    "    f = pathIn / filename\n",
    "    fo = Path(pathOut) / filename\n",
    "\n",
    "    \n",
    "    # print(f)\n",
    "\n",
    "\n",
    "\n",
    "    fullImg = np.asarray(load_img(f,color_mode=\"grayscale\"))\n",
    "\n",
    "    # print(fullImg.shape)\n",
    "    \n",
    "    img = np.asarray(load_img(f,target_size=(256,256),color_mode=\"grayscale\"))\n",
    "\n",
    "    imgNorm = (img - np.min(img)) / (np.max(img) - np.min(img))\n",
    "\n",
    "    imgNorm = np.expand_dims(imgNorm, axis=2)\n",
    "    imgNorm = np.expand_dims(imgNorm, axis=0)\n",
    "    \n",
    "    # print(imgNorm.shape)\n",
    "\n",
    "    pred = segmentationModel.predict(imgNorm,verbose = 0)[..., 0].reshape(inp_shape[:2])\n",
    "\n",
    "    ppr = pred > 0.05\n",
    "    # print(pred.shape)\n",
    "    pr = pred > 0.4\n",
    "\n",
    "    pr = remove_small_regions(pr, 0.02 * np.prod(im_shape))\n",
    "\n",
    "    pr = transform.resize(pr,(fullImg.shape))\n",
    "    # print(pr.shape)\n",
    "\n",
    "    lbl = measure.label(pr)\n",
    "    # print(lbl)\n",
    "    props = measure.regionprops(lbl)\n",
    "    # print(len(props))\n",
    "\n",
    "    bbox = pred\n",
    "\n",
    "    # plt.figure()\n",
    "    # plt.imshow(pr, cmap='gray')\n",
    "    # plt.axis(\"off\")\n",
    "    dx_box = []\n",
    "    sx_box = []\n",
    "\n",
    "    # # BOUNDING BOX SAVE\n",
    "    # #>>>>>>>>>>>>>>>>>>>>>>>>>>>>>>>>>>>>>>>>>>>>>>>>>>>>>>>>>>\n",
    "\n",
    "    # if len(props) >= 2:\n",
    "    #     box_1 = props[0].bbox\n",
    "    #     box_2 = props[1].bbox\n",
    "\n",
    "    #     if box_1[1] < box_2[1]:\n",
    "    #         dx_box.append(list(box_1))\n",
    "    #         sx_box.append(list(box_2))\n",
    "    #     else:\n",
    "    #         dx_box.append(list(box_2))\n",
    "    #         sx_box.append(list(box_1))\n",
    "    #     # get box for both lungs\n",
    "    #     props = measure.regionprops(pr.astype(\"int64\"))\n",
    "    #     if len(props) == 1:\n",
    "    #         dx_box.append([0, 0, lbl.shape[0], lbl.shape[1]])\n",
    "    # else:\n",
    "    #     # dx_box.append(None)\n",
    "    #     # sx_box.append(None)\n",
    "    #     dx_box.append([0, 0, lbl.shape[0], lbl.shape[1]])\n",
    "    #     notsegmented = notsegmented +1\n",
    "\n",
    "    # i += 1\n",
    "    # if i == n_test:\n",
    "    #     break\n",
    "    \n",
    "    # print(dx_box)\n",
    "    # print(sx_box)\n",
    "\n",
    "    # # maskedImg = np.zeros((fullImg.shape[1],fullImg.shape[0]))\n",
    "    # maskedImg = np.zeros((fullImg.shape))\n",
    "    # # maskedImg = np.zeros((fullImg.shape[0],fullImg.shape[1]))\n",
    "    # # print(maskedImg.shape)\n",
    "\n",
    "    # # plt.figure()\n",
    "    # # plt.imshow(fullImg, cmap='gray')\n",
    "\n",
    "\n",
    "    # if (len(dx_box)>0):\n",
    "    #     # print(dx_box[0])\n",
    "    #     x1, y1, x2, y2 = dx_box[0]\n",
    "    #     maskedImg[x1:x2,y1:y2] = fullImg[x1:x2,y1:y2]\n",
    "\n",
    "    # if (len(sx_box)>0):\n",
    "    #     x1, y1, x2, y2 = sx_box[0]\n",
    "    #     maskedImg[x1:x2,y1:y2] = fullImg[x1:x2,y1:y2]\n",
    "\n",
    "    # # maskedImg = maskedImg > 0.5\n",
    "    \n",
    "    # # plt.figure()\n",
    "    # # plt.imshow(maskedImg, cmap='gray')\n",
    "\n",
    "\n",
    "    # # maskedImg = Image.fromarray((maskedImg)*255,'L')\n",
    "    \n",
    "    # # img = deleteWritings(str(f),kerasOcr_pipeline)\n",
    "    # # img = cv2.cvtColor(img, cv2.COLOR_BGR2GRAY)\n",
    "    # cv2.imwrite(str(fo),maskedImg)\n",
    "\n",
    "# # <<<<<<<<<<<<<<<<<<<<<<<<<<<<<<<<<<<<<<<<<<<<<<<<<<<<<<<<<<<<<<<<<<<<\n",
    "\n",
    "\n",
    "    # # SHAPE ONLY\n",
    "    # #>>>>>>>>>>>>>>>>>>>>>>>>>>>>>>>>>>>>>>>>>>>>>>>>>>>>>>>>>>>>>>>>>>>>>>>>>\n",
    "\n",
    "\n",
    "    ppr = remove_small_regions(ppr, 0.02 * np.prod(im_shape))\n",
    "\n",
    "    ppr = transform.resize(ppr,(fullImg.shape))\n",
    "    ppr = ppr<0.5\n",
    "    maskedImg = fullImg\n",
    "    if len(props) >= 2:\n",
    "        #found something\n",
    "        maskedImg[ppr] = 0\n",
    "\n",
    "        # plt.figure()\n",
    "        # plt.imshow(maskedImg, cmap='gray')\n",
    "    \n",
    "    else:\n",
    "        #not found any\n",
    "        # print('lol')\n",
    "        notsegmented = notsegmented +1\n",
    "\n",
    "\n",
    "    \n",
    "    cv2.imwrite(str(fo),maskedImg)\n",
    "\n",
    "# #<<<<<<<<<<<<<<<<<<<<<<<<<<<<<<<<<<<<<<<<<<<<<<<<<<<<<<<<<<<<<<<<<<<<<<\n",
    "\n",
    "print('number of not segmented images: '+str(notsegmented))\n"
   ]
  },
  {
   "cell_type": "code",
   "execution_count": 99,
   "metadata": {},
   "outputs": [],
   "source": [
    "# for el in tqdm(inputImages):\n",
    "#     for xx in inputImages.take(1):\n",
    "#         xx = xx[0]\n",
    "#         xxNorm = xx/255.0\n",
    "#         print(xx.shape)\n",
    "\n",
    "#         pred = segmentationModel.predict(np.expand_dims(xxNorm, axis=0))[..., 0].reshape(inp_shape[:2])\n",
    "\n",
    "#         pred = pred > 0.5\n",
    "#         pred = np.expand_dims(pred, axis=2)\n",
    "#         pred = pred.astype(np.uint8)\n",
    "\n",
    "#         inputImg = xx.numpy()\n",
    "\n",
    "#         # print(pred.shape)\n",
    "        \n",
    "#         masked = cv2.bitwise_and(inputImg, inputImg, mask=pred)\n",
    "\n",
    "#         plt.figure()\n",
    "#         plt.imshow(masked, cmap='gray')\n",
    "#         plt.axis(\"off\")\n",
    "\n",
    "        \n",
    "#     break"
   ]
  },
  {
   "cell_type": "code",
   "execution_count": 100,
   "metadata": {},
   "outputs": [],
   "source": [
    "# p = segmentationModel.predict(inputImages)"
   ]
  },
  {
   "cell_type": "code",
   "execution_count": 101,
   "metadata": {},
   "outputs": [],
   "source": [
    "# p[0]"
   ]
  },
  {
   "cell_type": "code",
   "execution_count": 102,
   "metadata": {},
   "outputs": [],
   "source": [
    "# plt.figure()\n",
    "# plt.imshow(p[0], cmap='gray')\n",
    "# plt.axis(\"off\")"
   ]
  },
  {
   "cell_type": "code",
   "execution_count": 103,
   "metadata": {},
   "outputs": [],
   "source": [
    "from PIL import Image"
   ]
  },
  {
   "cell_type": "code",
   "execution_count": 104,
   "metadata": {},
   "outputs": [
    {
     "name": "stdout",
     "output_type": "stream",
     "text": [
      "0_A917122.png\n"
     ]
    },
    {
     "ename": "AttributeError",
     "evalue": "'str' object has no attribute 'shape'",
     "output_type": "error",
     "traceback": [
      "\u001b[1;31m---------------------------------------------------------------------------\u001b[0m",
      "\u001b[1;31mAttributeError\u001b[0m                            Traceback (most recent call last)",
      "\u001b[1;32m~\\AppData\\Local\\Temp/ipykernel_19328/3155997731.py\u001b[0m in \u001b[0;36m<module>\u001b[1;34m\u001b[0m\n\u001b[0;32m      1\u001b[0m \u001b[1;32mfor\u001b[0m \u001b[0mpt\u001b[0m\u001b[1;33m,\u001b[0m \u001b[0mA\u001b[0m \u001b[1;32min\u001b[0m \u001b[0mzip\u001b[0m\u001b[1;33m(\u001b[0m\u001b[0mos\u001b[0m\u001b[1;33m.\u001b[0m\u001b[0mlistdir\u001b[0m\u001b[1;33m(\u001b[0m\u001b[1;34m'../CHEST-RAY-ONLY-LABELED-ICU-ONE-PER-PATIENT-OLDEST/EQUALIZED/A/MILD'\u001b[0m\u001b[1;33m)\u001b[0m\u001b[1;33m,\u001b[0m\u001b[0mp\u001b[0m\u001b[1;33m)\u001b[0m\u001b[1;33m:\u001b[0m\u001b[1;33m\u001b[0m\u001b[1;33m\u001b[0m\u001b[0m\n\u001b[0;32m      2\u001b[0m     \u001b[0mprint\u001b[0m\u001b[1;33m(\u001b[0m\u001b[0mpt\u001b[0m\u001b[1;33m)\u001b[0m\u001b[1;33m\u001b[0m\u001b[1;33m\u001b[0m\u001b[0m\n\u001b[1;32m----> 3\u001b[1;33m     \u001b[0mprint\u001b[0m\u001b[1;33m(\u001b[0m\u001b[0mA\u001b[0m\u001b[1;33m.\u001b[0m\u001b[0mshape\u001b[0m\u001b[1;33m)\u001b[0m\u001b[1;33m\u001b[0m\u001b[1;33m\u001b[0m\u001b[0m\n\u001b[0m\u001b[0;32m      4\u001b[0m     \u001b[0mim\u001b[0m \u001b[1;33m=\u001b[0m \u001b[0mImage\u001b[0m\u001b[1;33m.\u001b[0m\u001b[0mfromarray\u001b[0m\u001b[1;33m(\u001b[0m\u001b[0mA\u001b[0m\u001b[1;33m)\u001b[0m\u001b[1;33m\u001b[0m\u001b[1;33m\u001b[0m\u001b[0m\n\u001b[0;32m      5\u001b[0m     \u001b[0mim\u001b[0m\u001b[1;33m.\u001b[0m\u001b[0msave\u001b[0m\u001b[1;33m(\u001b[0m\u001b[1;34m'../CHEST-RAY-ONLY-LABELED-ICU-ONE-PER-PATIENT-OLDEST/LUNG-ONLY/MILD/'\u001b[0m \u001b[1;33m+\u001b[0m\u001b[0mpt\u001b[0m\u001b[1;33m)\u001b[0m\u001b[1;33m\u001b[0m\u001b[1;33m\u001b[0m\u001b[0m\n",
      "\u001b[1;31mAttributeError\u001b[0m: 'str' object has no attribute 'shape'"
     ]
    }
   ],
   "source": [
    "for pt, A in zip(os.listdir('../CHEST-RAY-ONLY-LABELED-ICU-ONE-PER-PATIENT-OLDEST/EQUALIZED/A/MILD'),p):\n",
    "    print(pt)\n",
    "    print(A.shape)\n",
    "    im = Image.fromarray(A)\n",
    "    im.save('../CHEST-RAY-ONLY-LABELED-ICU-ONE-PER-PATIENT-OLDEST/LUNG-ONLY/MILD/' +pt)"
   ]
  }
 ],
 "metadata": {
  "interpreter": {
   "hash": "6e7cd14f073366be20c32827cdaa625b7e1180ddc1924692f7e15c6fa4a1924d"
  },
  "kernelspec": {
   "display_name": "Python 3.9.7 ('tensorFlowGPU')",
   "language": "python",
   "name": "python3"
  },
  "language_info": {
   "codemirror_mode": {
    "name": "ipython",
    "version": 3
   },
   "file_extension": ".py",
   "mimetype": "text/x-python",
   "name": "python",
   "nbconvert_exporter": "python",
   "pygments_lexer": "ipython3",
   "version": "3.9.7"
  },
  "orig_nbformat": 4
 },
 "nbformat": 4,
 "nbformat_minor": 2
}

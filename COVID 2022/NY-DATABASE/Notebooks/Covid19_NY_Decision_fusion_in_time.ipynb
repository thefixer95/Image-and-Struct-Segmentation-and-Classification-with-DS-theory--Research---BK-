{
 "cells": [
  {
   "cell_type": "markdown",
   "metadata": {},
   "source": [
    "# DECISION FUSION IN TIME\n",
    "\n",
    "IN: clinical data + RX t0\n",
    "DECISION:   C1 = p1_1      C2 = p2_1\n",
    "p1 or p2 are enough to decide? (choose parameter to be enough)\n",
    "\n",
    "YES = DECISION TAKEN\n",
    "\n",
    "NO = new image\n",
    "IN 2: clinical data + RX t1\n",
    "DECISION:   C1 = p1_2      C2 = p2_2\n",
    "\n",
    "p1_2 or p2_2 compared to p1_1 and p2_1 are enough?\n",
    "\n",
    "YES = DECISION TAKEN\n",
    "\n",
    "NO = REPEAT UNTIL THERE ARE IMAGES\n",
    "\n",
    "\n",
    "POSSIBILITY 2:\n",
    "\n",
    "IN: clinical data   -> C1 = p1_c        C2 = p2_c\n",
    "\n",
    "\n",
    "IN: RX_t0           -> C1 = p1_rx_t0    C2 = p2_rx_t0\n",
    "\n",
    "\n",
    "DECISION = Combine [p1_c,p2_c,p1_rx_t0,p2_rx_t0]  and obtain pC1,pC2\n",
    "\n",
    "if pC1,pC2 is not enough to make a decision: \n",
    "\n",
    "IN: RX_t1           -> C1 = p1_rx_t1    C2 = p2_rx_t1\n",
    "\n",
    "\n",
    "DECISION = Combine [p1_c,p2_c,p1_rx_t1,p2_rx_t1]  and obtain pC1,pC2            or Combine as [p1_c,p2_c,p1_rx_t0,p2_rx_t0,p1_rx_t1,p2_rx_t1]   with all precedent times\n",
    "\n",
    "if pC1,pC2 is not enough to make a decision: REPEAT UNTIL there are images"
   ]
  },
  {
   "cell_type": "markdown",
   "metadata": {},
   "source": [
    "## IMPORT ALL"
   ]
  },
  {
   "cell_type": "code",
   "execution_count": 1,
   "metadata": {},
   "outputs": [],
   "source": [
    "# What version of Python do you have?\n",
    "import sys\n",
    "import pandas as pd\n",
    "import numpy as np\n",
    "import os\n",
    "from tqdm import tqdm\n",
    "\n",
    "import gc\n",
    "import copy\n",
    "import cv2\n",
    "\n",
    "from PIL import Image, ImageOps\n",
    "from sklearn.model_selection import train_test_split\n",
    "import matplotlib.pyplot as plt\n",
    "\n",
    "from tqdm import tqdm\n",
    "\n",
    "import sklearn as sk\n",
    "import tensorflow as tf\n",
    "# import tensorflow.keras as keras\n",
    "from tensorflow import keras\n",
    "from pathlib import Path\n",
    "import plotly.graph_objects as go\n",
    "import keras.backend as K\n",
    "\n",
    "import imblearn\n",
    "from imblearn.over_sampling import RandomOverSampler"
   ]
  },
  {
   "cell_type": "code",
   "execution_count": 2,
   "metadata": {},
   "outputs": [
    {
     "name": "stdout",
     "output_type": "stream",
     "text": [
      "Python Version: 3.9.7 (default, Sep 16 2021, 16:59:28) [MSC v.1916 64 bit (AMD64)]\n",
      "Pandas Version: 1.3.5\n",
      "Numpy Version: 1.22.3\n",
      "Keras Version: 2.10.0\n",
      "Imbalanced Learn Version: 0.9.1\n"
     ]
    }
   ],
   "source": [
    "print(f\"Python Version: {sys.version}\")\n",
    "print(f\"Pandas Version: {pd.__version__}\")\n",
    "print(f\"Numpy Version: {np.__version__}\")\n",
    "print(f\"Keras Version: {keras.__version__}\")\n",
    "print(f\"Imbalanced Learn Version: {imblearn.__version__}\")"
   ]
  },
  {
   "cell_type": "code",
   "execution_count": 3,
   "metadata": {},
   "outputs": [],
   "source": [
    "from tensorflow.keras.utils import to_categorical\n",
    "\n",
    "from sklearn.preprocessing import MinMaxScaler"
   ]
  },
  {
   "cell_type": "code",
   "execution_count": 4,
   "metadata": {},
   "outputs": [
    {
     "name": "stderr",
     "output_type": "stream",
     "text": [
      "c:\\Users\\Michele\\anaconda3\\envs\\tfGPU\\lib\\site-packages\\tensorflow_addons\\utils\\ensure_tf_install.py:37: UserWarning: You are currently using a nightly version of TensorFlow (2.10.0-dev20220413). \n",
      "TensorFlow Addons offers no support for the nightly versions of TensorFlow. Some things might work, some other might not. \n",
      "If you encounter a bug, do not file an issue on GitHub.\n",
      "  warnings.warn(\n"
     ]
    }
   ],
   "source": [
    "import tensorflow_addons as tfa"
   ]
  },
  {
   "cell_type": "markdown",
   "metadata": {},
   "source": [
    "## FUNCTIONS"
   ]
  },
  {
   "cell_type": "code",
   "execution_count": 5,
   "metadata": {},
   "outputs": [],
   "source": [
    "sys.path.append('./')\n",
    "import Covid19_NY_Data_Loader_functions as load_fn\n",
    "import Covid19_NY_Clinical_Data_Functions as clinical_fn\n",
    "import Covid19_NY_CNN_Functions as cnn_fn"
   ]
  },
  {
   "cell_type": "markdown",
   "metadata": {},
   "source": [
    "## Paths"
   ]
  },
  {
   "cell_type": "code",
   "execution_count": 6,
   "metadata": {},
   "outputs": [],
   "source": [
    "BASEPT = Path('../Temporal-Decision-Fusion/')\n",
    "BASEPT.mkdir(parents=True, exist_ok=True)\n",
    "SaveTrainGraphPath = Path('../Temporal-Decision-Fusion/Report/Graphs')\n",
    "SaveTrainGraphPath.mkdir(parents=True, exist_ok=True)\n",
    "SaveTrainModelsPath = Path('../Temporal-Decision-Fusion/Report/Models')\n",
    "SaveTrainModelsPath.mkdir(parents=True, exist_ok=True)\n",
    "SaveTrainTablesPath = Path('../Temporal-Decision-Fusion/Report/tables')\n",
    "SaveTrainTablesPath.mkdir(parents=True, exist_ok=True)\n",
    "SaveTrainPredictionsPath = Path('../Temporal-Decision-Fusion/Report/predictions')\n",
    "SaveTrainPredictionsPath.mkdir(parents=True, exist_ok=True)\n",
    "\n",
    "imagesBasePath = Path('../COVID-19-CHEST-ONLY/manifest-1645033969298/')\n",
    "tablePath = Path('DB_in_time.csv')\n"
   ]
  },
  {
   "cell_type": "markdown",
   "metadata": {},
   "source": [
    "## STATIC VARIABLES"
   ]
  },
  {
   "cell_type": "code",
   "execution_count": 7,
   "metadata": {},
   "outputs": [],
   "source": [
    "SEED = 42\n",
    "IMG_SIZE = 224  #single number WxH"
   ]
  },
  {
   "cell_type": "markdown",
   "metadata": {},
   "source": [
    "## LOAD INPUTS"
   ]
  },
  {
   "cell_type": "code",
   "execution_count": 8,
   "metadata": {},
   "outputs": [],
   "source": [
    "# load DB\n",
    "COVID19 = pd.read_csv(tablePath)"
   ]
  },
  {
   "cell_type": "code",
   "execution_count": 9,
   "metadata": {},
   "outputs": [
    {
     "data": {
      "text/html": [
       "<div>\n",
       "<style scoped>\n",
       "    .dataframe tbody tr th:only-of-type {\n",
       "        vertical-align: middle;\n",
       "    }\n",
       "\n",
       "    .dataframe tbody tr th {\n",
       "        vertical-align: top;\n",
       "    }\n",
       "\n",
       "    .dataframe thead th {\n",
       "        text-align: right;\n",
       "    }\n",
       "</style>\n",
       "<table border=\"1\" class=\"dataframe\">\n",
       "  <thead>\n",
       "    <tr style=\"text-align: right;\">\n",
       "      <th></th>\n",
       "      <th>Unnamed: 0</th>\n",
       "      <th>number_images_in_time</th>\n",
       "      <th>images_paths_in_time</th>\n",
       "      <th>images_timestamp</th>\n",
       "      <th>index</th>\n",
       "      <th>Unnamed: 0.1</th>\n",
       "      <th>to_patient_id</th>\n",
       "      <th>covid19_statuses</th>\n",
       "      <th>last.status</th>\n",
       "      <th>age.splits</th>\n",
       "      <th>...</th>\n",
       "      <th>30341-2_Erythrocyte sedimentation rate</th>\n",
       "      <th>2345-7_Glucose [Mass/volume] in Serum or Plasma</th>\n",
       "      <th>13457-7_Cholesterol in LDL [Mass/volume] in Serum or Plasma by calculation</th>\n",
       "      <th>13458-5_Cholesterol in VLDL [Mass/volume] in Serum or Plasma by calculation</th>\n",
       "      <th>2571-8_Triglyceride [Mass/volume] in Serum or Plasma</th>\n",
       "      <th>2085-9_Cholesterol in HDL [Mass/volume] in Serum or Plasma</th>\n",
       "      <th>therapeutic.exnox.Boolean</th>\n",
       "      <th>therapeutic.heparin.Boolean</th>\n",
       "      <th>Other.anticoagulation.therapy</th>\n",
       "      <th>FilePaths</th>\n",
       "    </tr>\n",
       "  </thead>\n",
       "  <tbody>\n",
       "    <tr>\n",
       "      <th>0</th>\n",
       "      <td>0</td>\n",
       "      <td>34.0</td>\n",
       "      <td>[WindowsPath('COVID-19-NY-SBU/A000801/12-25-19...</td>\n",
       "      <td>[Timestamp('1900-12-25 00:00:00'), Timestamp('...</td>\n",
       "      <td>320.0</td>\n",
       "      <td>351.0</td>\n",
       "      <td>A000801</td>\n",
       "      <td>positive</td>\n",
       "      <td>discharged</td>\n",
       "      <td>[18,59]</td>\n",
       "      <td>...</td>\n",
       "      <td>32.0</td>\n",
       "      <td>130.0</td>\n",
       "      <td>38.0</td>\n",
       "      <td>21.0</td>\n",
       "      <td>107.0</td>\n",
       "      <td>16.0</td>\n",
       "      <td>True</td>\n",
       "      <td>True</td>\n",
       "      <td>not documented</td>\n",
       "      <td>/SEVERE/320_A000801.png</td>\n",
       "    </tr>\n",
       "    <tr>\n",
       "      <th>1</th>\n",
       "      <td>1</td>\n",
       "      <td>2.0</td>\n",
       "      <td>[WindowsPath('COVID-19-NY-SBU/A000936/12-31-19...</td>\n",
       "      <td>[Timestamp('1900-12-31 00:00:00'), Timestamp('...</td>\n",
       "      <td>705.0</td>\n",
       "      <td>765.0</td>\n",
       "      <td>A000936</td>\n",
       "      <td>positive</td>\n",
       "      <td>discharged</td>\n",
       "      <td>(59,74]</td>\n",
       "      <td>...</td>\n",
       "      <td>NaN</td>\n",
       "      <td>NaN</td>\n",
       "      <td>NaN</td>\n",
       "      <td>NaN</td>\n",
       "      <td>NaN</td>\n",
       "      <td>NaN</td>\n",
       "      <td>False</td>\n",
       "      <td>False</td>\n",
       "      <td>not documented</td>\n",
       "      <td>/MILD/705_A000936.png</td>\n",
       "    </tr>\n",
       "    <tr>\n",
       "      <th>2</th>\n",
       "      <td>2</td>\n",
       "      <td>3.0</td>\n",
       "      <td>[WindowsPath('COVID-19-NY-SBU/A001942/12-31-19...</td>\n",
       "      <td>[Timestamp('1900-12-31 00:00:00'), Timestamp('...</td>\n",
       "      <td>890.0</td>\n",
       "      <td>965.0</td>\n",
       "      <td>A001942</td>\n",
       "      <td>positive</td>\n",
       "      <td>discharged</td>\n",
       "      <td>[18,59]</td>\n",
       "      <td>...</td>\n",
       "      <td>NaN</td>\n",
       "      <td>NaN</td>\n",
       "      <td>NaN</td>\n",
       "      <td>NaN</td>\n",
       "      <td>NaN</td>\n",
       "      <td>NaN</td>\n",
       "      <td>False</td>\n",
       "      <td>False</td>\n",
       "      <td>not documented</td>\n",
       "      <td>/MILD/890_A001942.png</td>\n",
       "    </tr>\n",
       "    <tr>\n",
       "      <th>3</th>\n",
       "      <td>3</td>\n",
       "      <td>2.0</td>\n",
       "      <td>[WindowsPath('COVID-19-NY-SBU/A001375/12-31-19...</td>\n",
       "      <td>[Timestamp('1900-12-31 00:00:00'), Timestamp('...</td>\n",
       "      <td>1098.0</td>\n",
       "      <td>1183.0</td>\n",
       "      <td>A001375</td>\n",
       "      <td>positive</td>\n",
       "      <td>discharged</td>\n",
       "      <td>[18,59]</td>\n",
       "      <td>...</td>\n",
       "      <td>NaN</td>\n",
       "      <td>NaN</td>\n",
       "      <td>NaN</td>\n",
       "      <td>NaN</td>\n",
       "      <td>NaN</td>\n",
       "      <td>NaN</td>\n",
       "      <td>NaN</td>\n",
       "      <td>NaN</td>\n",
       "      <td>NaN</td>\n",
       "      <td>/MILD/1098_A001375.png</td>\n",
       "    </tr>\n",
       "    <tr>\n",
       "      <th>4</th>\n",
       "      <td>4</td>\n",
       "      <td>90.0</td>\n",
       "      <td>[WindowsPath('COVID-19-NY-SBU/A002052/12-27-19...</td>\n",
       "      <td>[Timestamp('1900-12-27 00:00:00'), Timestamp('...</td>\n",
       "      <td>63.0</td>\n",
       "      <td>70.0</td>\n",
       "      <td>A002052</td>\n",
       "      <td>positive</td>\n",
       "      <td>discharged</td>\n",
       "      <td>[18,59]</td>\n",
       "      <td>...</td>\n",
       "      <td>57.0</td>\n",
       "      <td>308.0</td>\n",
       "      <td>NaN</td>\n",
       "      <td>NaN</td>\n",
       "      <td>NaN</td>\n",
       "      <td>NaN</td>\n",
       "      <td>True</td>\n",
       "      <td>False</td>\n",
       "      <td>not documented</td>\n",
       "      <td>/SEVERE/63_A002052.png</td>\n",
       "    </tr>\n",
       "  </tbody>\n",
       "</table>\n",
       "<p>5 rows × 138 columns</p>\n",
       "</div>"
      ],
      "text/plain": [
       "   Unnamed: 0  number_images_in_time  \\\n",
       "0           0                   34.0   \n",
       "1           1                    2.0   \n",
       "2           2                    3.0   \n",
       "3           3                    2.0   \n",
       "4           4                   90.0   \n",
       "\n",
       "                                images_paths_in_time  \\\n",
       "0  [WindowsPath('COVID-19-NY-SBU/A000801/12-25-19...   \n",
       "1  [WindowsPath('COVID-19-NY-SBU/A000936/12-31-19...   \n",
       "2  [WindowsPath('COVID-19-NY-SBU/A001942/12-31-19...   \n",
       "3  [WindowsPath('COVID-19-NY-SBU/A001375/12-31-19...   \n",
       "4  [WindowsPath('COVID-19-NY-SBU/A002052/12-27-19...   \n",
       "\n",
       "                                    images_timestamp   index  Unnamed: 0.1  \\\n",
       "0  [Timestamp('1900-12-25 00:00:00'), Timestamp('...   320.0         351.0   \n",
       "1  [Timestamp('1900-12-31 00:00:00'), Timestamp('...   705.0         765.0   \n",
       "2  [Timestamp('1900-12-31 00:00:00'), Timestamp('...   890.0         965.0   \n",
       "3  [Timestamp('1900-12-31 00:00:00'), Timestamp('...  1098.0        1183.0   \n",
       "4  [Timestamp('1900-12-27 00:00:00'), Timestamp('...    63.0          70.0   \n",
       "\n",
       "  to_patient_id covid19_statuses last.status age.splits  ...  \\\n",
       "0       A000801         positive  discharged    [18,59]  ...   \n",
       "1       A000936         positive  discharged    (59,74]  ...   \n",
       "2       A001942         positive  discharged    [18,59]  ...   \n",
       "3       A001375         positive  discharged    [18,59]  ...   \n",
       "4       A002052         positive  discharged    [18,59]  ...   \n",
       "\n",
       "  30341-2_Erythrocyte sedimentation rate  \\\n",
       "0                                   32.0   \n",
       "1                                    NaN   \n",
       "2                                    NaN   \n",
       "3                                    NaN   \n",
       "4                                   57.0   \n",
       "\n",
       "  2345-7_Glucose [Mass/volume] in Serum or Plasma  \\\n",
       "0                                           130.0   \n",
       "1                                             NaN   \n",
       "2                                             NaN   \n",
       "3                                             NaN   \n",
       "4                                           308.0   \n",
       "\n",
       "  13457-7_Cholesterol in LDL [Mass/volume] in Serum or Plasma by calculation  \\\n",
       "0                                               38.0                           \n",
       "1                                                NaN                           \n",
       "2                                                NaN                           \n",
       "3                                                NaN                           \n",
       "4                                                NaN                           \n",
       "\n",
       "  13458-5_Cholesterol in VLDL [Mass/volume] in Serum or Plasma by calculation  \\\n",
       "0                                               21.0                            \n",
       "1                                                NaN                            \n",
       "2                                                NaN                            \n",
       "3                                                NaN                            \n",
       "4                                                NaN                            \n",
       "\n",
       "  2571-8_Triglyceride [Mass/volume] in Serum or Plasma  \\\n",
       "0                                              107.0     \n",
       "1                                                NaN     \n",
       "2                                                NaN     \n",
       "3                                                NaN     \n",
       "4                                                NaN     \n",
       "\n",
       "   2085-9_Cholesterol in HDL [Mass/volume] in Serum or Plasma  \\\n",
       "0                                               16.0            \n",
       "1                                                NaN            \n",
       "2                                                NaN            \n",
       "3                                                NaN            \n",
       "4                                                NaN            \n",
       "\n",
       "   therapeutic.exnox.Boolean therapeutic.heparin.Boolean  \\\n",
       "0                       True                        True   \n",
       "1                      False                       False   \n",
       "2                      False                       False   \n",
       "3                        NaN                         NaN   \n",
       "4                       True                       False   \n",
       "\n",
       "  Other.anticoagulation.therapy                FilePaths  \n",
       "0                not documented  /SEVERE/320_A000801.png  \n",
       "1                not documented    /MILD/705_A000936.png  \n",
       "2                not documented    /MILD/890_A001942.png  \n",
       "3                           NaN   /MILD/1098_A001375.png  \n",
       "4                not documented   /SEVERE/63_A002052.png  \n",
       "\n",
       "[5 rows x 138 columns]"
      ]
     },
     "execution_count": 9,
     "metadata": {},
     "output_type": "execute_result"
    }
   ],
   "source": [
    "COVID19.head()"
   ]
  },
  {
   "cell_type": "code",
   "execution_count": 10,
   "metadata": {},
   "outputs": [],
   "source": [
    "COVID19 = COVID19.drop([\"Unnamed: 0.1\", \"Unnamed: 0\", 'index', 'FilePaths'], axis='columns')"
   ]
  },
  {
   "cell_type": "markdown",
   "metadata": {},
   "source": [
    "### Taking care of nan"
   ]
  },
  {
   "cell_type": "code",
   "execution_count": 11,
   "metadata": {},
   "outputs": [
    {
     "name": "stdout",
     "output_type": "stream",
     "text": [
      "cell that are NaN: 44341\n",
      "num cells in DB: 171386\n",
      "percentage of NaN: 25.872008215373484\n"
     ]
    }
   ],
   "source": [
    "print(\"cell that are NaN: \"+str(COVID19.isna().sum().sum()))\n",
    "print(\"num cells in DB: \" + str(COVID19.size))\n",
    "print('percentage of NaN: '+str((COVID19.isna().sum().sum()/COVID19.size)*100))"
   ]
  },
  {
   "cell_type": "code",
   "execution_count": 12,
   "metadata": {},
   "outputs": [],
   "source": [
    "# ONE HOT ENCODER?\n",
    "\n",
    "#For HFrEF, documented ICD-10 code for HFrEF or echocardiogram documenting reduced ejection fraction (reduced EF is <40%, 40% or higher is preserved EF). For HFpEF, documented ICD-10 code for HFpEF or echocardiogram documenting diastolic dysfunction.\n",
    "hf_ef_v = {'HFpEF': 1, 'HFrEF': 2, 'No': 0}\n",
    "COVID19 = COVID19.replace({'hf_ef_v': hf_ef_v})"
   ]
  },
  {
   "cell_type": "code",
   "execution_count": 13,
   "metadata": {},
   "outputs": [],
   "source": [
    "COVID19 = COVID19.replace({'Yes':True,'No':False})"
   ]
  },
  {
   "cell_type": "code",
   "execution_count": 14,
   "metadata": {},
   "outputs": [],
   "source": [
    "#GENDER: female = True, male = False\n",
    "gender = {'FEMALE': True, 'MALE': False}\n",
    "COVID19 = COVID19.replace({'gender_concept_name': gender})"
   ]
  },
  {
   "cell_type": "code",
   "execution_count": 15,
   "metadata": {},
   "outputs": [],
   "source": [
    "#last status: discharged = True, deceased = False\n",
    "last_s = {'discharged': True, 'deceased': False}\n",
    "COVID19 = COVID19.replace({'last.status': last_s})"
   ]
  },
  {
   "cell_type": "code",
   "execution_count": 16,
   "metadata": {},
   "outputs": [],
   "source": [
    "#AGE: [18,59] = 0, (59,74] = 1, (74,90] = 2\n",
    "age = {'[18,59]': (59+18)/2, '(59,74]': (74+60)/2, '(74,90]': (90+75)/2}\n",
    "COVID19 = COVID19.replace({'age.splits': age})"
   ]
  },
  {
   "cell_type": "code",
   "execution_count": 17,
   "metadata": {},
   "outputs": [],
   "source": [
    "#INVASIVE VENT DAYS     IF VENTILATED = TRUE: SET NUMBER IF NOT THEN = 0\n",
    "COVID19.loc[COVID19['was_ventilated'] == False, 'invasive_vent_days'] = 0\n",
    "# print(db_COVID19['invasive_vent_days'].isnull().sum())  #save this col"
   ]
  },
  {
   "cell_type": "code",
   "execution_count": 18,
   "metadata": {},
   "outputs": [],
   "source": [
    "# ONE HOT ENCODER?\n",
    "\n",
    "# #SMOKING STATUS :  Never = 0, Former = 1, Current = 2\n",
    "# smoking_status = {'Current': 2, 'Former': 1, 'Never': 0}\n",
    "# COVID19 = COVID19.replace({'smoking_status_v': smoking_status})\n",
    "\n",
    "#one hot encoder Hospitals\n",
    "SMOKING= ['Current','Former','Never','Unknown']\n",
    "\n",
    "mapping = {}\n",
    "for x in range(len(SMOKING)):\n",
    "    mapping[SMOKING[x]] = x\n",
    "\n",
    "takename = copy.deepcopy(COVID19['smoking_status_v'])\n",
    "\n",
    "takename = takename.fillna('Unknown')\n",
    "for x in range(len(takename)):\n",
    "    takename[x] = mapping[takename[x]]\n",
    "\n",
    "\n",
    "one_h_enc = to_categorical(takename)\n",
    "COVID19['Current Smoker'] = one_h_enc[:,0]\n",
    "COVID19['Former Smoker'] = one_h_enc[:,1]\n",
    "COVID19['Never Smoker'] = one_h_enc[:,2]\n",
    "COVID19['Unknown Smoker'] = one_h_enc[:,3]\n",
    "\n",
    "COVID19 = COVID19.drop(['smoking_status_v'], axis='columns')"
   ]
  },
  {
   "cell_type": "code",
   "execution_count": 19,
   "metadata": {},
   "outputs": [],
   "source": [
    "#URINE PROTEIN: Normal = True, Abnormal = False\n",
    "urine = {'Normal': False, 'Abnormal': True}\n",
    "COVID19 = COVID19.replace({'Urine.protein': urine})"
   ]
  },
  {
   "cell_type": "code",
   "execution_count": 20,
   "metadata": {},
   "outputs": [],
   "source": [
    "ANTICOUAGULATION= ['apixaban','argatroban','dabigatran','multiple','not documented','rivaroxaban','wafarin','NO']\n",
    "\n",
    "mapping = {}\n",
    "for x in range(len(ANTICOUAGULATION)):\n",
    "    mapping[ANTICOUAGULATION[x]] = x\n",
    "\n",
    "takename = copy.deepcopy(COVID19['Other.anticoagulation.therapy'])\n",
    "takename = takename.fillna('NO')\n",
    "for x in range(len(takename)):\n",
    "    takename[x] = mapping[takename[x]]\n",
    "\n",
    "\n",
    "one_h_enc = to_categorical(takename)\n",
    "COVID19['anticoagulation_therapy_apixaban'] = one_h_enc[:,0]\n",
    "COVID19['anticoagulation_therapy_argatroban'] = one_h_enc[:,1]\n",
    "COVID19['anticoagulation_therapy_dabigatran'] = one_h_enc[:,2]\n",
    "COVID19['anticoagulation_therapy_multiple'] = one_h_enc[:,3]\n",
    "COVID19['anticoagulation_therapy_not_documented'] = one_h_enc[:,4]\n",
    "COVID19['anticoagulation_therapy_rivaroxaban'] = one_h_enc[:,5]\n",
    "COVID19['anticoagulation_therapy_wafarin'] = one_h_enc[:,6]\n",
    "COVID19['NO_anticoagulation_therapy'] = one_h_enc[:,7]\n",
    "\n",
    "COVID19 = COVID19.drop(['Other.anticoagulation.therapy'], axis='columns')"
   ]
  },
  {
   "cell_type": "code",
   "execution_count": 21,
   "metadata": {},
   "outputs": [],
   "source": [
    "# ONE HOT ENCODER?\n",
    "\n",
    "#SMOKING STATUS :  Never = 0, Former = 1, Current = 2\n",
    "is_ICU = {False: 'MILD', True: 'SEVERE'}\n",
    "COVID19 = COVID19.replace({'is_icu': is_ICU})\n",
    "\n",
    "#one hot encoder Hospitals\n",
    "ICU= ['MILD','SEVERE']\n",
    "\n",
    "mapping = {}\n",
    "for x in range(len(ICU)):\n",
    "    mapping[ICU[x]] = x\n",
    "\n",
    "takename = copy.deepcopy(COVID19['is_icu'])\n",
    "for x in range(len(takename)):\n",
    "    takename[x] = mapping[takename[x]]\n",
    "\n",
    "\n",
    "one_h_enc = to_categorical(takename)\n",
    "COVID19['MILD'] = one_h_enc[:,0]\n",
    "COVID19['SEVERE'] = one_h_enc[:,1]\n",
    "\n",
    "COVID19 = COVID19.drop(['is_icu'], axis='columns')"
   ]
  },
  {
   "cell_type": "code",
   "execution_count": 22,
   "metadata": {},
   "outputs": [
    {
     "data": {
      "text/html": [
       "<div>\n",
       "<style scoped>\n",
       "    .dataframe tbody tr th:only-of-type {\n",
       "        vertical-align: middle;\n",
       "    }\n",
       "\n",
       "    .dataframe tbody tr th {\n",
       "        vertical-align: top;\n",
       "    }\n",
       "\n",
       "    .dataframe thead th {\n",
       "        text-align: right;\n",
       "    }\n",
       "</style>\n",
       "<table border=\"1\" class=\"dataframe\">\n",
       "  <thead>\n",
       "    <tr style=\"text-align: right;\">\n",
       "      <th></th>\n",
       "      <th>number_images_in_time</th>\n",
       "      <th>images_paths_in_time</th>\n",
       "      <th>images_timestamp</th>\n",
       "      <th>to_patient_id</th>\n",
       "      <th>covid19_statuses</th>\n",
       "      <th>last.status</th>\n",
       "      <th>age.splits</th>\n",
       "      <th>gender_concept_name</th>\n",
       "      <th>visit_start_datetime</th>\n",
       "      <th>visit_concept_name</th>\n",
       "      <th>...</th>\n",
       "      <th>anticoagulation_therapy_apixaban</th>\n",
       "      <th>anticoagulation_therapy_argatroban</th>\n",
       "      <th>anticoagulation_therapy_dabigatran</th>\n",
       "      <th>anticoagulation_therapy_multiple</th>\n",
       "      <th>anticoagulation_therapy_not_documented</th>\n",
       "      <th>anticoagulation_therapy_rivaroxaban</th>\n",
       "      <th>anticoagulation_therapy_wafarin</th>\n",
       "      <th>NO_anticoagulation_therapy</th>\n",
       "      <th>MILD</th>\n",
       "      <th>SEVERE</th>\n",
       "    </tr>\n",
       "  </thead>\n",
       "  <tbody>\n",
       "    <tr>\n",
       "      <th>0</th>\n",
       "      <td>34.0</td>\n",
       "      <td>[WindowsPath('COVID-19-NY-SBU/A000801/12-25-19...</td>\n",
       "      <td>[Timestamp('1900-12-25 00:00:00'), Timestamp('...</td>\n",
       "      <td>A000801</td>\n",
       "      <td>positive</td>\n",
       "      <td>True</td>\n",
       "      <td>38.5</td>\n",
       "      <td>False</td>\n",
       "      <td>12/29/1900</td>\n",
       "      <td>Inpatient Visit</td>\n",
       "      <td>...</td>\n",
       "      <td>0.0</td>\n",
       "      <td>0.0</td>\n",
       "      <td>0.0</td>\n",
       "      <td>0.0</td>\n",
       "      <td>1.0</td>\n",
       "      <td>0.0</td>\n",
       "      <td>0.0</td>\n",
       "      <td>0.0</td>\n",
       "      <td>0.0</td>\n",
       "      <td>1.0</td>\n",
       "    </tr>\n",
       "    <tr>\n",
       "      <th>1</th>\n",
       "      <td>2.0</td>\n",
       "      <td>[WindowsPath('COVID-19-NY-SBU/A000936/12-31-19...</td>\n",
       "      <td>[Timestamp('1900-12-31 00:00:00'), Timestamp('...</td>\n",
       "      <td>A000936</td>\n",
       "      <td>positive</td>\n",
       "      <td>True</td>\n",
       "      <td>67.0</td>\n",
       "      <td>True</td>\n",
       "      <td>1/11/1901</td>\n",
       "      <td>Emergency Room Visit</td>\n",
       "      <td>...</td>\n",
       "      <td>0.0</td>\n",
       "      <td>0.0</td>\n",
       "      <td>0.0</td>\n",
       "      <td>0.0</td>\n",
       "      <td>1.0</td>\n",
       "      <td>0.0</td>\n",
       "      <td>0.0</td>\n",
       "      <td>0.0</td>\n",
       "      <td>1.0</td>\n",
       "      <td>0.0</td>\n",
       "    </tr>\n",
       "    <tr>\n",
       "      <th>2</th>\n",
       "      <td>3.0</td>\n",
       "      <td>[WindowsPath('COVID-19-NY-SBU/A001942/12-31-19...</td>\n",
       "      <td>[Timestamp('1900-12-31 00:00:00'), Timestamp('...</td>\n",
       "      <td>A001942</td>\n",
       "      <td>positive</td>\n",
       "      <td>True</td>\n",
       "      <td>38.5</td>\n",
       "      <td>False</td>\n",
       "      <td>1/5/1901</td>\n",
       "      <td>Emergency Room Visit</td>\n",
       "      <td>...</td>\n",
       "      <td>0.0</td>\n",
       "      <td>0.0</td>\n",
       "      <td>0.0</td>\n",
       "      <td>0.0</td>\n",
       "      <td>1.0</td>\n",
       "      <td>0.0</td>\n",
       "      <td>0.0</td>\n",
       "      <td>0.0</td>\n",
       "      <td>1.0</td>\n",
       "      <td>0.0</td>\n",
       "    </tr>\n",
       "    <tr>\n",
       "      <th>3</th>\n",
       "      <td>2.0</td>\n",
       "      <td>[WindowsPath('COVID-19-NY-SBU/A001375/12-31-19...</td>\n",
       "      <td>[Timestamp('1900-12-31 00:00:00'), Timestamp('...</td>\n",
       "      <td>A001375</td>\n",
       "      <td>positive</td>\n",
       "      <td>True</td>\n",
       "      <td>38.5</td>\n",
       "      <td>True</td>\n",
       "      <td>1/12/1901</td>\n",
       "      <td>Emergency Room Visit</td>\n",
       "      <td>...</td>\n",
       "      <td>0.0</td>\n",
       "      <td>0.0</td>\n",
       "      <td>0.0</td>\n",
       "      <td>0.0</td>\n",
       "      <td>0.0</td>\n",
       "      <td>0.0</td>\n",
       "      <td>0.0</td>\n",
       "      <td>1.0</td>\n",
       "      <td>1.0</td>\n",
       "      <td>0.0</td>\n",
       "    </tr>\n",
       "    <tr>\n",
       "      <th>4</th>\n",
       "      <td>90.0</td>\n",
       "      <td>[WindowsPath('COVID-19-NY-SBU/A002052/12-27-19...</td>\n",
       "      <td>[Timestamp('1900-12-27 00:00:00'), Timestamp('...</td>\n",
       "      <td>A002052</td>\n",
       "      <td>positive</td>\n",
       "      <td>True</td>\n",
       "      <td>38.5</td>\n",
       "      <td>False</td>\n",
       "      <td>12/28/1900</td>\n",
       "      <td>Inpatient Visit</td>\n",
       "      <td>...</td>\n",
       "      <td>0.0</td>\n",
       "      <td>0.0</td>\n",
       "      <td>0.0</td>\n",
       "      <td>0.0</td>\n",
       "      <td>1.0</td>\n",
       "      <td>0.0</td>\n",
       "      <td>0.0</td>\n",
       "      <td>0.0</td>\n",
       "      <td>0.0</td>\n",
       "      <td>1.0</td>\n",
       "    </tr>\n",
       "  </tbody>\n",
       "</table>\n",
       "<p>5 rows × 145 columns</p>\n",
       "</div>"
      ],
      "text/plain": [
       "   number_images_in_time                               images_paths_in_time  \\\n",
       "0                   34.0  [WindowsPath('COVID-19-NY-SBU/A000801/12-25-19...   \n",
       "1                    2.0  [WindowsPath('COVID-19-NY-SBU/A000936/12-31-19...   \n",
       "2                    3.0  [WindowsPath('COVID-19-NY-SBU/A001942/12-31-19...   \n",
       "3                    2.0  [WindowsPath('COVID-19-NY-SBU/A001375/12-31-19...   \n",
       "4                   90.0  [WindowsPath('COVID-19-NY-SBU/A002052/12-27-19...   \n",
       "\n",
       "                                    images_timestamp to_patient_id  \\\n",
       "0  [Timestamp('1900-12-25 00:00:00'), Timestamp('...       A000801   \n",
       "1  [Timestamp('1900-12-31 00:00:00'), Timestamp('...       A000936   \n",
       "2  [Timestamp('1900-12-31 00:00:00'), Timestamp('...       A001942   \n",
       "3  [Timestamp('1900-12-31 00:00:00'), Timestamp('...       A001375   \n",
       "4  [Timestamp('1900-12-27 00:00:00'), Timestamp('...       A002052   \n",
       "\n",
       "  covid19_statuses  last.status  age.splits gender_concept_name  \\\n",
       "0         positive         True        38.5               False   \n",
       "1         positive         True        67.0                True   \n",
       "2         positive         True        38.5               False   \n",
       "3         positive         True        38.5                True   \n",
       "4         positive         True        38.5               False   \n",
       "\n",
       "  visit_start_datetime    visit_concept_name  ...  \\\n",
       "0           12/29/1900       Inpatient Visit  ...   \n",
       "1            1/11/1901  Emergency Room Visit  ...   \n",
       "2             1/5/1901  Emergency Room Visit  ...   \n",
       "3            1/12/1901  Emergency Room Visit  ...   \n",
       "4           12/28/1900       Inpatient Visit  ...   \n",
       "\n",
       "   anticoagulation_therapy_apixaban  anticoagulation_therapy_argatroban  \\\n",
       "0                               0.0                                 0.0   \n",
       "1                               0.0                                 0.0   \n",
       "2                               0.0                                 0.0   \n",
       "3                               0.0                                 0.0   \n",
       "4                               0.0                                 0.0   \n",
       "\n",
       "   anticoagulation_therapy_dabigatran anticoagulation_therapy_multiple  \\\n",
       "0                                 0.0                              0.0   \n",
       "1                                 0.0                              0.0   \n",
       "2                                 0.0                              0.0   \n",
       "3                                 0.0                              0.0   \n",
       "4                                 0.0                              0.0   \n",
       "\n",
       "   anticoagulation_therapy_not_documented anticoagulation_therapy_rivaroxaban  \\\n",
       "0                                     1.0                                 0.0   \n",
       "1                                     1.0                                 0.0   \n",
       "2                                     1.0                                 0.0   \n",
       "3                                     0.0                                 0.0   \n",
       "4                                     1.0                                 0.0   \n",
       "\n",
       "  anticoagulation_therapy_wafarin NO_anticoagulation_therapy MILD SEVERE  \n",
       "0                             0.0                        0.0  0.0    1.0  \n",
       "1                             0.0                        0.0  1.0    0.0  \n",
       "2                             0.0                        0.0  1.0    0.0  \n",
       "3                             0.0                        1.0  1.0    0.0  \n",
       "4                             0.0                        0.0  0.0    1.0  \n",
       "\n",
       "[5 rows x 145 columns]"
      ]
     },
     "execution_count": 22,
     "metadata": {},
     "output_type": "execute_result"
    }
   ],
   "source": [
    "COVID19.head()"
   ]
  },
  {
   "cell_type": "code",
   "execution_count": 23,
   "metadata": {},
   "outputs": [],
   "source": [
    "# drop col active:\n",
    "\n",
    "COVID19 = COVID19.drop([\"last.status\"], axis=\"columns\")"
   ]
  },
  {
   "cell_type": "code",
   "execution_count": 24,
   "metadata": {},
   "outputs": [
    {
     "name": "stdout",
     "output_type": "stream",
     "text": [
      "cell that are NaN: 42891\n",
      "num cells in DB: 184176\n",
      "percentage of NaN: 23.288050560333595\n"
     ]
    }
   ],
   "source": [
    "print(\"cell that are NaN: \"+str(COVID19.isna().sum().sum()))\n",
    "print(\"num cells in DB: \" + str(COVID19.size))\n",
    "print('percentage of NaN: '+str((COVID19.isna().sum().sum()/COVID19.size)*100))"
   ]
  },
  {
   "cell_type": "code",
   "execution_count": 25,
   "metadata": {},
   "outputs": [
    {
     "name": "stdout",
     "output_type": "stream",
     "text": [
      "numeric cols with nan values: ['number_images_in_time', 'age.splits', 'invasive_vent_days', 'length_of_stay', 'hf_ef_v', 'days_prior_sx', '8331-1_Oral temperature', '59408-5_Oxygen saturation in Arterial blood by Pulse oximetry', '9279-1_Respiratory rate', '76282-3_Heart rate.beat-to-beat by EKG', '8480-6_Systolic blood pressure', '76536-2_Mean blood pressure by Noninvasive', '33256-9_Leukocytes [#/volume] corrected for nucleated erythrocytes in Blood by Automated count', '751-8_Neutrophils [#/volume] in Blood by Automated count', '731-0_Lymphocytes [#/volume] in Blood by Automated count', '2951-2_Sodium [Moles/volume] in Serum or Plasma', '1920-8_Aspartate aminotransferase [Enzymatic activity/volume] in Serum or Plasma', \"1744-2_Alanine aminotransferase [Enzymatic activity/volume] in Serum or Plasma by No addition of P-5'-P\", '2157-6_Creatine kinase [Enzymatic activity/volume] in Serum or Plasma', '2524-7_Lactate [Moles/volume] in Serum or Plasma', '6598-7_Troponin T.cardiac [Mass/volume] in Serum or Plasma', '33762-6_Natriuretic peptide.B prohormone N-Terminal [Mass/volume] in Serum or Plasma', '75241-0_Procalcitonin [Mass/volume] in Serum or Plasma by Immunoassay', '48058-2_Fibrin D-dimer DDU [Mass/volume] in Platelet poor plasma by Immunoassay', '2276-4_Ferritin [Mass/volume] in Serum or Plasma', '1988-5_C reactive protein [Mass/volume] in Serum or Plasma', '4548-4_Hemoglobin A1c/Hemoglobin.total in Blood', '39156-5_Body mass index (BMI) [Ratio]', '2951-2_Sodium [Moles/volume] in Serum or Plasma.1', '2823-3_Potassium [Moles/volume] in Serum or Plasma', '2075-0_Chloride [Moles/volume] in Serum or Plasma', '1963-8_Bicarbonate [Moles/volume] in Serum or Plasma', '3094-0_Urea nitrogen [Mass/volume] in Serum or Plasma', '2160-0_Creatinine [Mass/volume] in Serum or Plasma', '62238-1_Glomerular filtration rate/1.73 sq M.predicted [Volume Rate/Area] in Serum, Plasma or Blood by Creatinine-based formula (CKD-EPI)', \"33254-4_pH of Arterial blood adjusted to patient's actual temperature\", '30341-2_Erythrocyte sedimentation rate', '2345-7_Glucose [Mass/volume] in Serum or Plasma', '13457-7_Cholesterol in LDL [Mass/volume] in Serum or Plasma by calculation', '13458-5_Cholesterol in VLDL [Mass/volume] in Serum or Plasma by calculation', '2571-8_Triglyceride [Mass/volume] in Serum or Plasma', '2085-9_Cholesterol in HDL [Mass/volume] in Serum or Plasma', 'Current Smoker', 'Former Smoker', 'Never Smoker', 'Unknown Smoker', 'anticoagulation_therapy_apixaban', 'anticoagulation_therapy_argatroban', 'anticoagulation_therapy_dabigatran', 'anticoagulation_therapy_multiple', 'anticoagulation_therapy_not_documented', 'anticoagulation_therapy_rivaroxaban', 'anticoagulation_therapy_wafarin', 'NO_anticoagulation_therapy', 'MILD', 'SEVERE']\n"
     ]
    }
   ],
   "source": [
    "COVID19 = load_fn.fillWithMean(COVID19)\n",
    "COVID19 = COVID19.fillna(-1)"
   ]
  },
  {
   "cell_type": "code",
   "execution_count": 26,
   "metadata": {},
   "outputs": [
    {
     "name": "stdout",
     "output_type": "stream",
     "text": [
      "cell that are NaN: 0\n",
      "num cells in DB: 184176\n",
      "percentage of NaN: 0.0\n"
     ]
    }
   ],
   "source": [
    "print(\"cell that are NaN: \"+str(COVID19.isna().sum().sum()))\n",
    "print(\"num cells in DB: \" + str(COVID19.size))\n",
    "print('percentage of NaN: '+str((COVID19.isna().sum().sum()/COVID19.size)*100))"
   ]
  },
  {
   "cell_type": "markdown",
   "metadata": {},
   "source": [
    "### Division Clinical and Images"
   ]
  },
  {
   "cell_type": "code",
   "execution_count": 27,
   "metadata": {},
   "outputs": [],
   "source": [
    "imgCols = [\"number_images_in_time\",\"images_paths_in_time\",\"images_timestamp\",\"to_patient_id\"]\n",
    "y_cols = [\"MILD\",\"SEVERE\"]\n",
    "drop_cols = [\"number_images_in_time\",\"images_paths_in_time\",\"images_timestamp\",\"visit_start_datetime\",\"was_ventilated\",\"invasive_vent_days\",\"length_of_stay\",\"MILD\",\"SEVERE\"]"
   ]
  },
  {
   "cell_type": "code",
   "execution_count": 28,
   "metadata": {},
   "outputs": [],
   "source": [
    "clinicalDB = COVID19.drop(drop_cols,axis=\"columns\")\n",
    "imgDB = COVID19[imgCols]\n",
    "Y_FULL = COVID19[y_cols]"
   ]
  },
  {
   "cell_type": "code",
   "execution_count": 29,
   "metadata": {},
   "outputs": [],
   "source": [
    "# train // val\n",
    "X_cl_train, X_cl_val, Y_cl_train, Y_cl_val = train_test_split(clinicalDB,Y_FULL, test_size=0.2,shuffle=True, random_state=SEED)\n",
    "X_pt_train, X_pt_val, Y_im_train, Y_im_val = train_test_split(imgDB,Y_FULL, test_size=0.2,shuffle=True, random_state=SEED)"
   ]
  },
  {
   "cell_type": "markdown",
   "metadata": {},
   "source": [
    "#### Oversampling littlest class"
   ]
  },
  {
   "cell_type": "code",
   "execution_count": 30,
   "metadata": {},
   "outputs": [],
   "source": [
    "Y_im_train = np.argmax(Y_im_train.to_numpy(), axis=1)"
   ]
  },
  {
   "cell_type": "code",
   "execution_count": 31,
   "metadata": {},
   "outputs": [],
   "source": [
    "oversample = RandomOverSampler(sampling_strategy='minority')\n",
    "\n",
    "X_pt_train, Y_im_train = oversample.fit_resample(X_pt_train, Y_im_train)"
   ]
  },
  {
   "cell_type": "code",
   "execution_count": 32,
   "metadata": {},
   "outputs": [],
   "source": [
    "Y_im_train = np.tile(Y_im_train, (2, 1))\n",
    "Y_im_train[1,:] = Y_im_train[1,:] -1\n",
    "Y_im_train[1,:] = Y_im_train[1,:] *(-1)\n",
    "Y_im_train = np.transpose(Y_im_train)"
   ]
  },
  {
   "cell_type": "code",
   "execution_count": 33,
   "metadata": {},
   "outputs": [
    {
     "name": "stdout",
     "output_type": "stream",
     "text": [
      "(1622, 2)\n"
     ]
    }
   ],
   "source": [
    "print(Y_im_train.shape)"
   ]
  },
  {
   "cell_type": "markdown",
   "metadata": {},
   "source": [
    "#### IMAGE LOADING"
   ]
  },
  {
   "cell_type": "code",
   "execution_count": 34,
   "metadata": {},
   "outputs": [
    {
     "name": "stderr",
     "output_type": "stream",
     "text": [
      "100%|██████████| 1622/1622 [00:45<00:00, 35.41it/s]\n",
      "100%|██████████| 256/256 [00:08<00:00, 30.27it/s]\n"
     ]
    }
   ],
   "source": [
    "# t0 images loading\n",
    "t0_IMG_train = load_fn.loadImgTimeToArray(X_pt_train,IMG_SIZE,\"images_paths_in_time\",0,imagesBasePath)\n",
    "# t0_IMG_train = load_fn.loadImgTimeToArray(X_pt_train[:10],IMG_SIZE,\"images_paths_in_time\",0,imagesBasePath)\n",
    "t0_IMG_val = load_fn.loadImgTimeToArray(X_pt_val,IMG_SIZE,\"images_paths_in_time\",0,imagesBasePath)\n",
    "# t0_IMG_val = load_fn.loadImgTimeToArray(X_pt_val[:5],IMG_SIZE,\"images_paths_in_time\",0,imagesBasePath)\n",
    "# NEED OF OCR?"
   ]
  },
  {
   "cell_type": "code",
   "execution_count": 35,
   "metadata": {},
   "outputs": [],
   "source": [
    "# print(t0_IMG_val[4])"
   ]
  },
  {
   "cell_type": "code",
   "execution_count": 36,
   "metadata": {},
   "outputs": [
    {
     "data": {
      "text/plain": [
       "<matplotlib.image.AxesImage at 0x27336f5d160>"
      ]
     },
     "execution_count": 36,
     "metadata": {},
     "output_type": "execute_result"
    },
    {
     "data": {
      "image/png": "[encoded data removed]",
      "text/plain": [
       "<Figure size 432x288 with 1 Axes>"
      ]
     },
     "metadata": {
      "needs_background": "light"
     },
     "output_type": "display_data"
    }
   ],
   "source": [
    "plt.figure()\n",
    "plt.imshow(t0_IMG_val[4])"
   ]
  },
  {
   "cell_type": "markdown",
   "metadata": {},
   "source": [
    "#### CLINICAL NORMALIZATION"
   ]
  },
  {
   "cell_type": "code",
   "execution_count": 37,
   "metadata": {},
   "outputs": [],
   "source": [
    "X_cl_train = X_cl_train.drop(['to_patient_id','visit_concept_name', 'covid19_statuses'], axis='columns')\n",
    "X_cl_val = X_cl_val.drop(['to_patient_id','visit_concept_name', 'covid19_statuses'], axis='columns')\n",
    "\n",
    "scaler = MinMaxScaler()\n",
    "X_cl_train = pd.DataFrame(scaler.fit_transform(X_cl_train), columns=X_cl_train.columns,index=X_cl_train.index)\n",
    "X_cl_val = pd.DataFrame(scaler.transform(X_cl_val), columns=X_cl_val.columns,index=X_cl_val.index)\n"
   ]
  },
  {
   "cell_type": "markdown",
   "metadata": {},
   "source": [
    "## USAGE OF PRETRAINED MODELS or TRAIN IF NEEDED"
   ]
  },
  {
   "cell_type": "code",
   "execution_count": 38,
   "metadata": {},
   "outputs": [],
   "source": [
    "need_2_train_Clinical = False\n",
    "need_2_train_CNN = True"
   ]
  },
  {
   "cell_type": "code",
   "execution_count": 39,
   "metadata": {},
   "outputs": [],
   "source": [
    "# print(len(t0_IMG_val.shape))"
   ]
  },
  {
   "cell_type": "code",
   "execution_count": 40,
   "metadata": {},
   "outputs": [],
   "source": [
    "def focal_loss_custom(alpha, gamma):\n",
    "   def binary_focal_loss(y_true, y_pred):\n",
    "      fl = tfa.losses.SigmoidFocalCrossEntropy(alpha=alpha, gamma=gamma)\n",
    "      y_true_K = K.ones_like(y_true)\n",
    "      focal_loss = fl(y_true, y_pred)\n",
    "      return focal_loss\n",
    "   return binary_focal_loss"
   ]
  },
  {
   "cell_type": "code",
   "execution_count": 41,
   "metadata": {},
   "outputs": [],
   "source": [
    "def recall_m(y_true, y_pred):\n",
    "    true_positives = K.sum(K.round(K.clip(y_true * y_pred, 0, 1)))\n",
    "    possible_positives = K.sum(K.round(K.clip(y_true, 0, 1)))\n",
    "    recall = true_positives / (possible_positives + K.epsilon())\n",
    "    return recall\n",
    "\n",
    "def precision_m(y_true, y_pred):\n",
    "    true_positives = K.sum(K.round(K.clip(y_true * y_pred, 0, 1)))\n",
    "    predicted_positives = K.sum(K.round(K.clip(y_pred, 0, 1)))\n",
    "    precision = true_positives / (predicted_positives + K.epsilon())\n",
    "    return precision\n",
    "\n",
    "def f1_m(y_true, y_pred):\n",
    "    precision = precision_m(y_true, y_pred)\n",
    "    recall = recall_m(y_true, y_pred)\n",
    "    return 2*((precision*recall)/(precision+recall+K.epsilon()))"
   ]
  },
  {
   "cell_type": "code",
   "execution_count": 42,
   "metadata": {},
   "outputs": [
    {
     "name": "stdout",
     "output_type": "stream",
     "text": [
      "(None, 8720, 2)\n",
      "(None, 8720, 2)\n",
      "(None, 8720, 3)\n",
      "(None, 3)\n"
     ]
    }
   ],
   "source": [
    "# load Clinical model\n",
    "if need_2_train_Clinical:\n",
    "    model_clinical = clinical_fn.Create_MLP(X_cl_val.shape[1])\n",
    "\n",
    "\n",
    "# load CNN model 4 images\n",
    "if need_2_train_CNN:\n",
    "    # model_CNN = cnn_fn.Create_CNN_with_DS(loss=\"categorical_crossentropy\", optimizer=tf.keras.optimizers.Adam(\n",
    "    # model_CNN = cnn_fn.Create_CNN_with_DS(loss=focal_loss_custom(0.2, 2), optimizer=tf.keras.optimizers.Adam(\n",
    "    #     learning_rate=0.0001,\n",
    "    #     beta_1=0.9,\n",
    "    #     beta_2=0.999,\n",
    "    #     epsilon=1e-05,\n",
    "    #     amsgrad=False,\n",
    "    #     )\n",
    "    # model_CNN = cnn_fn.Create_CNN_with_DS(loss=focal_loss_custom(0.2, 2),optimizer='adam')\n",
    "    # model_CNN = cnn_fn.Create_CNN_with_DS(loss='categorical_crossentropy',optimizer='adam',metrics=['accuracy',f1_m])\n",
    "    # model_CNN = cnn_fn.Create_CNN_with_Lrog(loss='categorical_crossentropy',optimizer='adam',metrics=['accuracy',f1_m])\n",
    "    model_CNN = cnn_fn.Create_CNN_ASI(loss='categorical_crossentropy',optimizer='adam',metrics=['accuracy',f1_m])"
   ]
  },
  {
   "cell_type": "markdown",
   "metadata": {},
   "source": [
    "### TRAINING OF MODELS"
   ]
  },
  {
   "cell_type": "code",
   "execution_count": 43,
   "metadata": {},
   "outputs": [
    {
     "name": "stdout",
     "output_type": "stream",
     "text": [
      "(1622, 224, 224, 3)\n"
     ]
    }
   ],
   "source": [
    "print(t0_IMG_train.shape)"
   ]
  },
  {
   "cell_type": "code",
   "execution_count": 44,
   "metadata": {},
   "outputs": [
    {
     "name": "stdout",
     "output_type": "stream",
     "text": [
      "Labels for trainset:\n",
      "MILD      811.0\n",
      "SEVERE    212.0\n",
      "dtype: float32\n",
      "\n",
      "Labels for validationset:\n",
      "MILD      211.0\n",
      "SEVERE     45.0\n",
      "dtype: float32\n"
     ]
    }
   ],
   "source": [
    "mildNumber = Y_im_train.sum()\n",
    "severeNumber = Y_im_train.sum()\n",
    "total = Y_im_train.sum().sum()\n",
    "print(\"Labels for trainset:\")\n",
    "print(Y_cl_train.sum())\n",
    "print(\"\\nLabels for validationset:\")\n",
    "print(Y_cl_val.sum())"
   ]
  },
  {
   "cell_type": "code",
   "execution_count": 45,
   "metadata": {},
   "outputs": [
    {
     "name": "stdout",
     "output_type": "stream",
     "text": [
      "{0: 0.5, 1: 0.5}\n"
     ]
    }
   ],
   "source": [
    "weight_for_mild = (1/(mildNumber)) * (total / 2.0)\n",
    "weight_for_severe = (1/(severeNumber)) * (total / 2.0)\n",
    "\n",
    "class_weights = {0: weight_for_mild, 1: weight_for_severe}\n",
    "\n",
    "print(class_weights)"
   ]
  },
  {
   "cell_type": "code",
   "execution_count": 46,
   "metadata": {},
   "outputs": [],
   "source": [
    "from tensorflow.keras.preprocessing.image import ImageDataGenerator\n",
    "# Generators\n",
    "datagen = ImageDataGenerator(\n",
    "        rotation_range=20, # rotation\n",
    "        width_shift_range=0.1, # horizontal shift\n",
    "        height_shift_range=0.1, # vertical shift\n",
    "        zoom_range=0.1, # zoom\n",
    "        # horizontal_flip=True, # horizontal flip\n",
    "        # brightness_range=[0.2,1.2] # brightness\n",
    "        )"
   ]
  },
  {
   "cell_type": "code",
   "execution_count": 47,
   "metadata": {},
   "outputs": [],
   "source": [
    "checkpoint = tf.keras.callbacks.ModelCheckpoint(\n",
    "\t\t\t\t\tSaveTrainModelsPath / Path('cnn'), \n",
    "   \t\t\t\t\tmonitor='val_f1_m', \n",
    "   \t\t\t\t\tsave_best_only=True, mode='max')\n",
    "callbacks_list = [checkpoint]\n"
   ]
  },
  {
   "cell_type": "code",
   "execution_count": 48,
   "metadata": {},
   "outputs": [
    {
     "name": "stdout",
     "output_type": "stream",
     "text": [
      "Epoch 1/300\n",
      "51/51 [==============================] - ETA: 0s - loss: 0.9630 - accuracy: 0.5302 - f1_m: 0.5284"
     ]
    },
    {
     "name": "stderr",
     "output_type": "stream",
     "text": [
      "WARNING:absl:Found untraced functions such as _jit_compiled_convolution_op, _jit_compiled_convolution_op, _jit_compiled_convolution_op, _jit_compiled_convolution_op, _jit_compiled_convolution_op while saving (showing 5 of 16). These functions will not be directly callable after loading.\n"
     ]
    },
    {
     "name": "stdout",
     "output_type": "stream",
     "text": [
      "INFO:tensorflow:Assets written to: ..\\Temporal-Decision-Fusion\\Report\\Models\\cnn\\assets\n"
     ]
    },
    {
     "name": "stderr",
     "output_type": "stream",
     "text": [
      "INFO:tensorflow:Assets written to: ..\\Temporal-Decision-Fusion\\Report\\Models\\cnn\\assets\n"
     ]
    },
    {
     "name": "stdout",
     "output_type": "stream",
     "text": [
      "51/51 [==============================] - 12s 123ms/step - loss: 0.9630 - accuracy: 0.5302 - f1_m: 0.5284 - val_loss: 1.0554 - val_accuracy: 0.1758 - val_f1_m: 0.1758\n",
      "Epoch 2/300\n",
      "51/51 [==============================] - 1s 20ms/step - loss: 0.6001 - accuracy: 0.5327 - f1_m: 0.5333 - val_loss: 0.8666 - val_accuracy: 0.1758 - val_f1_m: 0.1758\n",
      "Epoch 3/300\n",
      "51/51 [==============================] - ETA: 0s - loss: 0.4820 - accuracy: 0.5530 - f1_m: 0.5538"
     ]
    },
    {
     "name": "stderr",
     "output_type": "stream",
     "text": [
      "WARNING:absl:Found untraced functions such as _jit_compiled_convolution_op, _jit_compiled_convolution_op, _jit_compiled_convolution_op, _jit_compiled_convolution_op, _jit_compiled_convolution_op while saving (showing 5 of 16). These functions will not be directly callable after loading.\n"
     ]
    },
    {
     "name": "stdout",
     "output_type": "stream",
     "text": [
      "INFO:tensorflow:Assets written to: ..\\Temporal-Decision-Fusion\\Report\\Models\\cnn\\assets\n"
     ]
    },
    {
     "name": "stderr",
     "output_type": "stream",
     "text": [
      "INFO:tensorflow:Assets written to: ..\\Temporal-Decision-Fusion\\Report\\Models\\cnn\\assets\n"
     ]
    },
    {
     "name": "stdout",
     "output_type": "stream",
     "text": [
      "51/51 [==============================] - 5s 102ms/step - loss: 0.4820 - accuracy: 0.5530 - f1_m: 0.5538 - val_loss: 0.8149 - val_accuracy: 0.1797 - val_f1_m: 0.1797\n",
      "Epoch 4/300\n",
      "51/51 [==============================] - 1s 20ms/step - loss: 0.4511 - accuracy: 0.5672 - f1_m: 0.5673 - val_loss: 0.7847 - val_accuracy: 0.1797 - val_f1_m: 0.1797\n",
      "Epoch 5/300\n",
      "51/51 [==============================] - 1s 18ms/step - loss: 0.4198 - accuracy: 0.5604 - f1_m: 0.5598 - val_loss: 0.7615 - val_accuracy: 0.1758 - val_f1_m: 0.1758\n",
      "Epoch 6/300\n",
      "51/51 [==============================] - 1s 18ms/step - loss: 0.4047 - accuracy: 0.5672 - f1_m: 0.5654 - val_loss: 0.7465 - val_accuracy: 0.1758 - val_f1_m: 0.1758\n",
      "Epoch 7/300\n",
      "51/51 [==============================] - 1s 18ms/step - loss: 0.3843 - accuracy: 0.5623 - f1_m: 0.5624 - val_loss: 0.7357 - val_accuracy: 0.1758 - val_f1_m: 0.1758\n",
      "Epoch 8/300\n",
      "48/51 [===========================>..] - ETA: 0s - loss: 0.3855 - accuracy: 0.5775 - f1_m: 0.5775"
     ]
    },
    {
     "name": "stderr",
     "output_type": "stream",
     "text": [
      "WARNING:absl:Found untraced functions such as _jit_compiled_convolution_op, _jit_compiled_convolution_op, _jit_compiled_convolution_op, _jit_compiled_convolution_op, _jit_compiled_convolution_op while saving (showing 5 of 16). These functions will not be directly callable after loading.\n"
     ]
    },
    {
     "name": "stdout",
     "output_type": "stream",
     "text": [
      "INFO:tensorflow:Assets written to: ..\\Temporal-Decision-Fusion\\Report\\Models\\cnn\\assets\n"
     ]
    },
    {
     "name": "stderr",
     "output_type": "stream",
     "text": [
      "INFO:tensorflow:Assets written to: ..\\Temporal-Decision-Fusion\\Report\\Models\\cnn\\assets\n"
     ]
    },
    {
     "name": "stdout",
     "output_type": "stream",
     "text": [
      "51/51 [==============================] - 5s 103ms/step - loss: 0.3850 - accuracy: 0.5752 - f1_m: 0.5742 - val_loss: 0.7278 - val_accuracy: 0.5508 - val_f1_m: 0.5508\n",
      "Epoch 9/300\n",
      "51/51 [==============================] - 1s 20ms/step - loss: 0.3694 - accuracy: 0.5715 - f1_m: 0.5719 - val_loss: 0.7211 - val_accuracy: 0.5039 - val_f1_m: 0.5039\n",
      "Epoch 10/300\n",
      "51/51 [==============================] - 1s 18ms/step - loss: 0.3633 - accuracy: 0.5666 - f1_m: 0.5676 - val_loss: 0.7189 - val_accuracy: 0.2188 - val_f1_m: 0.2187\n",
      "Epoch 11/300\n",
      "51/51 [==============================] - 1s 18ms/step - loss: 0.3639 - accuracy: 0.5697 - f1_m: 0.5692 - val_loss: 0.7197 - val_accuracy: 0.1758 - val_f1_m: 0.1758\n",
      "Epoch 12/300\n",
      "51/51 [==============================] - 1s 18ms/step - loss: 0.3533 - accuracy: 0.5789 - f1_m: 0.5795 - val_loss: 0.7191 - val_accuracy: 0.1758 - val_f1_m: 0.1758\n",
      "Epoch 13/300\n",
      "51/51 [==============================] - 1s 18ms/step - loss: 0.3513 - accuracy: 0.5863 - f1_m: 0.5855 - val_loss: 0.7570 - val_accuracy: 0.1680 - val_f1_m: 0.1680\n",
      "Epoch 14/300\n",
      "48/51 [===========================>..] - ETA: 0s - loss: 0.3645 - accuracy: 0.5586 - f1_m: 0.5586"
     ]
    },
    {
     "name": "stderr",
     "output_type": "stream",
     "text": [
      "WARNING:absl:Found untraced functions such as _jit_compiled_convolution_op, _jit_compiled_convolution_op, _jit_compiled_convolution_op, _jit_compiled_convolution_op, _jit_compiled_convolution_op while saving (showing 5 of 16). These functions will not be directly callable after loading.\n"
     ]
    },
    {
     "name": "stdout",
     "output_type": "stream",
     "text": [
      "INFO:tensorflow:Assets written to: ..\\Temporal-Decision-Fusion\\Report\\Models\\cnn\\assets\n"
     ]
    },
    {
     "name": "stderr",
     "output_type": "stream",
     "text": [
      "INFO:tensorflow:Assets written to: ..\\Temporal-Decision-Fusion\\Report\\Models\\cnn\\assets\n"
     ]
    },
    {
     "name": "stdout",
     "output_type": "stream",
     "text": [
      "51/51 [==============================] - 5s 103ms/step - loss: 0.3658 - accuracy: 0.5580 - f1_m: 0.5576 - val_loss: 0.5824 - val_accuracy: 0.8203 - val_f1_m: 0.8203\n",
      "Epoch 15/300\n",
      "51/51 [==============================] - 1s 21ms/step - loss: 0.3781 - accuracy: 0.5684 - f1_m: 0.5680 - val_loss: 0.7475 - val_accuracy: 0.1797 - val_f1_m: 0.1797\n",
      "Epoch 16/300\n",
      "51/51 [==============================] - 1s 18ms/step - loss: 0.3678 - accuracy: 0.5654 - f1_m: 0.5636 - val_loss: 0.7813 - val_accuracy: 0.1758 - val_f1_m: 0.1758\n",
      "Epoch 17/300\n",
      "51/51 [==============================] - 1s 18ms/step - loss: 0.3638 - accuracy: 0.5629 - f1_m: 0.5633 - val_loss: 13.3082 - val_accuracy: 0.1758 - val_f1_m: 0.1758\n",
      "Epoch 18/300\n",
      "51/51 [==============================] - 1s 18ms/step - loss: 0.3651 - accuracy: 0.5703 - f1_m: 0.5704 - val_loss: 4.3196 - val_accuracy: 0.1758 - val_f1_m: 0.1758\n",
      "Epoch 19/300\n",
      "51/51 [==============================] - 1s 18ms/step - loss: 0.3565 - accuracy: 0.5882 - f1_m: 0.5873 - val_loss: 0.7504 - val_accuracy: 0.1758 - val_f1_m: 0.1758\n",
      "Epoch 20/300\n",
      "51/51 [==============================] - 1s 19ms/step - loss: 0.3554 - accuracy: 0.5900 - f1_m: 0.5906 - val_loss: 0.8786 - val_accuracy: 0.3516 - val_f1_m: 0.3516\n",
      "Epoch 21/300\n",
      "51/51 [==============================] - 1s 18ms/step - loss: 0.4159 - accuracy: 0.5808 - f1_m: 0.5803 - val_loss: 12.8478 - val_accuracy: 0.1719 - val_f1_m: 0.1719\n",
      "Epoch 22/300\n",
      "51/51 [==============================] - 1s 19ms/step - loss: 0.3605 - accuracy: 0.5758 - f1_m: 0.5765 - val_loss: 1.0031 - val_accuracy: 0.2227 - val_f1_m: 0.2227\n",
      "Epoch 23/300\n",
      "50/51 [============================>.] - ETA: 0s - loss: 0.3541 - accuracy: 0.5681 - f1_m: 0.5681"
     ]
    },
    {
     "name": "stderr",
     "output_type": "stream",
     "text": [
      "WARNING:absl:Found untraced functions such as _jit_compiled_convolution_op, _jit_compiled_convolution_op, _jit_compiled_convolution_op, _jit_compiled_convolution_op, _jit_compiled_convolution_op while saving (showing 5 of 16). These functions will not be directly callable after loading.\n"
     ]
    },
    {
     "name": "stdout",
     "output_type": "stream",
     "text": [
      "INFO:tensorflow:Assets written to: ..\\Temporal-Decision-Fusion\\Report\\Models\\cnn\\assets\n"
     ]
    },
    {
     "name": "stderr",
     "output_type": "stream",
     "text": [
      "INFO:tensorflow:Assets written to: ..\\Temporal-Decision-Fusion\\Report\\Models\\cnn\\assets\n"
     ]
    },
    {
     "name": "stdout",
     "output_type": "stream",
     "text": [
      "51/51 [==============================] - 5s 104ms/step - loss: 0.3539 - accuracy: 0.5678 - f1_m: 0.5677 - val_loss: 2.6986 - val_accuracy: 0.8242 - val_f1_m: 0.8242\n",
      "Epoch 24/300\n",
      "51/51 [==============================] - 1s 22ms/step - loss: 0.3532 - accuracy: 0.5715 - f1_m: 0.5708 - val_loss: 2.2966 - val_accuracy: 0.8242 - val_f1_m: 0.8242\n",
      "Epoch 25/300\n",
      "51/51 [==============================] - 1s 18ms/step - loss: 0.3674 - accuracy: 0.5777 - f1_m: 0.5783 - val_loss: 1.9689 - val_accuracy: 0.8242 - val_f1_m: 0.8242\n",
      "Epoch 26/300\n",
      "51/51 [==============================] - 1s 18ms/step - loss: 0.3603 - accuracy: 0.5684 - f1_m: 0.5689 - val_loss: 2.8537 - val_accuracy: 0.8242 - val_f1_m: 0.8242\n",
      "Epoch 27/300\n",
      "51/51 [==============================] - 1s 18ms/step - loss: 0.3550 - accuracy: 0.5758 - f1_m: 0.5762 - val_loss: 2.7442 - val_accuracy: 0.8242 - val_f1_m: 0.8242\n",
      "Epoch 28/300\n",
      "51/51 [==============================] - 1s 19ms/step - loss: 0.3472 - accuracy: 0.5795 - f1_m: 0.5790 - val_loss: 0.7254 - val_accuracy: 0.2383 - val_f1_m: 0.2383\n",
      "Epoch 29/300\n",
      "51/51 [==============================] - 1s 19ms/step - loss: 0.3660 - accuracy: 0.5604 - f1_m: 0.5606 - val_loss: 2.8572 - val_accuracy: 0.8242 - val_f1_m: 0.8242\n",
      "Epoch 30/300\n",
      "51/51 [==============================] - 1s 18ms/step - loss: 0.3622 - accuracy: 0.5536 - f1_m: 0.5528 - val_loss: 0.7753 - val_accuracy: 0.2344 - val_f1_m: 0.2344\n",
      "Epoch 31/300\n",
      "51/51 [==============================] - 1s 18ms/step - loss: 0.3595 - accuracy: 0.5721 - f1_m: 0.5725 - val_loss: 0.7196 - val_accuracy: 0.4688 - val_f1_m: 0.4687\n",
      "Epoch 32/300\n",
      "51/51 [==============================] - 1s 18ms/step - loss: 0.3564 - accuracy: 0.5691 - f1_m: 0.5700 - val_loss: 0.7352 - val_accuracy: 0.1797 - val_f1_m: 0.1797\n",
      "Epoch 33/300\n",
      "51/51 [==============================] - 1s 18ms/step - loss: 0.3851 - accuracy: 0.5549 - f1_m: 0.5543 - val_loss: 2.8623 - val_accuracy: 0.8242 - val_f1_m: 0.8242\n",
      "Epoch 34/300\n",
      "51/51 [==============================] - 1s 19ms/step - loss: 0.3619 - accuracy: 0.6085 - f1_m: 0.6098 - val_loss: 1.0972 - val_accuracy: 0.8242 - val_f1_m: 0.8242\n",
      "Epoch 35/300\n",
      "51/51 [==============================] - 1s 19ms/step - loss: 0.3542 - accuracy: 0.5882 - f1_m: 0.5876 - val_loss: 0.7771 - val_accuracy: 0.4102 - val_f1_m: 0.4102\n",
      "Epoch 36/300\n",
      "51/51 [==============================] - 1s 19ms/step - loss: 0.3637 - accuracy: 0.5469 - f1_m: 0.5468 - val_loss: 0.6353 - val_accuracy: 0.6406 - val_f1_m: 0.6406\n",
      "Epoch 37/300\n",
      "51/51 [==============================] - 1s 19ms/step - loss: 0.3572 - accuracy: 0.5481 - f1_m: 0.5467 - val_loss: 0.7234 - val_accuracy: 0.2734 - val_f1_m: 0.2734\n",
      "Epoch 38/300\n",
      "51/51 [==============================] - 1s 19ms/step - loss: 0.3561 - accuracy: 0.5635 - f1_m: 0.5634 - val_loss: 0.7378 - val_accuracy: 0.1953 - val_f1_m: 0.1953\n",
      "Epoch 39/300\n",
      "51/51 [==============================] - 1s 19ms/step - loss: 0.3485 - accuracy: 0.5561 - f1_m: 0.5560 - val_loss: 0.7371 - val_accuracy: 0.1836 - val_f1_m: 0.1836\n",
      "Epoch 40/300\n",
      "51/51 [==============================] - 1s 19ms/step - loss: 0.3443 - accuracy: 0.5777 - f1_m: 0.5775 - val_loss: 0.7849 - val_accuracy: 0.1719 - val_f1_m: 0.1719\n",
      "Epoch 41/300\n",
      "51/51 [==============================] - 1s 19ms/step - loss: 0.3444 - accuracy: 0.5919 - f1_m: 0.5927 - val_loss: 0.7500 - val_accuracy: 0.3320 - val_f1_m: 0.3320\n",
      "Epoch 42/300\n",
      "51/51 [==============================] - 1s 19ms/step - loss: 0.3420 - accuracy: 0.6134 - f1_m: 0.6136 - val_loss: 2.0406 - val_accuracy: 0.2031 - val_f1_m: 0.2031\n",
      "Epoch 43/300\n",
      "51/51 [==============================] - 1s 19ms/step - loss: 0.3441 - accuracy: 0.6332 - f1_m: 0.6335 - val_loss: 0.8127 - val_accuracy: 0.3359 - val_f1_m: 0.3359\n",
      "Epoch 44/300\n",
      "51/51 [==============================] - 1s 18ms/step - loss: 0.3322 - accuracy: 0.6356 - f1_m: 0.6362 - val_loss: 0.8849 - val_accuracy: 0.7812 - val_f1_m: 0.7812\n",
      "Epoch 45/300\n",
      "51/51 [==============================] - 1s 19ms/step - loss: 0.3771 - accuracy: 0.6116 - f1_m: 0.6115 - val_loss: 0.6340 - val_accuracy: 0.8125 - val_f1_m: 0.8125\n",
      "Epoch 46/300\n",
      "51/51 [==============================] - 1s 18ms/step - loss: 0.3587 - accuracy: 0.6264 - f1_m: 0.6264 - val_loss: 0.6338 - val_accuracy: 0.8047 - val_f1_m: 0.8047\n",
      "Epoch 47/300\n",
      "51/51 [==============================] - 1s 18ms/step - loss: 0.3427 - accuracy: 0.6430 - f1_m: 0.6430 - val_loss: 1.4600 - val_accuracy: 0.8047 - val_f1_m: 0.8047\n",
      "Epoch 48/300\n",
      "51/51 [==============================] - 1s 18ms/step - loss: 0.3498 - accuracy: 0.6430 - f1_m: 0.6433 - val_loss: 0.7605 - val_accuracy: 0.6406 - val_f1_m: 0.6406\n",
      "Epoch 49/300\n",
      "51/51 [==============================] - 1s 18ms/step - loss: 0.3442 - accuracy: 0.6387 - f1_m: 0.6379 - val_loss: 0.7257 - val_accuracy: 0.4961 - val_f1_m: 0.4961\n",
      "Epoch 50/300\n",
      "51/51 [==============================] - 1s 20ms/step - loss: 0.3431 - accuracy: 0.6443 - f1_m: 0.6445 - val_loss: 1.5309 - val_accuracy: 0.8008 - val_f1_m: 0.8008\n",
      "Epoch 51/300\n",
      "51/51 [==============================] - 1s 19ms/step - loss: 0.3427 - accuracy: 0.6566 - f1_m: 0.6559 - val_loss: 0.8774 - val_accuracy: 0.4609 - val_f1_m: 0.4609\n",
      "Epoch 52/300\n",
      "51/51 [==============================] - 1s 19ms/step - loss: 0.3473 - accuracy: 0.6498 - f1_m: 0.6506 - val_loss: 1.9263 - val_accuracy: 0.8242 - val_f1_m: 0.8242\n",
      "Epoch 53/300\n",
      "51/51 [==============================] - 1s 18ms/step - loss: 0.3429 - accuracy: 0.6375 - f1_m: 0.6383 - val_loss: 2.8532 - val_accuracy: 0.8242 - val_f1_m: 0.8242\n",
      "Epoch 54/300\n",
      "51/51 [==============================] - 1s 19ms/step - loss: 0.3512 - accuracy: 0.6486 - f1_m: 0.6485 - val_loss: 2.8423 - val_accuracy: 0.8242 - val_f1_m: 0.8242\n",
      "Epoch 55/300\n",
      "51/51 [==============================] - 1s 18ms/step - loss: 0.3588 - accuracy: 0.6677 - f1_m: 0.6678 - val_loss: 0.8101 - val_accuracy: 0.3945 - val_f1_m: 0.3945\n",
      "Epoch 56/300\n",
      "40/51 [======================>.......] - ETA: 0s - loss: 0.3326 - accuracy: 0.6672 - f1_m: 0.6672"
     ]
    },
    {
     "ename": "KeyboardInterrupt",
     "evalue": "",
     "output_type": "error",
     "traceback": [
      "\u001b[1;31m---------------------------------------------------------------------------\u001b[0m",
      "\u001b[1;31mKeyboardInterrupt\u001b[0m                         Traceback (most recent call last)",
      "\u001b[1;32m~\\AppData\\Local\\Temp/ipykernel_20900/2821161108.py\u001b[0m in \u001b[0;36m<module>\u001b[1;34m\u001b[0m\n\u001b[0;32m      6\u001b[0m \u001b[1;32mif\u001b[0m \u001b[0mneed_2_train_CNN\u001b[0m\u001b[1;33m:\u001b[0m\u001b[1;33m\u001b[0m\u001b[1;33m\u001b[0m\u001b[0m\n\u001b[0;32m      7\u001b[0m     \u001b[1;31m# history_CNN = cnn_fn.fit_cnn(t0_IMG_train,Y_im_train,t0_IMG_val,Y_im_val,model_CNN,SaveTrainModelsPath,ep=100,weights=class_weights,datagen=datagen)\u001b[0m\u001b[1;33m\u001b[0m\u001b[1;33m\u001b[0m\u001b[0m\n\u001b[1;32m----> 8\u001b[1;33m     \u001b[0mhistory_CNN\u001b[0m \u001b[1;33m=\u001b[0m \u001b[0mcnn_fn\u001b[0m\u001b[1;33m.\u001b[0m\u001b[0mfit_cnn\u001b[0m\u001b[1;33m(\u001b[0m\u001b[0mt0_IMG_train\u001b[0m\u001b[1;33m,\u001b[0m\u001b[0mY_im_train\u001b[0m\u001b[1;33m,\u001b[0m\u001b[0mt0_IMG_val\u001b[0m\u001b[1;33m,\u001b[0m\u001b[0mY_im_val\u001b[0m\u001b[1;33m,\u001b[0m\u001b[0mmodel_CNN\u001b[0m\u001b[1;33m,\u001b[0m\u001b[0mSaveTrainModelsPath\u001b[0m\u001b[1;33m,\u001b[0m\u001b[0mpersonalizeCheckpoint\u001b[0m\u001b[1;33m=\u001b[0m\u001b[1;32mTrue\u001b[0m\u001b[1;33m,\u001b[0m\u001b[0mcheckpointList\u001b[0m\u001b[1;33m=\u001b[0m \u001b[0mcallbacks_list\u001b[0m\u001b[1;33m,\u001b[0m\u001b[0mep\u001b[0m\u001b[1;33m=\u001b[0m\u001b[1;36m300\u001b[0m\u001b[1;33m)\u001b[0m\u001b[1;33m\u001b[0m\u001b[1;33m\u001b[0m\u001b[0m\n\u001b[0m\u001b[0;32m      9\u001b[0m     \u001b[1;31m# history_CNN = cnn_fn.fit_cnn(t0_IMG_train,Y_im_train[:10],t0_IMG_val,Y_im_val[:5],model_CNN,SaveTrainModelsPath,personalizeCheckpoint=True,checkpointList= callbacks_list,ep=1)\u001b[0m\u001b[1;33m\u001b[0m\u001b[1;33m\u001b[0m\u001b[0m\n",
      "\u001b[1;32mm:\\UNIUD\\COVID 2022\\NY-DATABASE\\Notebooks\\Covid19_NY_CNN_Functions.py\u001b[0m in \u001b[0;36mfit_cnn\u001b[1;34m(X_tr, Y_tr, X_val, Y_val, model, checkpointPath, ep, bSize, personalizeCheckpoint, checkpointList, weights, datagen)\u001b[0m\n\u001b[0;32m    455\u001b[0m         )\n\u001b[0;32m    456\u001b[0m     \u001b[1;32melse\u001b[0m\u001b[1;33m:\u001b[0m\u001b[1;33m\u001b[0m\u001b[1;33m\u001b[0m\u001b[0m\n\u001b[1;32m--> 457\u001b[1;33m         history = model.fit(\n\u001b[0m\u001b[0;32m    458\u001b[0m             \u001b[0mx\u001b[0m \u001b[1;33m=\u001b[0m \u001b[0mX_tr\u001b[0m\u001b[1;33m,\u001b[0m\u001b[1;33m\u001b[0m\u001b[1;33m\u001b[0m\u001b[0m\n\u001b[0;32m    459\u001b[0m             \u001b[0my\u001b[0m \u001b[1;33m=\u001b[0m \u001b[0mY_tr\u001b[0m\u001b[1;33m,\u001b[0m\u001b[1;33m\u001b[0m\u001b[1;33m\u001b[0m\u001b[0m\n",
      "\u001b[1;32mc:\\Users\\Michele\\anaconda3\\envs\\tfGPU\\lib\\site-packages\\keras\\utils\\traceback_utils.py\u001b[0m in \u001b[0;36merror_handler\u001b[1;34m(*args, **kwargs)\u001b[0m\n\u001b[0;32m     62\u001b[0m     \u001b[0mfiltered_tb\u001b[0m \u001b[1;33m=\u001b[0m \u001b[1;32mNone\u001b[0m\u001b[1;33m\u001b[0m\u001b[1;33m\u001b[0m\u001b[0m\n\u001b[0;32m     63\u001b[0m     \u001b[1;32mtry\u001b[0m\u001b[1;33m:\u001b[0m\u001b[1;33m\u001b[0m\u001b[1;33m\u001b[0m\u001b[0m\n\u001b[1;32m---> 64\u001b[1;33m       \u001b[1;32mreturn\u001b[0m \u001b[0mfn\u001b[0m\u001b[1;33m(\u001b[0m\u001b[1;33m*\u001b[0m\u001b[0margs\u001b[0m\u001b[1;33m,\u001b[0m \u001b[1;33m**\u001b[0m\u001b[0mkwargs\u001b[0m\u001b[1;33m)\u001b[0m\u001b[1;33m\u001b[0m\u001b[1;33m\u001b[0m\u001b[0m\n\u001b[0m\u001b[0;32m     65\u001b[0m     \u001b[1;32mexcept\u001b[0m \u001b[0mException\u001b[0m \u001b[1;32mas\u001b[0m \u001b[0me\u001b[0m\u001b[1;33m:\u001b[0m  \u001b[1;31m# pylint: disable=broad-except\u001b[0m\u001b[1;33m\u001b[0m\u001b[1;33m\u001b[0m\u001b[0m\n\u001b[0;32m     66\u001b[0m       \u001b[0mfiltered_tb\u001b[0m \u001b[1;33m=\u001b[0m \u001b[0m_process_traceback_frames\u001b[0m\u001b[1;33m(\u001b[0m\u001b[0me\u001b[0m\u001b[1;33m.\u001b[0m\u001b[0m__traceback__\u001b[0m\u001b[1;33m)\u001b[0m\u001b[1;33m\u001b[0m\u001b[1;33m\u001b[0m\u001b[0m\n",
      "\u001b[1;32mc:\\Users\\Michele\\anaconda3\\envs\\tfGPU\\lib\\site-packages\\keras\\engine\\training.py\u001b[0m in \u001b[0;36mfit\u001b[1;34m(self, x, y, batch_size, epochs, verbose, callbacks, validation_split, validation_data, shuffle, class_weight, sample_weight, initial_epoch, steps_per_epoch, validation_steps, validation_batch_size, validation_freq, max_queue_size, workers, use_multiprocessing)\u001b[0m\n\u001b[0;32m   1407\u001b[0m                 _r=1):\n\u001b[0;32m   1408\u001b[0m               \u001b[0mcallbacks\u001b[0m\u001b[1;33m.\u001b[0m\u001b[0mon_train_batch_begin\u001b[0m\u001b[1;33m(\u001b[0m\u001b[0mstep\u001b[0m\u001b[1;33m)\u001b[0m\u001b[1;33m\u001b[0m\u001b[1;33m\u001b[0m\u001b[0m\n\u001b[1;32m-> 1409\u001b[1;33m               \u001b[0mtmp_logs\u001b[0m \u001b[1;33m=\u001b[0m \u001b[0mself\u001b[0m\u001b[1;33m.\u001b[0m\u001b[0mtrain_function\u001b[0m\u001b[1;33m(\u001b[0m\u001b[0miterator\u001b[0m\u001b[1;33m)\u001b[0m\u001b[1;33m\u001b[0m\u001b[1;33m\u001b[0m\u001b[0m\n\u001b[0m\u001b[0;32m   1410\u001b[0m               \u001b[1;32mif\u001b[0m \u001b[0mdata_handler\u001b[0m\u001b[1;33m.\u001b[0m\u001b[0mshould_sync\u001b[0m\u001b[1;33m:\u001b[0m\u001b[1;33m\u001b[0m\u001b[1;33m\u001b[0m\u001b[0m\n\u001b[0;32m   1411\u001b[0m                 \u001b[0mcontext\u001b[0m\u001b[1;33m.\u001b[0m\u001b[0masync_wait\u001b[0m\u001b[1;33m(\u001b[0m\u001b[1;33m)\u001b[0m\u001b[1;33m\u001b[0m\u001b[1;33m\u001b[0m\u001b[0m\n",
      "\u001b[1;32m~\\AppData\\Roaming\\Python\\Python39\\site-packages\\tensorflow\\python\\util\\traceback_utils.py\u001b[0m in \u001b[0;36merror_handler\u001b[1;34m(*args, **kwargs)\u001b[0m\n\u001b[0;32m    148\u001b[0m     \u001b[0mfiltered_tb\u001b[0m \u001b[1;33m=\u001b[0m \u001b[1;32mNone\u001b[0m\u001b[1;33m\u001b[0m\u001b[1;33m\u001b[0m\u001b[0m\n\u001b[0;32m    149\u001b[0m     \u001b[1;32mtry\u001b[0m\u001b[1;33m:\u001b[0m\u001b[1;33m\u001b[0m\u001b[1;33m\u001b[0m\u001b[0m\n\u001b[1;32m--> 150\u001b[1;33m       \u001b[1;32mreturn\u001b[0m \u001b[0mfn\u001b[0m\u001b[1;33m(\u001b[0m\u001b[1;33m*\u001b[0m\u001b[0margs\u001b[0m\u001b[1;33m,\u001b[0m \u001b[1;33m**\u001b[0m\u001b[0mkwargs\u001b[0m\u001b[1;33m)\u001b[0m\u001b[1;33m\u001b[0m\u001b[1;33m\u001b[0m\u001b[0m\n\u001b[0m\u001b[0;32m    151\u001b[0m     \u001b[1;32mexcept\u001b[0m \u001b[0mException\u001b[0m \u001b[1;32mas\u001b[0m \u001b[0me\u001b[0m\u001b[1;33m:\u001b[0m\u001b[1;33m\u001b[0m\u001b[1;33m\u001b[0m\u001b[0m\n\u001b[0;32m    152\u001b[0m       \u001b[0mfiltered_tb\u001b[0m \u001b[1;33m=\u001b[0m \u001b[0m_process_traceback_frames\u001b[0m\u001b[1;33m(\u001b[0m\u001b[0me\u001b[0m\u001b[1;33m.\u001b[0m\u001b[0m__traceback__\u001b[0m\u001b[1;33m)\u001b[0m\u001b[1;33m\u001b[0m\u001b[1;33m\u001b[0m\u001b[0m\n",
      "\u001b[1;32m~\\AppData\\Roaming\\Python\\Python39\\site-packages\\tensorflow\\python\\eager\\def_function.py\u001b[0m in \u001b[0;36m__call__\u001b[1;34m(self, *args, **kwds)\u001b[0m\n\u001b[0;32m    913\u001b[0m \u001b[1;33m\u001b[0m\u001b[0m\n\u001b[0;32m    914\u001b[0m       \u001b[1;32mwith\u001b[0m \u001b[0mOptionalXlaContext\u001b[0m\u001b[1;33m(\u001b[0m\u001b[0mself\u001b[0m\u001b[1;33m.\u001b[0m\u001b[0m_jit_compile\u001b[0m\u001b[1;33m)\u001b[0m\u001b[1;33m:\u001b[0m\u001b[1;33m\u001b[0m\u001b[1;33m\u001b[0m\u001b[0m\n\u001b[1;32m--> 915\u001b[1;33m         \u001b[0mresult\u001b[0m \u001b[1;33m=\u001b[0m \u001b[0mself\u001b[0m\u001b[1;33m.\u001b[0m\u001b[0m_call\u001b[0m\u001b[1;33m(\u001b[0m\u001b[1;33m*\u001b[0m\u001b[0margs\u001b[0m\u001b[1;33m,\u001b[0m \u001b[1;33m**\u001b[0m\u001b[0mkwds\u001b[0m\u001b[1;33m)\u001b[0m\u001b[1;33m\u001b[0m\u001b[1;33m\u001b[0m\u001b[0m\n\u001b[0m\u001b[0;32m    916\u001b[0m \u001b[1;33m\u001b[0m\u001b[0m\n\u001b[0;32m    917\u001b[0m       \u001b[0mnew_tracing_count\u001b[0m \u001b[1;33m=\u001b[0m \u001b[0mself\u001b[0m\u001b[1;33m.\u001b[0m\u001b[0mexperimental_get_tracing_count\u001b[0m\u001b[1;33m(\u001b[0m\u001b[1;33m)\u001b[0m\u001b[1;33m\u001b[0m\u001b[1;33m\u001b[0m\u001b[0m\n",
      "\u001b[1;32m~\\AppData\\Roaming\\Python\\Python39\\site-packages\\tensorflow\\python\\eager\\def_function.py\u001b[0m in \u001b[0;36m_call\u001b[1;34m(self, *args, **kwds)\u001b[0m\n\u001b[0;32m    945\u001b[0m       \u001b[1;31m# In this case we have created variables on the first call, so we run the\u001b[0m\u001b[1;33m\u001b[0m\u001b[1;33m\u001b[0m\u001b[0m\n\u001b[0;32m    946\u001b[0m       \u001b[1;31m# defunned version which is guaranteed to never create variables.\u001b[0m\u001b[1;33m\u001b[0m\u001b[1;33m\u001b[0m\u001b[0m\n\u001b[1;32m--> 947\u001b[1;33m       \u001b[1;32mreturn\u001b[0m \u001b[0mself\u001b[0m\u001b[1;33m.\u001b[0m\u001b[0m_stateless_fn\u001b[0m\u001b[1;33m(\u001b[0m\u001b[1;33m*\u001b[0m\u001b[0margs\u001b[0m\u001b[1;33m,\u001b[0m \u001b[1;33m**\u001b[0m\u001b[0mkwds\u001b[0m\u001b[1;33m)\u001b[0m  \u001b[1;31m# pylint: disable=not-callable\u001b[0m\u001b[1;33m\u001b[0m\u001b[1;33m\u001b[0m\u001b[0m\n\u001b[0m\u001b[0;32m    948\u001b[0m     \u001b[1;32melif\u001b[0m \u001b[0mself\u001b[0m\u001b[1;33m.\u001b[0m\u001b[0m_stateful_fn\u001b[0m \u001b[1;32mis\u001b[0m \u001b[1;32mnot\u001b[0m \u001b[1;32mNone\u001b[0m\u001b[1;33m:\u001b[0m\u001b[1;33m\u001b[0m\u001b[1;33m\u001b[0m\u001b[0m\n\u001b[0;32m    949\u001b[0m       \u001b[1;31m# Release the lock early so that multiple threads can perform the call\u001b[0m\u001b[1;33m\u001b[0m\u001b[1;33m\u001b[0m\u001b[0m\n",
      "\u001b[1;32m~\\AppData\\Roaming\\Python\\Python39\\site-packages\\tensorflow\\python\\eager\\function.py\u001b[0m in \u001b[0;36m__call__\u001b[1;34m(self, *args, **kwargs)\u001b[0m\n\u001b[0;32m   2451\u001b[0m       (graph_function,\n\u001b[0;32m   2452\u001b[0m        filtered_flat_args) = self._maybe_define_function(args, kwargs)\n\u001b[1;32m-> 2453\u001b[1;33m     return graph_function._call_flat(\n\u001b[0m\u001b[0;32m   2454\u001b[0m         filtered_flat_args, captured_inputs=graph_function.captured_inputs)  # pylint: disable=protected-access\n\u001b[0;32m   2455\u001b[0m \u001b[1;33m\u001b[0m\u001b[0m\n",
      "\u001b[1;32m~\\AppData\\Roaming\\Python\\Python39\\site-packages\\tensorflow\\python\\eager\\function.py\u001b[0m in \u001b[0;36m_call_flat\u001b[1;34m(self, args, captured_inputs, cancellation_manager)\u001b[0m\n\u001b[0;32m   1858\u001b[0m         and executing_eagerly):\n\u001b[0;32m   1859\u001b[0m       \u001b[1;31m# No tape is watching; skip to running the function.\u001b[0m\u001b[1;33m\u001b[0m\u001b[1;33m\u001b[0m\u001b[0m\n\u001b[1;32m-> 1860\u001b[1;33m       return self._build_call_outputs(self._inference_function.call(\n\u001b[0m\u001b[0;32m   1861\u001b[0m           ctx, args, cancellation_manager=cancellation_manager))\n\u001b[0;32m   1862\u001b[0m     forward_backward = self._select_forward_and_backward_functions(\n",
      "\u001b[1;32m~\\AppData\\Roaming\\Python\\Python39\\site-packages\\tensorflow\\python\\eager\\function.py\u001b[0m in \u001b[0;36mcall\u001b[1;34m(self, ctx, args, cancellation_manager)\u001b[0m\n\u001b[0;32m    495\u001b[0m       \u001b[1;32mwith\u001b[0m \u001b[0m_InterpolateFunctionError\u001b[0m\u001b[1;33m(\u001b[0m\u001b[0mself\u001b[0m\u001b[1;33m)\u001b[0m\u001b[1;33m:\u001b[0m\u001b[1;33m\u001b[0m\u001b[1;33m\u001b[0m\u001b[0m\n\u001b[0;32m    496\u001b[0m         \u001b[1;32mif\u001b[0m \u001b[0mcancellation_manager\u001b[0m \u001b[1;32mis\u001b[0m \u001b[1;32mNone\u001b[0m\u001b[1;33m:\u001b[0m\u001b[1;33m\u001b[0m\u001b[1;33m\u001b[0m\u001b[0m\n\u001b[1;32m--> 497\u001b[1;33m           outputs = execute.execute(\n\u001b[0m\u001b[0;32m    498\u001b[0m               \u001b[0mstr\u001b[0m\u001b[1;33m(\u001b[0m\u001b[0mself\u001b[0m\u001b[1;33m.\u001b[0m\u001b[0msignature\u001b[0m\u001b[1;33m.\u001b[0m\u001b[0mname\u001b[0m\u001b[1;33m)\u001b[0m\u001b[1;33m,\u001b[0m\u001b[1;33m\u001b[0m\u001b[1;33m\u001b[0m\u001b[0m\n\u001b[0;32m    499\u001b[0m               \u001b[0mnum_outputs\u001b[0m\u001b[1;33m=\u001b[0m\u001b[0mself\u001b[0m\u001b[1;33m.\u001b[0m\u001b[0m_num_outputs\u001b[0m\u001b[1;33m,\u001b[0m\u001b[1;33m\u001b[0m\u001b[1;33m\u001b[0m\u001b[0m\n",
      "\u001b[1;32m~\\AppData\\Roaming\\Python\\Python39\\site-packages\\tensorflow\\python\\eager\\execute.py\u001b[0m in \u001b[0;36mquick_execute\u001b[1;34m(op_name, num_outputs, inputs, attrs, ctx, name)\u001b[0m\n\u001b[0;32m     52\u001b[0m   \u001b[1;32mtry\u001b[0m\u001b[1;33m:\u001b[0m\u001b[1;33m\u001b[0m\u001b[1;33m\u001b[0m\u001b[0m\n\u001b[0;32m     53\u001b[0m     \u001b[0mctx\u001b[0m\u001b[1;33m.\u001b[0m\u001b[0mensure_initialized\u001b[0m\u001b[1;33m(\u001b[0m\u001b[1;33m)\u001b[0m\u001b[1;33m\u001b[0m\u001b[1;33m\u001b[0m\u001b[0m\n\u001b[1;32m---> 54\u001b[1;33m     tensors = pywrap_tfe.TFE_Py_Execute(ctx._handle, device_name, op_name,\n\u001b[0m\u001b[0;32m     55\u001b[0m                                         inputs, attrs, num_outputs)\n\u001b[0;32m     56\u001b[0m   \u001b[1;32mexcept\u001b[0m \u001b[0mcore\u001b[0m\u001b[1;33m.\u001b[0m\u001b[0m_NotOkStatusException\u001b[0m \u001b[1;32mas\u001b[0m \u001b[0me\u001b[0m\u001b[1;33m:\u001b[0m\u001b[1;33m\u001b[0m\u001b[1;33m\u001b[0m\u001b[0m\n",
      "\u001b[1;31mKeyboardInterrupt\u001b[0m: "
     ]
    }
   ],
   "source": [
    "# clinical:\n",
    "if need_2_train_Clinical:\n",
    "    history_clinical = clinical_fn.fit_mlp(X_cl_train,Y_cl_train,X_cl_val,Y_cl_val,model_clinical,SaveTrainModelsPath)\n",
    "    \n",
    "# cnn\n",
    "if need_2_train_CNN:\n",
    "    # history_CNN = cnn_fn.fit_cnn(t0_IMG_train,Y_im_train,t0_IMG_val,Y_im_val,model_CNN,SaveTrainModelsPath,ep=100,weights=class_weights,datagen=datagen)\n",
    "    history_CNN = cnn_fn.fit_cnn(t0_IMG_train,Y_im_train,t0_IMG_val,Y_im_val,model_CNN,SaveTrainModelsPath,personalizeCheckpoint=True,checkpointList= callbacks_list,ep=300)\n",
    "    # history_CNN = cnn_fn.fit_cnn(t0_IMG_train,Y_im_train[:10],t0_IMG_val,Y_im_val[:5],model_CNN,SaveTrainModelsPath,personalizeCheckpoint=True,checkpointList= callbacks_list,ep=1)"
   ]
  },
  {
   "cell_type": "code",
   "execution_count": null,
   "metadata": {},
   "outputs": [
    {
     "name": "stdout",
     "output_type": "stream",
     "text": [
      "Model: \"model\"\n",
      "__________________________________________________________________________________________________\n",
      " Layer (type)                   Output Shape         Param #     Connected to                     \n",
      "==================================================================================================\n",
      " input_1 (InputLayer)           [(None, 224, 224, 3  0           []                               \n",
      "                                )]                                                                \n",
      "                                                                                                  \n",
      " conv2d (Conv2D)                (None, 112, 112, 16  1216        ['input_1[0][0]']                \n",
      "                                )                                                                 \n",
      "                                                                                                  \n",
      " batch_normalization (BatchNorm  (None, 112, 112, 16  64         ['conv2d[0][0]']                 \n",
      " alization)                     )                                                                 \n",
      "                                                                                                  \n",
      " re_lu (ReLU)                   (None, 112, 112, 16  0           ['batch_normalization[0][0]']    \n",
      "                                )                                                                 \n",
      "                                                                                                  \n",
      " conv2d_1 (Conv2D)              (None, 56, 56, 32)   4640        ['re_lu[0][0]']                  \n",
      "                                                                                                  \n",
      " batch_normalization_1 (BatchNo  (None, 56, 56, 32)  128         ['conv2d_1[0][0]']               \n",
      " rmalization)                                                                                     \n",
      "                                                                                                  \n",
      " re_lu_1 (ReLU)                 (None, 56, 56, 32)   0           ['batch_normalization_1[0][0]']  \n",
      "                                                                                                  \n",
      " conv2d_2 (Conv2D)              (None, 56, 56, 32)   9248        ['re_lu_1[0][0]']                \n",
      "                                                                                                  \n",
      " conv2d_3 (Conv2D)              (None, 56, 56, 32)   544         ['re_lu[0][0]']                  \n",
      "                                                                                                  \n",
      " batch_normalization_2 (BatchNo  (None, 56, 56, 32)  128         ['conv2d_2[0][0]']               \n",
      " rmalization)                                                                                     \n",
      "                                                                                                  \n",
      " batch_normalization_3 (BatchNo  (None, 56, 56, 32)  128         ['conv2d_3[0][0]']               \n",
      " rmalization)                                                                                     \n",
      "                                                                                                  \n",
      " re_lu_2 (ReLU)                 (None, 56, 56, 32)   0           ['batch_normalization_2[0][0]']  \n",
      "                                                                                                  \n",
      " re_lu_3 (ReLU)                 (None, 56, 56, 32)   0           ['batch_normalization_3[0][0]']  \n",
      "                                                                                                  \n",
      " add (Add)                      (None, 56, 56, 32)   0           ['re_lu_2[0][0]',                \n",
      "                                                                  're_lu_3[0][0]']                \n",
      "                                                                                                  \n",
      " average_pooling2d (AveragePool  (None, 28, 28, 32)  0           ['add[0][0]']                    \n",
      " ing2D)                                                                                           \n",
      "                                                                                                  \n",
      " conv2d_4 (Conv2D)              (None, 28, 28, 48)   13872       ['average_pooling2d[0][0]']      \n",
      "                                                                                                  \n",
      " batch_normalization_4 (BatchNo  (None, 28, 28, 48)  192         ['conv2d_4[0][0]']               \n",
      " rmalization)                                                                                     \n",
      "                                                                                                  \n",
      " re_lu_4 (ReLU)                 (None, 28, 28, 48)   0           ['batch_normalization_4[0][0]']  \n",
      "                                                                                                  \n",
      " conv2d_5 (Conv2D)              (None, 28, 28, 48)   20784       ['re_lu_4[0][0]']                \n",
      "                                                                                                  \n",
      " conv2d_6 (Conv2D)              (None, 28, 28, 48)   1584        ['average_pooling2d[0][0]']      \n",
      "                                                                                                  \n",
      " batch_normalization_5 (BatchNo  (None, 28, 28, 48)  192         ['conv2d_5[0][0]']               \n",
      " rmalization)                                                                                     \n",
      "                                                                                                  \n",
      " batch_normalization_6 (BatchNo  (None, 28, 28, 48)  192         ['conv2d_6[0][0]']               \n",
      " rmalization)                                                                                     \n",
      "                                                                                                  \n",
      " re_lu_5 (ReLU)                 (None, 28, 28, 48)   0           ['batch_normalization_5[0][0]']  \n",
      "                                                                                                  \n",
      " re_lu_6 (ReLU)                 (None, 28, 28, 48)   0           ['batch_normalization_6[0][0]']  \n",
      "                                                                                                  \n",
      " add_1 (Add)                    (None, 28, 28, 48)   0           ['re_lu_5[0][0]',                \n",
      "                                                                  're_lu_6[0][0]']                \n",
      "                                                                                                  \n",
      " average_pooling2d_1 (AveragePo  (None, 14, 14, 48)  0           ['add_1[0][0]']                  \n",
      " oling2D)                                                                                         \n",
      "                                                                                                  \n",
      " conv2d_7 (Conv2D)              (None, 14, 14, 64)   27712       ['average_pooling2d_1[0][0]']    \n",
      "                                                                                                  \n",
      " batch_normalization_7 (BatchNo  (None, 14, 14, 64)  256         ['conv2d_7[0][0]']               \n",
      " rmalization)                                                                                     \n",
      "                                                                                                  \n",
      " re_lu_7 (ReLU)                 (None, 14, 14, 64)   0           ['batch_normalization_7[0][0]']  \n",
      "                                                                                                  \n",
      " conv2d_8 (Conv2D)              (None, 14, 14, 64)   36928       ['re_lu_7[0][0]']                \n",
      "                                                                                                  \n",
      " conv2d_9 (Conv2D)              (None, 14, 14, 64)   3136        ['average_pooling2d_1[0][0]']    \n",
      "                                                                                                  \n",
      " batch_normalization_8 (BatchNo  (None, 14, 14, 64)  256         ['conv2d_8[0][0]']               \n",
      " rmalization)                                                                                     \n",
      "                                                                                                  \n",
      " batch_normalization_9 (BatchNo  (None, 14, 14, 64)  256         ['conv2d_9[0][0]']               \n",
      " rmalization)                                                                                     \n",
      "                                                                                                  \n",
      " re_lu_8 (ReLU)                 (None, 14, 14, 64)   0           ['batch_normalization_8[0][0]']  \n",
      "                                                                                                  \n",
      " re_lu_9 (ReLU)                 (None, 14, 14, 64)   0           ['batch_normalization_9[0][0]']  \n",
      "                                                                                                  \n",
      " add_2 (Add)                    (None, 14, 14, 64)   0           ['re_lu_8[0][0]',                \n",
      "                                                                  're_lu_9[0][0]']                \n",
      "                                                                                                  \n",
      " average_pooling2d_2 (AveragePo  (None, 7, 7, 64)    0           ['add_2[0][0]']                  \n",
      " oling2D)                                                                                         \n",
      "                                                                                                  \n",
      " conv2d_10 (Conv2D)             (None, 7, 7, 80)     46160       ['average_pooling2d_2[0][0]']    \n",
      "                                                                                                  \n",
      " batch_normalization_10 (BatchN  (None, 7, 7, 80)    320         ['conv2d_10[0][0]']              \n",
      " ormalization)                                                                                    \n",
      "                                                                                                  \n",
      " re_lu_10 (ReLU)                (None, 7, 7, 80)     0           ['batch_normalization_10[0][0]'] \n",
      "                                                                                                  \n",
      " conv2d_11 (Conv2D)             (None, 7, 7, 80)     57680       ['re_lu_10[0][0]']               \n",
      "                                                                                                  \n",
      " conv2d_12 (Conv2D)             (None, 7, 7, 80)     5200        ['average_pooling2d_2[0][0]']    \n",
      "                                                                                                  \n",
      " batch_normalization_11 (BatchN  (None, 7, 7, 80)    320         ['conv2d_11[0][0]']              \n",
      " ormalization)                                                                                    \n",
      "                                                                                                  \n",
      " batch_normalization_12 (BatchN  (None, 7, 7, 80)    320         ['conv2d_12[0][0]']              \n",
      " ormalization)                                                                                    \n",
      "                                                                                                  \n",
      " re_lu_11 (ReLU)                (None, 7, 7, 80)     0           ['batch_normalization_11[0][0]'] \n",
      "                                                                                                  \n",
      " re_lu_12 (ReLU)                (None, 7, 7, 80)     0           ['batch_normalization_12[0][0]'] \n",
      "                                                                                                  \n",
      " add_3 (Add)                    (None, 7, 7, 80)     0           ['re_lu_11[0][0]',               \n",
      "                                                                  're_lu_12[0][0]']               \n",
      "                                                                                                  \n",
      " average_pooling2d_3 (AveragePo  (None, 4, 4, 80)    0           ['add_3[0][0]']                  \n",
      " oling2D)                                                                                         \n",
      "                                                                                                  \n",
      " conv2d_13 (Conv2D)             (None, 4, 4, 96)     69216       ['average_pooling2d_3[0][0]']    \n",
      "                                                                                                  \n",
      " batch_normalization_13 (BatchN  (None, 4, 4, 96)    384         ['conv2d_13[0][0]']              \n",
      " ormalization)                                                                                    \n",
      "                                                                                                  \n",
      " re_lu_13 (ReLU)                (None, 4, 4, 96)     0           ['batch_normalization_13[0][0]'] \n",
      "                                                                                                  \n",
      " conv2d_14 (Conv2D)             (None, 4, 4, 96)     83040       ['re_lu_13[0][0]']               \n",
      "                                                                                                  \n",
      " conv2d_15 (Conv2D)             (None, 4, 4, 96)     7776        ['average_pooling2d_3[0][0]']    \n",
      "                                                                                                  \n",
      " batch_normalization_14 (BatchN  (None, 4, 4, 96)    384         ['conv2d_14[0][0]']              \n",
      " ormalization)                                                                                    \n",
      "                                                                                                  \n",
      " batch_normalization_15 (BatchN  (None, 4, 4, 96)    384         ['conv2d_15[0][0]']              \n",
      " ormalization)                                                                                    \n",
      "                                                                                                  \n",
      " re_lu_14 (ReLU)                (None, 4, 4, 96)     0           ['batch_normalization_14[0][0]'] \n",
      "                                                                                                  \n",
      " re_lu_15 (ReLU)                (None, 4, 4, 96)     0           ['batch_normalization_15[0][0]'] \n",
      "                                                                                                  \n",
      " add_4 (Add)                    (None, 4, 4, 96)     0           ['re_lu_14[0][0]',               \n",
      "                                                                  're_lu_15[0][0]']               \n",
      "                                                                                                  \n",
      " max_pooling2d (MaxPooling2D)   (None, 7, 7, 32)     0           ['average_pooling2d[0][0]']      \n",
      "                                                                                                  \n",
      " max_pooling2d_1 (MaxPooling2D)  (None, 7, 7, 48)    0           ['average_pooling2d_1[0][0]']    \n",
      "                                                                                                  \n",
      " average_pooling2d_4 (AveragePo  (None, 2, 2, 96)    0           ['add_4[0][0]']                  \n",
      " oling2D)                                                                                         \n",
      "                                                                                                  \n",
      " flatten (Flatten)              (None, 1568)         0           ['max_pooling2d[0][0]']          \n",
      "                                                                                                  \n",
      " flatten_1 (Flatten)            (None, 2352)         0           ['max_pooling2d_1[0][0]']        \n",
      "                                                                                                  \n",
      " flatten_2 (Flatten)            (None, 3136)         0           ['average_pooling2d_2[0][0]']    \n",
      "                                                                                                  \n",
      " flatten_3 (Flatten)            (None, 1280)         0           ['average_pooling2d_3[0][0]']    \n",
      "                                                                                                  \n",
      " flatten_4 (Flatten)            (None, 384)          0           ['average_pooling2d_4[0][0]']    \n",
      "                                                                                                  \n",
      " concatenate (Concatenate)      (None, 8720)         0           ['flatten[0][0]',                \n",
      "                                                                  'flatten_1[0][0]',              \n",
      "                                                                  'flatten_2[0][0]',              \n",
      "                                                                  'flatten_3[0][0]',              \n",
      "                                                                  'flatten_4[0][0]']              \n",
      "                                                                                                  \n",
      " l1_wadd (L1_wadd)              (None, 8720, 2)      17440       ['concatenate[0][0]']            \n",
      "                                                                                                  \n",
      " l1_wadd_activate (L1_wadd_acti  (None, 8720, 2)     2           ['l1_wadd[0][0]']                \n",
      " vate)                                                                                            \n",
      "                                                                                                  \n",
      " l2_masses (L2_masses)          (None, 8720, 3)      0           ['l1_wadd_activate[0][0]']       \n",
      "                                                                                                  \n",
      " l3_combine_masses (L3_combine_  (None, 3)           0           ['l2_masses[0][0]']              \n",
      " masses)                                                                                          \n",
      "                                                                                                  \n",
      " dm_pignistic (DM_pignistic)    (None, 2)            0           ['l3_combine_masses[0][0]']      \n",
      "                                                                                                  \n",
      "==================================================================================================\n",
      "Total params: 410,082\n",
      "Trainable params: 408,130\n",
      "Non-trainable params: 1,952\n",
      "__________________________________________________________________________________________________\n"
     ]
    }
   ],
   "source": [
    "model_CNN.summary()"
   ]
  },
  {
   "cell_type": "code",
   "execution_count": null,
   "metadata": {},
   "outputs": [
    {
     "data": {
      "application/vnd.plotly.v1+json": {
       "config": {
        "plotlyServerURL": "https://plot.ly"
       },
       "data": [
        {
         "name": "Train loss",
         "type": "scatter",
         "y": [
          0.9737462997436523,
          0.6080547571182251,
          0.4847774803638458,
          0.42989763617515564,
          0.39970749616622925,
          0.38130033016204834,
          0.36959928274154663,
          0.36202338337898254,
          0.3570917546749115,
          0.3538603186607361,
          0.35136333107948303,
          0.34981152415275574,
          0.34828436374664307,
          0.346507728099823,
          0.3456919491291046,
          0.3442571461200714,
          0.3420487344264984,
          0.34374120831489563,
          0.34032514691352844,
          0.33992427587509155,
          0.34483802318573,
          0.3377549648284912,
          0.33948323130607605,
          0.3382197618484497,
          0.33540627360343933,
          0.33186888694763184,
          0.3308858871459961,
          0.32911574840545654,
          0.3306870758533478,
          0.32596126198768616,
          0.32511982321739197,
          0.32386818528175354,
          0.3247559070587158,
          0.32405713200569153,
          0.318158894777298,
          0.31882619857788086,
          0.31670236587524414,
          0.3173575699329376,
          0.3126055896282196,
          0.3125247061252594,
          0.3114844560623169,
          0.30859988927841187,
          0.30397531390190125,
          0.2988937199115753,
          0.29857197403907776,
          0.29641836881637573,
          0.295771986246109,
          0.29871198534965515,
          0.284156858921051,
          0.28468549251556396,
          0.27644848823547363,
          0.2709827125072479,
          0.26749351620674133,
          0.25511202216148376,
          0.25980693101882935,
          0.25289034843444824,
          0.2758975028991699,
          0.2546597719192505,
          0.23027008771896362,
          0.22695878148078918,
          0.2328689843416214,
          0.2634788453578949,
          0.2110414206981659,
          0.2046082466840744,
          0.19943489134311676,
          0.19127120077610016,
          0.1722049117088318,
          0.16407988965511322,
          0.14461955428123474,
          0.15580891072750092,
          0.14005661010742188,
          0.13045257329940796,
          0.11338841170072556,
          0.14623865485191345,
          0.1044473648071289,
          0.10013862699270248,
          0.17617222666740417,
          0.1351715624332428,
          0.11586181074380875,
          0.08250118792057037,
          0.07160557061433792,
          0.06936164945363998,
          0.07066776603460312,
          0.06285235285758972,
          0.06211750581860542,
          0.10863293707370758,
          0.08100917190313339,
          0.06527598947286606,
          0.06314046680927277,
          0.049701545387506485,
          0.04295477643609047,
          0.04600066319108009,
          0.04715448245406151,
          0.047492820769548416,
          0.06032516807317734,
          0.05187390744686127,
          0.04185813292860985,
          0.041388899087905884,
          0.04023364931344986,
          0.03810674697160721,
          0.03867261856794357,
          0.04217645153403282,
          0.05406244844198227,
          0.045132216066122055,
          0.18980829417705536,
          0.39769691228866577,
          0.37300264835357666,
          0.36071959137916565,
          0.3487657308578491,
          0.33553048968315125,
          0.32150155305862427,
          0.30666273832321167,
          0.2837105095386505,
          0.2900408208370209,
          0.30964404344558716,
          0.3027935326099396,
          0.27236610651016235,
          0.2455613911151886,
          0.2268950641155243,
          0.280050128698349,
          0.3874761164188385,
          0.3580936789512634,
          0.3386323153972626,
          0.37033528089523315,
          0.3988601565361023,
          0.37772467732429504,
          0.36447080969810486,
          0.34165871143341064,
          0.33086538314819336,
          0.3276227116584778,
          0.30514076352119446,
          0.30490195751190186,
          0.38288557529449463,
          0.3608246445655823,
          0.34308406710624695,
          0.3324587345123291,
          0.3229237198829651,
          0.3021896183490753,
          0.29920193552970886,
          0.28698089718818665,
          0.26474687457084656,
          0.244413360953331,
          0.23705218732357025,
          0.22350682318210602,
          0.20552189648151398,
          0.31813663244247437,
          0.3196553885936737,
          0.2651406228542328,
          0.24617132544517517,
          0.19867117702960968,
          0.17867685854434967,
          0.16008484363555908,
          0.1457146406173706,
          0.14477379620075226,
          0.12029103934764862,
          0.11921166628599167,
          0.10580912232398987,
          0.15023282170295715,
          0.09809327125549316,
          0.07987893372774124,
          0.08261580765247345,
          0.069491907954216,
          0.06650842726230621,
          0.06131738796830177,
          0.056831397116184235,
          0.07051777094602585,
          0.0642445757985115,
          0.060382161289453506,
          0.05457613989710808,
          0.06572569906711578,
          0.06478819996118546,
          0.06268435716629028,
          0.0586843378841877,
          0.06230785697698593,
          0.052994560450315475,
          0.05113234370946884,
          0.05523321405053139,
          0.06834430247545242,
          0.05487571284174919,
          0.05423954874277115,
          0.05293785780668259,
          0.053596336394548416,
          0.044576119631528854,
          0.050354696810245514,
          0.043002162128686905,
          0.046483322978019714,
          0.041594862937927246,
          0.051989972591400146,
          0.05693166330456734,
          0.050134576857089996,
          0.07500974833965302,
          0.04954691231250763,
          0.04346781596541405,
          0.042307835072278976,
          0.039689451456069946,
          0.03701767325401306,
          0.03932571783661842,
          0.038859590888023376,
          0.04322667419910431,
          0.07796958088874817,
          0.2924799919128418,
          0.3730013370513916,
          0.3483583331108093,
          0.3413912355899811,
          0.4073117971420288,
          0.3789888024330139,
          0.35966601967811584,
          0.3462017774581909,
          0.33957386016845703,
          0.3197990953922272,
          0.3280954658985138,
          0.33140629529953003,
          0.41630178689956665,
          0.39755138754844666,
          0.38393571972846985,
          0.37259817123413086,
          0.356757789850235,
          0.3491905927658081,
          0.34583520889282227,
          0.3280327320098877,
          0.31758153438568115,
          0.32869037985801697,
          0.3218570351600647,
          0.30228546261787415,
          0.2790496349334717,
          0.289676696062088,
          0.26244914531707764,
          0.266355037689209,
          0.2306147962808609,
          0.25121042132377625,
          0.2874523103237152,
          0.25971120595932007,
          0.25860005617141724,
          0.21139203011989594,
          0.2542545199394226,
          0.3938906788825989,
          0.41031157970428467,
          0.39379310607910156,
          0.378296434879303,
          0.36660540103912354,
          0.3607420325279236,
          0.34053170680999756,
          0.3174855411052704,
          0.3224620223045349,
          0.31572216749191284,
          0.29805436730384827,
          0.2728598415851593,
          0.29512926936149597,
          0.2853657305240631,
          0.26217004656791687,
          0.25055086612701416,
          0.2253093421459198,
          0.2692157030105591,
          0.24347549676895142,
          0.2745661735534668,
          0.31990715861320496,
          0.3174404501914978,
          0.2810070514678955,
          0.24919651448726654,
          0.22747045755386353,
          0.21231643855571747,
          0.17814813554286957,
          0.19502395391464233,
          0.20539359748363495,
          0.21011053025722504,
          0.18698750436306,
          0.18761718273162842,
          0.15081362426280975,
          0.12674187123775482,
          0.10727235674858093,
          0.11897023022174835,
          0.09275685995817184,
          0.10294220596551895,
          0.09027668833732605,
          0.07524575293064117,
          0.08063948154449463,
          0.07352001965045929,
          0.06268774718046188,
          0.06447186321020126,
          0.06155438721179962,
          0.05889130011200905,
          0.05607912316918373,
          0.056124866008758545,
          0.06285955756902695,
          0.060064177960157394,
          0.05790689215064049,
          0.06463924795389175,
          0.05389076843857765,
          0.05288849025964737,
          0.061123643070459366,
          0.055418238043785095,
          0.05311645567417145,
          0.0821329727768898,
          0.10918761044740677,
          0.11100037395954132,
          0.056327223777770996,
          0.050519973039627075,
          0.048545096069574356,
          0.050896190106868744,
          0.052032385021448135
         ]
        },
        {
         "name": "Valid loss",
         "type": "scatter",
         "y": [
          1.0645527839660645,
          0.8731771111488342,
          0.7972636222839355,
          0.7583967447280884,
          0.7354342937469482,
          0.721023678779602,
          0.7117434740066528,
          0.7056645750999451,
          0.7030718922615051,
          0.7011705636978149,
          0.7011018991470337,
          0.6997764110565186,
          0.6974256634712219,
          0.7019656896591187,
          0.6848403215408325,
          0.7516734600067139,
          0.7049170732498169,
          0.7399790287017822,
          0.7812623977661133,
          0.7851653099060059,
          0.7905211448669434,
          0.596638560295105,
          0.5830755233764648,
          0.6839752793312073,
          0.8314568996429443,
          0.6739014983177185,
          0.5329896807670593,
          0.9391271471977234,
          0.8192059993743896,
          0.5056431293487549,
          0.8002166748046875,
          0.6087911128997803,
          1.0414201021194458,
          0.6039526462554932,
          0.49266862869262695,
          0.6616901755332947,
          0.48695647716522217,
          1.3072255849838257,
          0.8843234777450562,
          0.48251086473464966,
          0.8262484073638916,
          0.5934592485427856,
          0.4966611862182617,
          0.5401511788368225,
          0.4879685938358307,
          0.620586633682251,
          0.938625156879425,
          1.419341802597046,
          0.5811325311660767,
          1.9101282358169556,
          1.5583590269088745,
          0.5634714961051941,
          1.4295952320098877,
          0.8246990442276001,
          0.5016955733299255,
          0.5772624015808105,
          0.7276899814605713,
          6.845495223999023,
          5.95351505279541,
          5.777515888214111,
          0.8084607124328613,
          0.5955590605735779,
          9.033079147338867,
          7.576028347015381,
          1.4914244413375854,
          4.299493789672852,
          3.09523868560791,
          10.737271308898926,
          1.4692949056625366,
          0.9597436189651489,
          4.990048885345459,
          3.8897972106933594,
          12.439271926879883,
          7.740914821624756,
          2.8426156044006348,
          0.9791356325149536,
          2.534536361694336,
          1.9889110326766968,
          10.198887825012207,
          7.246837615966797,
          2.2934608459472656,
          3.142530918121338,
          1.8919014930725098,
          10.314275741577148,
          8.871967315673828,
          2.6078433990478516,
          10.783428192138672,
          8.462383270263672,
          10.050686836242676,
          5.522454738616943,
          4.586120128631592,
          2.8985908031463623,
          5.778844356536865,
          10.013431549072266,
          2.1163530349731445,
          2.4516255855560303,
          3.124384641647339,
          9.311071395874023,
          10.205431938171387,
          3.0023813247680664,
          6.035745143890381,
          5.381738185882568,
          12.792045593261719,
          12.887544631958008,
          0.6957312226295471,
          0.5517684817314148,
          0.5566099882125854,
          0.8115717768669128,
          2.289771318435669,
          0.6731094121932983,
          3.875643253326416,
          2.688575029373169,
          0.9437177181243896,
          0.9571672081947327,
          1.2382174730300903,
          6.635745048522949,
          10.119458198547363,
          3.9744491577148438,
          2.3477137088775635,
          1.0693306922912598,
          1.249577283859253,
          1.3767142295837402,
          0.6422553062438965,
          0.5649234056472778,
          0.6524983644485474,
          0.7711789608001709,
          1.0094411373138428,
          1.5708200931549072,
          1.0809658765792847,
          1.9011609554290771,
          2.273913860321045,
          0.6180112361907959,
          0.7055108547210693,
          1.0202927589416504,
          1.3849270343780518,
          2.5363717079162598,
          1.6698256731033325,
          1.4368183612823486,
          2.590411424636841,
          1.8878798484802246,
          2.687044143676758,
          2.8683347702026367,
          3.4481611251831055,
          1.3772351741790771,
          0.7814455032348633,
          0.5381342768669128,
          1.4377254247665405,
          1.1369562149047852,
          1.6618753671646118,
          2.7178752422332764,
          4.751829624176025,
          11.654085159301758,
          1.2685298919677734,
          11.9944486618042,
          2.6698899269104004,
          2.8778817653656006,
          2.917400360107422,
          8.706092834472656,
          8.724555969238281,
          12.302250862121582,
          2.625290870666504,
          8.566876411437988,
          3.321037769317627,
          7.773275375366211,
          11.04683780670166,
          3.8206000328063965,
          8.43797492980957,
          2.827561855316162,
          7.046226978302002,
          8.320540428161621,
          7.578238487243652,
          5.459234714508057,
          2.7855634689331055,
          7.304910659790039,
          2.7960472106933594,
          10.810009002685547,
          7.030185699462891,
          9.911643028259277,
          2.7567195892333984,
          12.295980453491211,
          4.832254409790039,
          8.345789909362793,
          2.6464600563049316,
          7.609131336212158,
          5.5764360427856445,
          9.786831855773926,
          4.451333045959473,
          4.079814910888672,
          2.026785373687744,
          11.044683456420898,
          3.3916001319885254,
          9.412428855895996,
          12.577971458435059,
          5.531052112579346,
          4.855578422546387,
          9.141289710998535,
          2.4736225605010986,
          2.0401480197906494,
          2.0350918769836426,
          1.6547846794128418,
          0.7861598134040833,
          1.0660674571990967,
          1.1388895511627197,
          0.6830773949623108,
          0.9628738760948181,
          1.0729241371154785,
          1.303849458694458,
          0.7795905470848083,
          0.6960806846618652,
          0.9540538787841797,
          0.7842004895210266,
          0.8222456574440002,
          0.8905888795852661,
          0.922357976436615,
          1.1433035135269165,
          3.4419608116149902,
          1.4945796728134155,
          4.327729225158691,
          0.9301430583000183,
          2.40633487701416,
          1.0307236909866333,
          0.9887368679046631,
          1.0160139799118042,
          1.2963186502456665,
          4.095757484436035,
          1.6221288442611694,
          9.408735275268555,
          8.17108154296875,
          1.7251673936843872,
          1.830151081085205,
          0.7605975270271301,
          1.539411187171936,
          8.635600090026855,
          10.088455200195312,
          6.776570796966553,
          0.6544884443283081,
          0.9357713460922241,
          1.1016231775283813,
          1.0629891157150269,
          1.1415431499481201,
          0.8815582990646362,
          1.105103850364685,
          2.09538197517395,
          1.008995532989502,
          1.9032628536224365,
          1.455980896949768,
          2.626227617263794,
          1.096011996269226,
          6.249079704284668,
          4.834037780761719,
          7.442769527435303,
          0.7710151076316833,
          2.6394686698913574,
          0.8120343089103699,
          1.5333119630813599,
          1.080932378768921,
          1.8688342571258545,
          2.465569019317627,
          2.796708345413208,
          3.2015457153320312,
          2.8108437061309814,
          5.261746406555176,
          2.7552382946014404,
          2.837502956390381,
          7.502592086791992,
          1.1033072471618652,
          3.041663408279419,
          8.362462043762207,
          4.727964401245117,
          6.849859237670898,
          12.066965103149414,
          9.365165710449219,
          1.961730718612671,
          7.233287811279297,
          10.454225540161133,
          7.6295366287231445,
          6.195237636566162,
          4.131833553314209,
          6.895751476287842,
          8.66633415222168,
          11.327442169189453,
          11.41976261138916,
          11.39774227142334,
          11.095489501953125,
          6.032061576843262,
          7.03081750869751,
          8.454825401306152,
          12.52664566040039,
          4.455010890960693,
          6.746290683746338,
          11.17740535736084,
          9.922496795654297,
          3.5435707569122314,
          3.3413987159729004,
          2.8871164321899414,
          3.339749336242676,
          5.615517616271973,
          7.5349955558776855,
          4.637917518615723,
          7.612668037414551
         ]
        },
        {
         "name": "Train accuracy",
         "type": "scatter",
         "y": [
          0.5012330412864685,
          0.49568432569503784,
          0.48643648624420166,
          0.5030826330184937,
          0.49691739678382874,
          0.5067817568778992,
          0.5672009587287903,
          0.5653514266014099,
          0.5795314311981201,
          0.5739827156066895,
          0.5856966972351074,
          0.5770653486251831,
          0.5807644724845886,
          0.5930949449539185,
          0.5856966972351074,
          0.5881627798080444,
          0.6023427844047546,
          0.5924783945083618,
          0.5906288623809814,
          0.5955610275268555,
          0.5795314311981201,
          0.6128236651420593,
          0.5974106192588806,
          0.5998767018318176,
          0.6165227890014648,
          0.6226880550384521,
          0.6220715045928955,
          0.6239210963249207,
          0.6245375871658325,
          0.6356350183486938,
          0.6300863027572632,
          0.6313193440437317,
          0.6430332660675049,
          0.6270036697387695,
          0.6633785367012024,
          0.6467324495315552,
          0.6467324495315552,
          0.6504315733909607,
          0.6652281284332275,
          0.6763255000114441,
          0.663995087146759,
          0.6726263761520386,
          0.6843402981758118,
          0.6972873210906982,
          0.6991368532180786,
          0.712700366973877,
          0.6979038119316101,
          0.6911220550537109,
          0.7305795550346375,
          0.7256473302841187,
          0.7515413165092468,
          0.7620221972465515,
          0.7620221972465515,
          0.7792848348617554,
          0.7792848348617554,
          0.779901385307312,
          0.7755857110023499,
          0.7946978807449341,
          0.8286066651344299,
          0.8255240321159363,
          0.8107274770736694,
          0.7817509174346924,
          0.8569667339324951,
          0.8618988990783691,
          0.8545005917549133,
          0.8760789036750793,
          0.9099876880645752,
          0.9106041789054871,
          0.9327990412712097,
          0.9204685688018799,
          0.9321824908256531,
          0.9451294541358948,
          0.9463624954223633,
          0.9346485733985901,
          0.971023440361023,
          0.9654747247695923,
          0.9044389724731445,
          0.9482120871543884,
          0.9599260091781616,
          0.9821208119392395,
          0.9852034449577332,
          0.9858199954032898,
          0.9852034449577332,
          0.9895191192626953,
          0.9919852018356323,
          0.9593095183372498,
          0.978421688079834,
          0.9895191192626953,
          0.9876695275306702,
          0.997533917427063,
          0.9993834495544434,
          0.9963008761405945,
          0.997533917427063,
          0.992601752281189,
          0.9864364862442017,
          0.9932182431221008,
          0.9981504082679749,
          0.997533917427063,
          0.9963008761405945,
          0.997533917427063,
          0.9981504082679749,
          0.9969173669815063,
          0.9907521605491638,
          0.9944512844085693,
          0.9210850596427917,
          0.6294698119163513,
          0.6356350183486938,
          0.6572133302688599,
          0.6800246834754944,
          0.6966707706451416,
          0.7163994908332825,
          0.7379778027534485,
          0.7842170000076294,
          0.7755857110023499,
          0.73674476146698,
          0.7614056468009949,
          0.7953144311904907,
          0.8347718715667725,
          0.85511714220047,
          0.7946978807449341,
          0.623304545879364,
          0.6775585412979126,
          0.7022194862365723,
          0.6085079908370972,
          0.6041923761367798,
          0.6331689357757568,
          0.6547472476959229,
          0.6775585412979126,
          0.6979038119316101,
          0.7274969220161438,
          0.7533908486366272,
          0.7577065229415894,
          0.6152897477149963,
          0.6510480642318726,
          0.6849568486213684,
          0.712700366973877,
          0.7355117201805115,
          0.7540073990821838,
          0.768187403678894,
          0.7749691605567932,
          0.8113440275192261,
          0.8372379541397095,
          0.8655980229377747,
          0.8729963302612305,
          0.884093701839447,
          0.7287299633026123,
          0.7429099678993225,
          0.8125770688056946,
          0.836004912853241,
          0.8908754587173462,
          0.9173859357833862,
          0.9395807385444641,
          0.9420468807220459,
          0.9451294541358948,
          0.9685573577880859,
          0.9648581743240356,
          0.975955605506897,
          0.9438964128494263,
          0.9771886467933655,
          0.9882860779762268,
          0.9827373623847961,
          0.9938347935676575,
          0.9963008761405945,
          0.9963008761405945,
          0.997533917427063,
          0.9889025688171387,
          0.9932182431221008,
          0.9944512844085693,
          0.995067834854126,
          0.9919852018356323,
          0.9919852018356323,
          0.9913686513900757,
          0.9938347935676575,
          0.9889025688171387,
          0.9969173669815063,
          0.9963008761405945,
          0.9944512844085693,
          0.9913686513900757,
          0.9963008761405945,
          0.9956843256950378,
          0.9938347935676575,
          0.995067834854126,
          0.9987669587135315,
          0.9944512844085693,
          0.9987669587135315,
          0.9956843256950378,
          0.9987669587135315,
          0.9932182431221008,
          0.9864364862442017,
          0.997533917427063,
          0.9802712798118591,
          0.9969173669815063,
          1,
          0.9987669587135315,
          0.9987669587135315,
          0.9981504082679749,
          0.997533917427063,
          0.997533917427063,
          0.997533917427063,
          0.978421688079834,
          0.744143009185791,
          0.6541306972503662,
          0.6824907660484314,
          0.7145499587059021,
          0.5826140642166138,
          0.6362515687942505,
          0.6750924587249756,
          0.6855733394622803,
          0.6911220550537109,
          0.7163994908332825,
          0.7225647568702698,
          0.7108507752418518,
          0.5998767018318176,
          0.6282367706298828,
          0.6652281284332275,
          0.6750924587249756,
          0.6898890137672424,
          0.6972873210906982,
          0.7096177339553833,
          0.7207151651382446,
          0.73674476146698,
          0.7281134128570557,
          0.7546239495277405,
          0.7731196284294128,
          0.8014796376228333,
          0.7743526697158813,
          0.8131935596466064,
          0.8199753165245056,
          0.850184977054596,
          0.8224414587020874,
          0.8094944357872009,
          0.8329223394393921,
          0.838470995426178,
          0.886559784412384,
          0.8397040963172913,
          0.7601726055145264,
          0.6017262935638428,
          0.6202219724655151,
          0.6467324495315552,
          0.6726263761520386,
          0.6676942110061646,
          0.7102342844009399,
          0.7466091513633728,
          0.7287299633026123,
          0.7373613119125366,
          0.7885326743125916,
          0.8027126789093018,
          0.7774352431297302,
          0.8027126789093018,
          0.8187422752380371,
          0.8329223394393921,
          0.857583224773407,
          0.8088779449462891,
          0.8409371376037598,
          0.8175092339515686,
          0.7250308394432068,
          0.7472256422042847,
          0.7946978807449341,
          0.8181257843971252,
          0.8477188944816589,
          0.876695454120636,
          0.9050554633140564,
          0.8945745825767517,
          0.8982737064361572,
          0.8729963302612305,
          0.8970406651496887,
          0.8945745825767517,
          0.9432799220085144,
          0.9605425596237183,
          0.9722564816474915,
          0.971023440361023,
          0.9852034449577332,
          0.9765721559524536,
          0.9753391146659851,
          0.992601752281189,
          0.992601752281189,
          0.992601752281189,
          0.997533917427063,
          0.9963008761405945,
          0.997533917427063,
          0.997533917427063,
          0.9969173669815063,
          0.9956843256950378,
          0.9919852018356323,
          0.9938347935676575,
          0.9956843256950378,
          0.995067834854126,
          0.9963008761405945,
          0.9963008761405945,
          0.9889025688171387,
          0.992601752281189,
          0.9956843256950378,
          0.9667077660560608,
          0.9506781697273254,
          0.9667077660560608,
          0.997533917427063,
          0.9993834495544434,
          0.9993834495544434,
          0.9932182431221008,
          0.9969173669815063
         ]
        },
        {
         "name": "Valid accuracy",
         "type": "scatter",
         "y": [
          0.4453125,
          0.4296875,
          0.82421875,
          0.82421875,
          0.82421875,
          0.82421875,
          0.82421875,
          0.82421875,
          0.17578125,
          0.1875,
          0.16015625,
          0.33203125,
          0.53125,
          0.17578125,
          0.82421875,
          0.17578125,
          0.39453125,
          0.3359375,
          0.17578125,
          0.17578125,
          0.17578125,
          0.82421875,
          0.82421875,
          0.65234375,
          0.17578125,
          0.640625,
          0.82421875,
          0.16015625,
          0.21484375,
          0.82421875,
          0.19921875,
          0.81640625,
          0.1796875,
          0.77734375,
          0.82421875,
          0.82421875,
          0.82421875,
          0.16796875,
          0.37890625,
          0.82421875,
          0.16796875,
          0.80078125,
          0.82421875,
          0.82421875,
          0.82421875,
          0.8046875,
          0.3203125,
          0.234375,
          0.82421875,
          0.17578125,
          0.26953125,
          0.80859375,
          0.82421875,
          0.3828125,
          0.82421875,
          0.82421875,
          0.5625,
          0.17578125,
          0.19140625,
          0.17578125,
          0.51171875,
          0.79296875,
          0.17578125,
          0.1640625,
          0.265625,
          0.1875,
          0.22265625,
          0.1796875,
          0.4609375,
          0.82421875,
          0.20703125,
          0.3515625,
          0.171875,
          0.17578125,
          0.3984375,
          0.80859375,
          0.82421875,
          0.6171875,
          0.16796875,
          0.17578125,
          0.4296875,
          0.3515625,
          0.7265625,
          0.1640625,
          0.16796875,
          0.20703125,
          0.17578125,
          0.18359375,
          0.1875,
          0.265625,
          0.33203125,
          0.5390625,
          0.2421875,
          0.17578125,
          0.66015625,
          0.7734375,
          0.359375,
          0.1796875,
          0.1875,
          0.390625,
          0.2578125,
          0.23828125,
          0.171875,
          0.171875,
          0.82421875,
          0.82421875,
          0.82421875,
          0.4296875,
          0.17578125,
          0.671875,
          0.1875,
          0.2265625,
          0.2890625,
          0.625,
          0.17578125,
          0.16015625,
          0.17578125,
          0.1796875,
          0.17578125,
          0.17578125,
          0.17578125,
          0.171875,
          0.76171875,
          0.82421875,
          0.80078125,
          0.44921875,
          0.21484375,
          0.17578125,
          0.30078125,
          0.32421875,
          0.171875,
          0.82421875,
          0.67578125,
          0.29296875,
          0.2421875,
          0.171875,
          0.18359375,
          0.203125,
          0.19921875,
          0.1796875,
          0.33203125,
          0.2578125,
          0.25390625,
          0.30859375,
          0.75,
          0.82421875,
          0.8125,
          0.33984375,
          0.25,
          0.22265625,
          0.1875,
          0.17578125,
          0.24609375,
          0.17578125,
          0.4296875,
          0.43359375,
          0.296875,
          0.18359375,
          0.17578125,
          0.17578125,
          0.5234375,
          0.234375,
          0.32421875,
          0.171875,
          0.1796875,
          0.31640625,
          0.18359375,
          0.48046875,
          0.2421875,
          0.1875,
          0.17578125,
          0.46875,
          0.59375,
          0.3046875,
          0.41015625,
          0.171875,
          0.21875,
          0.19921875,
          0.546875,
          0.1796875,
          0.328125,
          0.16015625,
          0.39453125,
          0.20703125,
          0.28515625,
          0.18359375,
          0.4375,
          0.41796875,
          0.53515625,
          0.1796875,
          0.3515625,
          0.1875,
          0.171875,
          0.3125,
          0.3515625,
          0.19140625,
          0.56640625,
          0.62890625,
          0.78515625,
          0.58203125,
          0.1953125,
          0.17578125,
          0.17578125,
          0.71484375,
          0.17578125,
          0.17578125,
          0.17578125,
          0.78125,
          0.8125,
          0.765625,
          0.58984375,
          0.19921875,
          0.17578125,
          0.25390625,
          0.23046875,
          0.171875,
          0.17578125,
          0.1953125,
          0.80859375,
          0.82421875,
          0.7421875,
          0.6640625,
          0.7578125,
          0.64453125,
          0.1953125,
          0.44921875,
          0.17578125,
          0.171875,
          0.56640625,
          0.78515625,
          0.49609375,
          0.22265625,
          0.17578125,
          0.171875,
          0.22265625,
          0.77734375,
          0.24609375,
          0.1953125,
          0.30078125,
          0.5078125,
          0.5078125,
          0.51953125,
          0.7734375,
          0.48828125,
          0.40625,
          0.58203125,
          0.3203125,
          0.78515625,
          0.16015625,
          0.16796875,
          0.171875,
          0.796875,
          0.27734375,
          0.82421875,
          0.32421875,
          0.17578125,
          0.265625,
          0.31640625,
          0.296875,
          0.34375,
          0.8125,
          0.23828125,
          0.8203125,
          0.3515625,
          0.1875,
          0.62109375,
          0.59765625,
          0.1640625,
          0.30078125,
          0.22265625,
          0.171875,
          0.1796875,
          0.36328125,
          0.17578125,
          0.15234375,
          0.21484375,
          0.24609375,
          0.390625,
          0.22265625,
          0.15625,
          0.18359375,
          0.19140625,
          0.17578125,
          0.171875,
          0.28125,
          0.2265625,
          0.171875,
          0.17578125,
          0.4375,
          0.2734375,
          0.16796875,
          0.19140625,
          0.42578125,
          0.17578125,
          0.8203125,
          0.42578125,
          0.3359375,
          0.20703125,
          0.27734375,
          0.25390625
         ]
        },
        {
         "name": "Train F1 value",
         "type": "scatter",
         "y": [
          0.36496323347091675,
          0.3337953984737396,
          0.34489211440086365,
          0.4226889908313751,
          0.4499642252922058,
          0.4942845404148102,
          0.566118061542511,
          0.5663435459136963,
          0.579879641532898,
          0.5732508897781372,
          0.5862855911254883,
          0.5758185386657715,
          0.5816621780395508,
          0.593081533908844,
          0.5854500532150269,
          0.5887365937232971,
          0.6019941568374634,
          0.5916332006454468,
          0.5895164608955383,
          0.5955325365066528,
          0.5784870386123657,
          0.6126893758773804,
          0.5973707437515259,
          0.6001002192497253,
          0.6160873174667358,
          0.6213791966438293,
          0.6221590638160706,
          0.6245543360710144,
          0.6257241368293762,
          0.6359179615974426,
          0.6306818127632141,
          0.6313502192497253,
          0.6421567797660828,
          0.6276180744171143,
          0.6634914875030518,
          0.6463902592658997,
          0.6472258567810059,
          0.6509023308753967,
          0.6656082272529602,
          0.6749664545059204,
          0.6649397015571594,
          0.6721255779266357,
          0.6840462684631348,
          0.696635365486145,
          0.6987521648406982,
          0.7122325301170349,
          0.697248101234436,
          0.6916220188140869,
          0.7305591702461243,
          0.7256572246551514,
          0.7519495487213135,
          0.7623661756515503,
          0.7618091702461243,
          0.779801607131958,
          0.7795230746269226,
          0.780414342880249,
          0.7752895951271057,
          0.7948417067527771,
          0.8293782472610474,
          0.8257575035095215,
          0.8107730746269226,
          0.7828096151351929,
          0.8572860360145569,
          0.8621879816055298,
          0.8545565009117126,
          0.8768381476402283,
          0.9097035527229309,
          0.9111519455909729,
          0.9326536655426025,
          0.9206773638725281,
          0.9320409893989563,
          0.9440730810165405,
          0.9464126229286194,
          0.9347704648971558,
          0.9709223508834839,
          0.9645721316337585,
          0.9047459363937378,
          0.9482508897781372,
          0.9596145749092102,
          0.9822303652763367,
          0.9852941036224365,
          0.9859068393707275,
          0.9852941036224365,
          0.9895833134651184,
          0.9920343160629272,
          0.9584447145462036,
          0.9785539507865906,
          0.9895833134651184,
          0.98746657371521,
          0.9975489974021912,
          0.999387264251709,
          0.9963235259056091,
          0.9975489974021912,
          0.9923685193061829,
          0.9859625697135925,
          0.9932597875595093,
          0.998161792755127,
          0.9972704648971558,
          0.9963235259056091,
          0.9975489974021912,
          0.998161792755127,
          0.9969362616539001,
          0.9908088445663452,
          0.9944853186607361,
          0.9198974967002869,
          0.6300690770149231,
          0.6359179615974426,
          0.6570854783058167,
          0.6792000532150269,
          0.6957441568374634,
          0.716744601726532,
          0.7390262484550476,
          0.7838680148124695,
          0.7750111222267151,
          0.7352940440177917,
          0.7620320320129395,
          0.7948974370956421,
          0.8355056643486023,
          0.8537766933441162,
          0.7931706309318542,
          0.6233845353126526,
          0.677306056022644,
          0.7020944356918335,
          0.6078431010246277,
          0.6055035591125488,
          0.6331884264945984,
          0.6540774703025818,
          0.6781416535377502,
          0.6983622312545776,
          0.7269384264945984,
          0.7535092830657959,
          0.756684422492981,
          0.614304780960083,
          0.6512365937232971,
          0.686051607131958,
          0.7127895951271057,
          0.736018180847168,
          0.7530079483985901,
          0.76849365234375,
          0.7757909297943115,
          0.8113858103752136,
          0.8371211290359497,
          0.8644719123840332,
          0.873495876789093,
          0.884246826171875,
          0.7281638979911804,
          0.7439281940460205,
          0.8128898739814758,
          0.8356171250343323,
          0.8912655711174011,
          0.9176136255264282,
          0.9396724104881287,
          0.9424019455909729,
          0.945465624332428,
          0.9679144024848938,
          0.9642379879951477,
          0.9755459427833557,
          0.9436831474304199,
          0.9767714142799377,
          0.9883578419685364,
          0.9828431606292725,
          0.9938725233078003,
          0.9963235259056091,
          0.9963235259056091,
          0.9975489974021912,
          0.988692045211792,
          0.9932597875595093,
          0.9944853186607361,
          0.9948194622993469,
          0.9917557835578918,
          0.9920343160629272,
          0.9914215803146362,
          0.9938725233078003,
          0.9889705777168274,
          0.9969362616539001,
          0.9963235259056091,
          0.9944853186607361,
          0.9914215803146362,
          0.9960449934005737,
          0.9954322576522827,
          0.9938725233078003,
          0.9950980544090271,
          0.998774528503418,
          0.9944853186607361,
          0.998774528503418,
          0.9957107901573181,
          0.998774528503418,
          0.9932597875595093,
          0.9865196347236633,
          0.9975489974021912,
          0.9801136255264282,
          0.9969362616539001,
          1,
          0.998774528503418,
          0.998774528503418,
          0.998161792755127,
          0.9975489974021912,
          0.9975489974021912,
          0.9975489974021912,
          0.9779968857765198,
          0.7429255843162537,
          0.6540217399597168,
          0.6827650666236877,
          0.7146278023719788,
          0.582386314868927,
          0.6356951594352722,
          0.674298107624054,
          0.6844362020492554,
          0.6905079483985901,
          0.716187596321106,
          0.7231504917144775,
          0.7095587253570557,
          0.5998217463493347,
          0.6288435459136963,
          0.6656082272529602,
          0.67485511302948,
          0.6901180148124695,
          0.6980279684066772,
          0.7094473838806152,
          0.7213123440742493,
          0.73724365234375,
          0.727272629737854,
          0.7550132870674133,
          0.7733955979347229,
          0.8018604516983032,
          0.7746211290359497,
          0.812945544719696,
          0.8199642300605774,
          0.8499887585639954,
          0.8226937651634216,
          0.8101046681404114,
          0.832831859588623,
          0.8391821384429932,
          0.8864192366600037,
          0.8395720720291138,
          0.7596924901008606,
          0.6005458235740662,
          0.6200423240661621,
          0.6463902592658997,
          0.6726826429367065,
          0.6683377027511597,
          0.7097815871238708,
          0.7464905381202698,
          0.7276068925857544,
          0.7364637851715088,
          0.7884357571601868,
          0.8030859231948853,
          0.7774063348770142,
          0.8022503852844238,
          0.8167891502380371,
          0.8333889842033386,
          0.8570632934570312,
          0.8086563348770142,
          0.8399620652198792,
          0.8166777491569519,
          0.7250444889068604,
          0.7471032738685608,
          0.7948417067527771,
          0.8184045553207397,
          0.8480948805809021,
          0.8760583400726318,
          0.905637264251709,
          0.893549382686615,
          0.8977828621864319,
          0.8732174038887024,
          0.8973929286003113,
          0.8946635127067566,
          0.9433488845825195,
          0.9607843160629272,
          0.9718694686889648,
          0.9712010025978088,
          0.9850155711174011,
          0.9767156839370728,
          0.9754902124404907,
          0.9926470518112183,
          0.9926470518112183,
          0.9926470518112183,
          0.9975489974021912,
          0.9963235259056091,
          0.9975489974021912,
          0.9975489974021912,
          0.9969362616539001,
          0.9954322576522827,
          0.9920343160629272,
          0.9938725233078003,
          0.9957107901573181,
          0.9950980544090271,
          0.9963235259056091,
          0.9963235259056091,
          0.9889705777168274,
          0.9926470518112183,
          0.9954322576522827,
          0.966911792755127,
          0.9504233598709106,
          0.966911792755127,
          0.9975489974021912,
          0.999387264251709,
          0.999387264251709,
          0.9918672442436218,
          0.9969362616539001
         ]
        },
        {
         "name": "Valid F1 value",
         "type": "scatter",
         "y": [
          0.05184076726436615,
          0.06734972447156906,
          0.6750109195709229,
          0.7615302205085754,
          0.8242186903953552,
          0.8242186903953552,
          0.8242186903953552,
          0.8242186903953552,
          0.17578119039535522,
          0.18749994039535522,
          0.16015619039535522,
          0.3320312201976776,
          0.5312499403953552,
          0.17578119039535522,
          0.8242186903953552,
          0.17578119039535522,
          0.3945312201976776,
          0.3359374701976776,
          0.17578119039535522,
          0.17578119039535522,
          0.17578119039535522,
          0.8242186903953552,
          0.8242186903953552,
          0.6523436903953552,
          0.17578119039535522,
          0.6406249403953552,
          0.8242186903953552,
          0.16015619039535522,
          0.21484369039535522,
          0.8242186903953552,
          0.19921869039535522,
          0.8164061903953552,
          0.17968744039535522,
          0.7773436903953552,
          0.8242186903953552,
          0.8242186903953552,
          0.8242186903953552,
          0.16796869039535522,
          0.3789062201976776,
          0.8242186903953552,
          0.16796869039535522,
          0.8007811903953552,
          0.8242186903953552,
          0.8242186903953552,
          0.8242186903953552,
          0.8046874403953552,
          0.3203124701976776,
          0.2343749701976776,
          0.8242186903953552,
          0.17578119039535522,
          0.2695312201976776,
          0.8085936903953552,
          0.8242186903953552,
          0.3828124701976776,
          0.8242186903953552,
          0.8242186903953552,
          0.5624999403953552,
          0.17578119039535522,
          0.19140619039535522,
          0.17578119039535522,
          0.5117186903953552,
          0.7929686903953552,
          0.17578119039535522,
          0.16406244039535522,
          0.2656249701976776,
          0.18749994039535522,
          0.2226562201976776,
          0.17968744039535522,
          0.4609374701976776,
          0.8242186903953552,
          0.2070312201976776,
          0.3515624701976776,
          0.17187494039535522,
          0.17578119039535522,
          0.3984374701976776,
          0.8085936903953552,
          0.8242186903953552,
          0.6171874403953552,
          0.16796869039535522,
          0.17578119039535522,
          0.4296874701976776,
          0.3515624701976776,
          0.7265624403953552,
          0.16406244039535522,
          0.16796869039535522,
          0.20703119039535522,
          0.17578119039535522,
          0.18359369039535522,
          0.18749994039535522,
          0.2656249701976776,
          0.3320312201976776,
          0.5390624403953552,
          0.2421874701976776,
          0.17578119039535522,
          0.6601561903953552,
          0.7734374403953552,
          0.3593749701976776,
          0.17968744039535522,
          0.18749994039535522,
          0.3906249701976776,
          0.2578124701976776,
          0.2382812201976776,
          0.17187494039535522,
          0.17187494039535522,
          0.8242186903953552,
          0.8242186903953552,
          0.8242186903953552,
          0.4296874701976776,
          0.17578119039535522,
          0.6718749403953552,
          0.18749994039535522,
          0.22656244039535522,
          0.2890624701976776,
          0.6249999403953552,
          0.17578119039535522,
          0.16015619039535522,
          0.17578119039535522,
          0.17968744039535522,
          0.17578119039535522,
          0.17578119039535522,
          0.17578119039535522,
          0.17187494039535522,
          0.7617186903953552,
          0.8242186903953552,
          0.8007811903953552,
          0.4492187201976776,
          0.2148437201976776,
          0.17578119039535522,
          0.3007812201976776,
          0.3242187201976776,
          0.17187494039535522,
          0.8242186903953552,
          0.6757811903953552,
          0.2929687201976776,
          0.2421874701976776,
          0.17187494039535522,
          0.18359369039535522,
          0.20312494039535522,
          0.19921869039535522,
          0.17968744039535522,
          0.3320312201976776,
          0.2578124701976776,
          0.2539062201976776,
          0.3085937201976776,
          0.7499999403953552,
          0.8242186903953552,
          0.8124999403953552,
          0.3398437201976776,
          0.2499999701976776,
          0.2226562201976776,
          0.18749994039535522,
          0.17578119039535522,
          0.2460937201976776,
          0.17578119039535522,
          0.4296874701976776,
          0.4335937201976776,
          0.2968749701976776,
          0.18359369039535522,
          0.17578119039535522,
          0.17578119039535522,
          0.5234374403953552,
          0.2343749701976776,
          0.3242187201976776,
          0.17187494039535522,
          0.17968744039535522,
          0.3164062201976776,
          0.18359369039535522,
          0.4804687201976776,
          0.2421874701976776,
          0.18749994039535522,
          0.17578119039535522,
          0.4687499701976776,
          0.5937499403953552,
          0.3046874701976776,
          0.4101562201976776,
          0.17187494039535522,
          0.2187499701976776,
          0.19921869039535522,
          0.5468749403953552,
          0.17968744039535522,
          0.3281249701976776,
          0.16015619039535522,
          0.3945312201976776,
          0.2070312201976776,
          0.2851562201976776,
          0.18359369039535522,
          0.4374999701976776,
          0.4179687201976776,
          0.5351561903953552,
          0.17968744039535522,
          0.3515624701976776,
          0.18749994039535522,
          0.17187494039535522,
          0.3124999701976776,
          0.3515624701976776,
          0.19140619039535522,
          0.5664061903953552,
          0.6289061903953552,
          0.7851561903953552,
          0.5820311903953552,
          0.19531244039535522,
          0.17578119039535522,
          0.17578119039535522,
          0.7148436903953552,
          0.17578119039535522,
          0.17578119039535522,
          0.17578119039535522,
          0.7812499403953552,
          0.8124999403953552,
          0.7656249403953552,
          0.5898436903953552,
          0.19921869039535522,
          0.17578119039535522,
          0.2539062201976776,
          0.2304687201976776,
          0.17187494039535522,
          0.17578119039535522,
          0.19531244039535522,
          0.8085936903953552,
          0.8242186903953552,
          0.7421874403953552,
          0.6640624403953552,
          0.7578124403953552,
          0.6445311903953552,
          0.1953124701976776,
          0.4492187201976776,
          0.17578119039535522,
          0.17187494039535522,
          0.5664061903953552,
          0.7851561903953552,
          0.4960937201976776,
          0.22265619039535522,
          0.17578119039535522,
          0.17187494039535522,
          0.22265619039535522,
          0.7773436903953552,
          0.2460937201976776,
          0.19531244039535522,
          0.3007812201976776,
          0.5078124403953552,
          0.5078124403953552,
          0.5195311903953552,
          0.7734374403953552,
          0.4882812201976776,
          0.4062499701976776,
          0.5820311903953552,
          0.3203124701976776,
          0.7851561903953552,
          0.16015619039535522,
          0.16796869039535522,
          0.17187494039535522,
          0.7968749403953552,
          0.2773437201976776,
          0.8242186903953552,
          0.3242187201976776,
          0.17578119039535522,
          0.2656249701976776,
          0.3164062201976776,
          0.2968749701976776,
          0.3437499701976776,
          0.8124999403953552,
          0.2382812201976776,
          0.8203124403953552,
          0.3515624701976776,
          0.18749994039535522,
          0.6210936903953552,
          0.5976561903953552,
          0.16406244039535522,
          0.3007812201976776,
          0.2226562201976776,
          0.17187494039535522,
          0.17968744039535522,
          0.3632812201976776,
          0.17578119039535522,
          0.15234369039535522,
          0.2148437201976776,
          0.2460937201976776,
          0.3906249701976776,
          0.2226562201976776,
          0.15624994039535522,
          0.18359369039535522,
          0.19140619039535522,
          0.17578119039535522,
          0.17187494039535522,
          0.2812499701976776,
          0.2265624701976776,
          0.17187494039535522,
          0.17578119039535522,
          0.4374999701976776,
          0.2734374701976776,
          0.16796869039535522,
          0.19140619039535522,
          0.4257812201976776,
          0.17578119039535522,
          0.8203124403953552,
          0.4257812201976776,
          0.3359374701976776,
          0.2070312201976776,
          0.2773437201976776,
          0.2539062201976776
         ]
        }
       ],
       "layout": {
        "height": 500,
        "template": {
         "data": {
          "bar": [
           {
            "error_x": {
             "color": "#2a3f5f"
            },
            "error_y": {
             "color": "#2a3f5f"
            },
            "marker": {
             "line": {
              "color": "#E5ECF6",
              "width": 0.5
             },
             "pattern": {
              "fillmode": "overlay",
              "size": 10,
              "solidity": 0.2
             }
            },
            "type": "bar"
           }
          ],
          "barpolar": [
           {
            "marker": {
             "line": {
              "color": "#E5ECF6",
              "width": 0.5
             },
             "pattern": {
              "fillmode": "overlay",
              "size": 10,
              "solidity": 0.2
             }
            },
            "type": "barpolar"
           }
          ],
          "carpet": [
           {
            "aaxis": {
             "endlinecolor": "#2a3f5f",
             "gridcolor": "white",
             "linecolor": "white",
             "minorgridcolor": "white",
             "startlinecolor": "#2a3f5f"
            },
            "baxis": {
             "endlinecolor": "#2a3f5f",
             "gridcolor": "white",
             "linecolor": "white",
             "minorgridcolor": "white",
             "startlinecolor": "#2a3f5f"
            },
            "type": "carpet"
           }
          ],
          "choropleth": [
           {
            "colorbar": {
             "outlinewidth": 0,
             "ticks": ""
            },
            "type": "choropleth"
           }
          ],
          "contour": [
           {
            "colorbar": {
             "outlinewidth": 0,
             "ticks": ""
            },
            "colorscale": [
             [
              0,
              "#0d0887"
             ],
             [
              0.1111111111111111,
              "#46039f"
             ],
             [
              0.2222222222222222,
              "#7201a8"
             ],
             [
              0.3333333333333333,
              "#9c179e"
             ],
             [
              0.4444444444444444,
              "#bd3786"
             ],
             [
              0.5555555555555556,
              "#d8576b"
             ],
             [
              0.6666666666666666,
              "#ed7953"
             ],
             [
              0.7777777777777778,
              "#fb9f3a"
             ],
             [
              0.8888888888888888,
              "#fdca26"
             ],
             [
              1,
              "#f0f921"
             ]
            ],
            "type": "contour"
           }
          ],
          "contourcarpet": [
           {
            "colorbar": {
             "outlinewidth": 0,
             "ticks": ""
            },
            "type": "contourcarpet"
           }
          ],
          "heatmap": [
           {
            "colorbar": {
             "outlinewidth": 0,
             "ticks": ""
            },
            "colorscale": [
             [
              0,
              "#0d0887"
             ],
             [
              0.1111111111111111,
              "#46039f"
             ],
             [
              0.2222222222222222,
              "#7201a8"
             ],
             [
              0.3333333333333333,
              "#9c179e"
             ],
             [
              0.4444444444444444,
              "#bd3786"
             ],
             [
              0.5555555555555556,
              "#d8576b"
             ],
             [
              0.6666666666666666,
              "#ed7953"
             ],
             [
              0.7777777777777778,
              "#fb9f3a"
             ],
             [
              0.8888888888888888,
              "#fdca26"
             ],
             [
              1,
              "#f0f921"
             ]
            ],
            "type": "heatmap"
           }
          ],
          "heatmapgl": [
           {
            "colorbar": {
             "outlinewidth": 0,
             "ticks": ""
            },
            "colorscale": [
             [
              0,
              "#0d0887"
             ],
             [
              0.1111111111111111,
              "#46039f"
             ],
             [
              0.2222222222222222,
              "#7201a8"
             ],
             [
              0.3333333333333333,
              "#9c179e"
             ],
             [
              0.4444444444444444,
              "#bd3786"
             ],
             [
              0.5555555555555556,
              "#d8576b"
             ],
             [
              0.6666666666666666,
              "#ed7953"
             ],
             [
              0.7777777777777778,
              "#fb9f3a"
             ],
             [
              0.8888888888888888,
              "#fdca26"
             ],
             [
              1,
              "#f0f921"
             ]
            ],
            "type": "heatmapgl"
           }
          ],
          "histogram": [
           {
            "marker": {
             "pattern": {
              "fillmode": "overlay",
              "size": 10,
              "solidity": 0.2
             }
            },
            "type": "histogram"
           }
          ],
          "histogram2d": [
           {
            "colorbar": {
             "outlinewidth": 0,
             "ticks": ""
            },
            "colorscale": [
             [
              0,
              "#0d0887"
             ],
             [
              0.1111111111111111,
              "#46039f"
             ],
             [
              0.2222222222222222,
              "#7201a8"
             ],
             [
              0.3333333333333333,
              "#9c179e"
             ],
             [
              0.4444444444444444,
              "#bd3786"
             ],
             [
              0.5555555555555556,
              "#d8576b"
             ],
             [
              0.6666666666666666,
              "#ed7953"
             ],
             [
              0.7777777777777778,
              "#fb9f3a"
             ],
             [
              0.8888888888888888,
              "#fdca26"
             ],
             [
              1,
              "#f0f921"
             ]
            ],
            "type": "histogram2d"
           }
          ],
          "histogram2dcontour": [
           {
            "colorbar": {
             "outlinewidth": 0,
             "ticks": ""
            },
            "colorscale": [
             [
              0,
              "#0d0887"
             ],
             [
              0.1111111111111111,
              "#46039f"
             ],
             [
              0.2222222222222222,
              "#7201a8"
             ],
             [
              0.3333333333333333,
              "#9c179e"
             ],
             [
              0.4444444444444444,
              "#bd3786"
             ],
             [
              0.5555555555555556,
              "#d8576b"
             ],
             [
              0.6666666666666666,
              "#ed7953"
             ],
             [
              0.7777777777777778,
              "#fb9f3a"
             ],
             [
              0.8888888888888888,
              "#fdca26"
             ],
             [
              1,
              "#f0f921"
             ]
            ],
            "type": "histogram2dcontour"
           }
          ],
          "mesh3d": [
           {
            "colorbar": {
             "outlinewidth": 0,
             "ticks": ""
            },
            "type": "mesh3d"
           }
          ],
          "parcoords": [
           {
            "line": {
             "colorbar": {
              "outlinewidth": 0,
              "ticks": ""
             }
            },
            "type": "parcoords"
           }
          ],
          "pie": [
           {
            "automargin": true,
            "type": "pie"
           }
          ],
          "scatter": [
           {
            "fillpattern": {
             "fillmode": "overlay",
             "size": 10,
             "solidity": 0.2
            },
            "type": "scatter"
           }
          ],
          "scatter3d": [
           {
            "line": {
             "colorbar": {
              "outlinewidth": 0,
              "ticks": ""
             }
            },
            "marker": {
             "colorbar": {
              "outlinewidth": 0,
              "ticks": ""
             }
            },
            "type": "scatter3d"
           }
          ],
          "scattercarpet": [
           {
            "marker": {
             "colorbar": {
              "outlinewidth": 0,
              "ticks": ""
             }
            },
            "type": "scattercarpet"
           }
          ],
          "scattergeo": [
           {
            "marker": {
             "colorbar": {
              "outlinewidth": 0,
              "ticks": ""
             }
            },
            "type": "scattergeo"
           }
          ],
          "scattergl": [
           {
            "marker": {
             "colorbar": {
              "outlinewidth": 0,
              "ticks": ""
             }
            },
            "type": "scattergl"
           }
          ],
          "scattermapbox": [
           {
            "marker": {
             "colorbar": {
              "outlinewidth": 0,
              "ticks": ""
             }
            },
            "type": "scattermapbox"
           }
          ],
          "scatterpolar": [
           {
            "marker": {
             "colorbar": {
              "outlinewidth": 0,
              "ticks": ""
             }
            },
            "type": "scatterpolar"
           }
          ],
          "scatterpolargl": [
           {
            "marker": {
             "colorbar": {
              "outlinewidth": 0,
              "ticks": ""
             }
            },
            "type": "scatterpolargl"
           }
          ],
          "scatterternary": [
           {
            "marker": {
             "colorbar": {
              "outlinewidth": 0,
              "ticks": ""
             }
            },
            "type": "scatterternary"
           }
          ],
          "surface": [
           {
            "colorbar": {
             "outlinewidth": 0,
             "ticks": ""
            },
            "colorscale": [
             [
              0,
              "#0d0887"
             ],
             [
              0.1111111111111111,
              "#46039f"
             ],
             [
              0.2222222222222222,
              "#7201a8"
             ],
             [
              0.3333333333333333,
              "#9c179e"
             ],
             [
              0.4444444444444444,
              "#bd3786"
             ],
             [
              0.5555555555555556,
              "#d8576b"
             ],
             [
              0.6666666666666666,
              "#ed7953"
             ],
             [
              0.7777777777777778,
              "#fb9f3a"
             ],
             [
              0.8888888888888888,
              "#fdca26"
             ],
             [
              1,
              "#f0f921"
             ]
            ],
            "type": "surface"
           }
          ],
          "table": [
           {
            "cells": {
             "fill": {
              "color": "#EBF0F8"
             },
             "line": {
              "color": "white"
             }
            },
            "header": {
             "fill": {
              "color": "#C8D4E3"
             },
             "line": {
              "color": "white"
             }
            },
            "type": "table"
           }
          ]
         },
         "layout": {
          "annotationdefaults": {
           "arrowcolor": "#2a3f5f",
           "arrowhead": 0,
           "arrowwidth": 1
          },
          "autotypenumbers": "strict",
          "coloraxis": {
           "colorbar": {
            "outlinewidth": 0,
            "ticks": ""
           }
          },
          "colorscale": {
           "diverging": [
            [
             0,
             "#8e0152"
            ],
            [
             0.1,
             "#c51b7d"
            ],
            [
             0.2,
             "#de77ae"
            ],
            [
             0.3,
             "#f1b6da"
            ],
            [
             0.4,
             "#fde0ef"
            ],
            [
             0.5,
             "#f7f7f7"
            ],
            [
             0.6,
             "#e6f5d0"
            ],
            [
             0.7,
             "#b8e186"
            ],
            [
             0.8,
             "#7fbc41"
            ],
            [
             0.9,
             "#4d9221"
            ],
            [
             1,
             "#276419"
            ]
           ],
           "sequential": [
            [
             0,
             "#0d0887"
            ],
            [
             0.1111111111111111,
             "#46039f"
            ],
            [
             0.2222222222222222,
             "#7201a8"
            ],
            [
             0.3333333333333333,
             "#9c179e"
            ],
            [
             0.4444444444444444,
             "#bd3786"
            ],
            [
             0.5555555555555556,
             "#d8576b"
            ],
            [
             0.6666666666666666,
             "#ed7953"
            ],
            [
             0.7777777777777778,
             "#fb9f3a"
            ],
            [
             0.8888888888888888,
             "#fdca26"
            ],
            [
             1,
             "#f0f921"
            ]
           ],
           "sequentialminus": [
            [
             0,
             "#0d0887"
            ],
            [
             0.1111111111111111,
             "#46039f"
            ],
            [
             0.2222222222222222,
             "#7201a8"
            ],
            [
             0.3333333333333333,
             "#9c179e"
            ],
            [
             0.4444444444444444,
             "#bd3786"
            ],
            [
             0.5555555555555556,
             "#d8576b"
            ],
            [
             0.6666666666666666,
             "#ed7953"
            ],
            [
             0.7777777777777778,
             "#fb9f3a"
            ],
            [
             0.8888888888888888,
             "#fdca26"
            ],
            [
             1,
             "#f0f921"
            ]
           ]
          },
          "colorway": [
           "#636efa",
           "#EF553B",
           "#00cc96",
           "#ab63fa",
           "#FFA15A",
           "#19d3f3",
           "#FF6692",
           "#B6E880",
           "#FF97FF",
           "#FECB52"
          ],
          "font": {
           "color": "#2a3f5f"
          },
          "geo": {
           "bgcolor": "white",
           "lakecolor": "white",
           "landcolor": "#E5ECF6",
           "showlakes": true,
           "showland": true,
           "subunitcolor": "white"
          },
          "hoverlabel": {
           "align": "left"
          },
          "hovermode": "closest",
          "mapbox": {
           "style": "light"
          },
          "paper_bgcolor": "white",
          "plot_bgcolor": "#E5ECF6",
          "polar": {
           "angularaxis": {
            "gridcolor": "white",
            "linecolor": "white",
            "ticks": ""
           },
           "bgcolor": "#E5ECF6",
           "radialaxis": {
            "gridcolor": "white",
            "linecolor": "white",
            "ticks": ""
           }
          },
          "scene": {
           "xaxis": {
            "backgroundcolor": "#E5ECF6",
            "gridcolor": "white",
            "gridwidth": 2,
            "linecolor": "white",
            "showbackground": true,
            "ticks": "",
            "zerolinecolor": "white"
           },
           "yaxis": {
            "backgroundcolor": "#E5ECF6",
            "gridcolor": "white",
            "gridwidth": 2,
            "linecolor": "white",
            "showbackground": true,
            "ticks": "",
            "zerolinecolor": "white"
           },
           "zaxis": {
            "backgroundcolor": "#E5ECF6",
            "gridcolor": "white",
            "gridwidth": 2,
            "linecolor": "white",
            "showbackground": true,
            "ticks": "",
            "zerolinecolor": "white"
           }
          },
          "shapedefaults": {
           "line": {
            "color": "#2a3f5f"
           }
          },
          "ternary": {
           "aaxis": {
            "gridcolor": "white",
            "linecolor": "white",
            "ticks": ""
           },
           "baxis": {
            "gridcolor": "white",
            "linecolor": "white",
            "ticks": ""
           },
           "bgcolor": "#E5ECF6",
           "caxis": {
            "gridcolor": "white",
            "linecolor": "white",
            "ticks": ""
           }
          },
          "title": {
           "x": 0.05
          },
          "xaxis": {
           "automargin": true,
           "gridcolor": "white",
           "linecolor": "white",
           "ticks": "",
           "title": {
            "standoff": 15
           },
           "zerolinecolor": "white",
           "zerolinewidth": 2
          },
          "yaxis": {
           "automargin": true,
           "gridcolor": "white",
           "linecolor": "white",
           "ticks": "",
           "title": {
            "standoff": 15
           },
           "zerolinecolor": "white",
           "zerolinewidth": 2
          }
         }
        },
        "title": {
         "text": "Accuracy CNN"
        },
        "width": 700,
        "xaxis": {
         "title": {
          "text": "Epoch"
         }
        },
        "yaxis": {
         "title": {
          "text": "Accuracy"
         }
        }
       }
      }
     },
     "metadata": {},
     "output_type": "display_data"
    },
    {
     "data": {
      "text/plain": [
       "<Figure size 432x288 with 0 Axes>"
      ]
     },
     "metadata": {},
     "output_type": "display_data"
    }
   ],
   "source": [
    "# clinical:\n",
    "if need_2_train_Clinical:\n",
    "    plt.clf()\n",
    "    fig = go.Figure()\n",
    "    fig.add_trace(go.Scatter(\n",
    "                        y=history_clinical.history['loss'],\n",
    "                        name='Train segmentation loss'))\n",
    "    fig.add_trace(go.Scatter(\n",
    "                        y=history_clinical.history['val_loss'],\n",
    "                        name='Valid segmentation loss'))\n",
    "    fig.add_trace(go.Scatter(\n",
    "                        y=history_clinical.history['accuracy'],\n",
    "                        name='Train segmentation accuracy'))\n",
    "    fig.add_trace(go.Scatter(\n",
    "                        y=history_clinical.history['val_accuracy'],\n",
    "                        name='Valid segmentation accuracy'))\n",
    "    fig.update_layout(height=500, \n",
    "                      width=700,\n",
    "                      title='Accuracy Clinical Data',\n",
    "                      xaxis_title='Epoch',\n",
    "                      yaxis_title='Accuracy')\n",
    "    fig.show()\n",
    "\n",
    "# cnn\n",
    "if need_2_train_CNN:\n",
    "    plt.clf()\n",
    "    fig = go.Figure()\n",
    "    fig.add_trace(go.Scatter(\n",
    "                        y=history_CNN.history['loss'],\n",
    "                        name='Train loss'))\n",
    "    fig.add_trace(go.Scatter(\n",
    "                        y=history_CNN.history['val_loss'],\n",
    "                        name='Valid loss'))\n",
    "    fig.add_trace(go.Scatter(\n",
    "                        y=history_CNN.history['accuracy'],\n",
    "                        name='Train accuracy'))\n",
    "    fig.add_trace(go.Scatter(\n",
    "                        y=history_CNN.history['val_accuracy'],\n",
    "                        name='Valid accuracy'))\n",
    "    fig.add_trace(go.Scatter(\n",
    "                        y=history_CNN.history['f1_m'],\n",
    "                        name='Train F1 value'))\n",
    "    fig.add_trace(go.Scatter(\n",
    "                        y=history_CNN.history['val_f1_m'],\n",
    "                        name='Valid F1 value'))\n",
    "    fig.update_layout(height=500, \n",
    "                      width=700,\n",
    "                      title='Accuracy CNN',\n",
    "                      xaxis_title='Epoch',\n",
    "                      yaxis_title='Accuracy')\n",
    "    fig.show()"
   ]
  },
  {
   "cell_type": "markdown",
   "metadata": {},
   "source": [
    "### Load trained Models"
   ]
  },
  {
   "cell_type": "code",
   "execution_count": null,
   "metadata": {},
   "outputs": [],
   "source": [
    "def binary_focal_loss(y_true, y_pred):\n",
    "    fl = tfa.losses.SigmoidFocalCrossEntropy(alpha=0.2, gamma=2)\n",
    "    y_true_K = K.ones_like(y_true)\n",
    "    focal_loss = fl(y_true, y_pred)\n",
    "    return focal_loss"
   ]
  },
  {
   "cell_type": "code",
   "execution_count": null,
   "metadata": {},
   "outputs": [
    {
     "ename": "ValueError",
     "evalue": "Unable to restore custom object of type _tf_keras_metric. Please make sure that any custom layers are included in the `custom_objects` arg when calling `load_model()` and make sure that all layers implement `get_config` and `from_config`.",
     "output_type": "error",
     "traceback": [
      "\u001b[1;31m---------------------------------------------------------------------------\u001b[0m",
      "\u001b[1;31mValueError\u001b[0m                                Traceback (most recent call last)",
      "\u001b[1;32m~\\AppData\\Local\\Temp/ipykernel_7240/135852667.py\u001b[0m in \u001b[0;36m<module>\u001b[1;34m\u001b[0m\n\u001b[0;32m      1\u001b[0m \u001b[0mmodel_clinical\u001b[0m \u001b[1;33m=\u001b[0m \u001b[0mclinical_fn\u001b[0m\u001b[1;33m.\u001b[0m\u001b[0mload_best_mlp\u001b[0m\u001b[1;33m(\u001b[0m\u001b[0mSaveTrainModelsPath\u001b[0m\u001b[1;33m)\u001b[0m\u001b[1;33m\u001b[0m\u001b[1;33m\u001b[0m\u001b[0m\n\u001b[0;32m      2\u001b[0m \u001b[1;31m# model_CNN = cnn_fn.load_best_cnn(SaveTrainModelsPath)\u001b[0m\u001b[1;33m\u001b[0m\u001b[1;33m\u001b[0m\u001b[0m\n\u001b[1;32m----> 3\u001b[1;33m \u001b[0mmodel_CNN\u001b[0m \u001b[1;33m=\u001b[0m \u001b[0mcnn_fn\u001b[0m\u001b[1;33m.\u001b[0m\u001b[0mload_best_cnn\u001b[0m\u001b[1;33m(\u001b[0m\u001b[0mSaveTrainModelsPath\u001b[0m\u001b[1;33m,\u001b[0m \u001b[0mcustomObjects\u001b[0m\u001b[1;33m=\u001b[0m\u001b[1;33m{\u001b[0m\u001b[1;34m'binary_focal_loss'\u001b[0m\u001b[1;33m:\u001b[0m \u001b[0mfocal_loss_custom\u001b[0m\u001b[1;33m(\u001b[0m\u001b[1;36m0.2\u001b[0m\u001b[1;33m,\u001b[0m \u001b[1;36m2\u001b[0m\u001b[1;33m)\u001b[0m\u001b[1;33m}\u001b[0m\u001b[1;33m)\u001b[0m\u001b[1;33m\u001b[0m\u001b[1;33m\u001b[0m\u001b[0m\n\u001b[0m",
      "\u001b[1;32mm:\\UNIUD\\COVID 2022\\NY-DATABASE\\Notebooks\\Covid19_NY_CNN_Functions.py\u001b[0m in \u001b[0;36mload_best_cnn\u001b[1;34m(checkpointPaht, loadDefault, customObjects)\u001b[0m\n\u001b[0;32m    371\u001b[0m     \u001b[1;32mif\u001b[0m \u001b[0mcustomObjects\u001b[0m \u001b[1;33m!=\u001b[0m \u001b[0mnull\u001b[0m\u001b[1;33m:\u001b[0m\u001b[1;33m\u001b[0m\u001b[1;33m\u001b[0m\u001b[0m\n\u001b[0;32m    372\u001b[0m         \u001b[1;32mif\u001b[0m \u001b[0mloadDefault\u001b[0m\u001b[1;33m:\u001b[0m\u001b[1;33m\u001b[0m\u001b[1;33m\u001b[0m\u001b[0m\n\u001b[1;32m--> 373\u001b[1;33m             \u001b[0mmodel\u001b[0m \u001b[1;33m=\u001b[0m \u001b[0mtf\u001b[0m\u001b[1;33m.\u001b[0m\u001b[0mkeras\u001b[0m\u001b[1;33m.\u001b[0m\u001b[0mmodels\u001b[0m\u001b[1;33m.\u001b[0m\u001b[0mload_model\u001b[0m\u001b[1;33m(\u001b[0m\u001b[0mcheckpointPaht\u001b[0m \u001b[1;33m/\u001b[0m \u001b[0mPath\u001b[0m\u001b[1;33m(\u001b[0m\u001b[1;34m'cnn'\u001b[0m\u001b[1;33m)\u001b[0m\u001b[1;33m,\u001b[0m \u001b[0mcustom_objects\u001b[0m\u001b[1;33m=\u001b[0m\u001b[0mcustomObjects\u001b[0m\u001b[1;33m)\u001b[0m\u001b[1;33m\u001b[0m\u001b[1;33m\u001b[0m\u001b[0m\n\u001b[0m\u001b[0;32m    374\u001b[0m         \u001b[1;32melse\u001b[0m\u001b[1;33m:\u001b[0m\u001b[1;33m\u001b[0m\u001b[1;33m\u001b[0m\u001b[0m\n\u001b[0;32m    375\u001b[0m             \u001b[0mmodel\u001b[0m \u001b[1;33m=\u001b[0m \u001b[0mtf\u001b[0m\u001b[1;33m.\u001b[0m\u001b[0mkeras\u001b[0m\u001b[1;33m.\u001b[0m\u001b[0mmodels\u001b[0m\u001b[1;33m.\u001b[0m\u001b[0mload_model\u001b[0m\u001b[1;33m(\u001b[0m\u001b[0mcheckpointPaht\u001b[0m\u001b[1;33m,\u001b[0m \u001b[0mcustom_objects\u001b[0m\u001b[1;33m=\u001b[0m\u001b[0mcustomObjects\u001b[0m\u001b[1;33m)\u001b[0m\u001b[1;33m\u001b[0m\u001b[1;33m\u001b[0m\u001b[0m\n",
      "\u001b[1;32mc:\\Users\\Michele\\anaconda3\\envs\\tfGPU\\lib\\site-packages\\keras\\utils\\traceback_utils.py\u001b[0m in \u001b[0;36merror_handler\u001b[1;34m(*args, **kwargs)\u001b[0m\n\u001b[0;32m     67\u001b[0m       \u001b[1;31m# To get the full stack trace, call:\u001b[0m\u001b[1;33m\u001b[0m\u001b[1;33m\u001b[0m\u001b[0m\n\u001b[0;32m     68\u001b[0m       \u001b[1;31m# `tf.debugging.disable_traceback_filtering()`\u001b[0m\u001b[1;33m\u001b[0m\u001b[1;33m\u001b[0m\u001b[0m\n\u001b[1;32m---> 69\u001b[1;33m       \u001b[1;32mraise\u001b[0m \u001b[0me\u001b[0m\u001b[1;33m.\u001b[0m\u001b[0mwith_traceback\u001b[0m\u001b[1;33m(\u001b[0m\u001b[0mfiltered_tb\u001b[0m\u001b[1;33m)\u001b[0m \u001b[1;32mfrom\u001b[0m \u001b[1;32mNone\u001b[0m\u001b[1;33m\u001b[0m\u001b[1;33m\u001b[0m\u001b[0m\n\u001b[0m\u001b[0;32m     70\u001b[0m     \u001b[1;32mfinally\u001b[0m\u001b[1;33m:\u001b[0m\u001b[1;33m\u001b[0m\u001b[1;33m\u001b[0m\u001b[0m\n\u001b[0;32m     71\u001b[0m       \u001b[1;32mdel\u001b[0m \u001b[0mfiltered_tb\u001b[0m\u001b[1;33m\u001b[0m\u001b[1;33m\u001b[0m\u001b[0m\n",
      "\u001b[1;32mc:\\Users\\Michele\\anaconda3\\envs\\tfGPU\\lib\\site-packages\\keras\\saving\\saved_model\\load.py\u001b[0m in \u001b[0;36mrevive_custom_object\u001b[1;34m(identifier, metadata)\u001b[0m\n\u001b[0;32m    985\u001b[0m     \u001b[1;32mreturn\u001b[0m \u001b[0mrevived_cls\u001b[0m\u001b[1;33m.\u001b[0m\u001b[0m_init_from_metadata\u001b[0m\u001b[1;33m(\u001b[0m\u001b[0mmetadata\u001b[0m\u001b[1;33m)\u001b[0m  \u001b[1;31m# pylint: disable=protected-access\u001b[0m\u001b[1;33m\u001b[0m\u001b[1;33m\u001b[0m\u001b[0m\n\u001b[0;32m    986\u001b[0m   \u001b[1;32melse\u001b[0m\u001b[1;33m:\u001b[0m\u001b[1;33m\u001b[0m\u001b[1;33m\u001b[0m\u001b[0m\n\u001b[1;32m--> 987\u001b[1;33m     raise ValueError(\n\u001b[0m\u001b[0;32m    988\u001b[0m         \u001b[1;34mf'Unable to restore custom object of type {identifier}. '\u001b[0m\u001b[1;33m\u001b[0m\u001b[1;33m\u001b[0m\u001b[0m\n\u001b[0;32m    989\u001b[0m         \u001b[1;34mf'Please make sure that any custom layers are included in the '\u001b[0m\u001b[1;33m\u001b[0m\u001b[1;33m\u001b[0m\u001b[0m\n",
      "\u001b[1;31mValueError\u001b[0m: Unable to restore custom object of type _tf_keras_metric. Please make sure that any custom layers are included in the `custom_objects` arg when calling `load_model()` and make sure that all layers implement `get_config` and `from_config`."
     ]
    }
   ],
   "source": [
    "model_clinical = clinical_fn.load_best_mlp(SaveTrainModelsPath)\n",
    "# model_CNN = cnn_fn.load_best_cnn(SaveTrainModelsPath)\n",
    "# model_CNN = cnn_fn.load_best_cnn(SaveTrainModelsPath, customObjects={'binary_focal_loss': focal_loss_custom(0.2, 2)})"
   ]
  },
  {
   "cell_type": "markdown",
   "metadata": {},
   "source": [
    "## METRICS SKLEARN"
   ]
  },
  {
   "cell_type": "code",
   "execution_count": null,
   "metadata": {},
   "outputs": [],
   "source": [
    "from sklearn.metrics import confusion_matrix, accuracy_score, recall_score, precision_score, roc_auc_score"
   ]
  },
  {
   "cell_type": "code",
   "execution_count": null,
   "metadata": {},
   "outputs": [
    {
     "name": "stdout",
     "output_type": "stream",
     "text": [
      "CLINICAL\n",
      "\n",
      "8/8 [==============================] - 0s 2ms/step\n",
      "\n",
      " confusion matrix[[206   5]\n",
      " [ 11  34]]\n",
      "\n",
      "8/8 [==============================] - 0s 997us/step\n",
      "\n",
      " accuracy0.9375\n",
      "\n",
      "8/8 [==============================] - 0s 2ms/step\n",
      "\n",
      " recall0.7555555555555555\n",
      "\n",
      "8/8 [==============================] - 0s 1ms/step\n",
      "\n",
      " precision0.8717948717948718\n",
      "\n"
     ]
    }
   ],
   "source": [
    "print(\"CLINICAL\\n\")\n",
    "\n",
    "cm=confusion_matrix(np.argmax(Y_cl_val.to_numpy(), axis=1),np.argmax(model_clinical.predict(X_cl_val), axis=1))\n",
    "print(\"\\n confusion matrix\" + str(cm)+\"\\n\")\n",
    "\n",
    "acc=accuracy_score(np.argmax(Y_cl_val.to_numpy(), axis=1),np.argmax(model_clinical.predict(X_cl_val), axis=1))\n",
    "print(\"\\n accuracy\" + str(acc)+\"\\n\")\n",
    "\n",
    "recall=recall_score(np.argmax(Y_cl_val.to_numpy(), axis=1),np.argmax(model_clinical.predict(X_cl_val), axis=1))\n",
    "print(\"\\n recall\" + str(recall)+\"\\n\")\n",
    "\n",
    "precision=precision_score(np.argmax(Y_cl_val.to_numpy(), axis=1),np.argmax(model_clinical.predict(X_cl_val), axis=1))\n",
    "print(\"\\n precision\" + str(precision)+\"\\n\")\n"
   ]
  },
  {
   "cell_type": "code",
   "execution_count": null,
   "metadata": {},
   "outputs": [
    {
     "name": "stdout",
     "output_type": "stream",
     "text": [
      "CNN\n",
      "\n",
      "8/8 [==============================] - 2s 25ms/step\n",
      "\n",
      " confusion matrix[[211   0]\n",
      " [ 45   0]]\n",
      "\n",
      "8/8 [==============================] - 0s 23ms/step\n",
      "\n",
      " accuracy0.82421875\n",
      "\n",
      "8/8 [==============================] - 0s 23ms/step\n",
      "\n",
      " recall0.0\n",
      "\n",
      "8/8 [==============================] - 0s 25ms/step\n",
      "\n",
      " precision0.0\n",
      "\n"
     ]
    },
    {
     "name": "stderr",
     "output_type": "stream",
     "text": [
      "c:\\Users\\Michele\\anaconda3\\envs\\tfGPU\\lib\\site-packages\\sklearn\\metrics\\_classification.py:1327: UndefinedMetricWarning:\n",
      "\n",
      "Precision is ill-defined and being set to 0.0 due to no predicted samples. Use `zero_division` parameter to control this behavior.\n",
      "\n"
     ]
    }
   ],
   "source": [
    "print(\"CNN\\n\")\n",
    "\n",
    "cm=confusion_matrix(np.argmax(Y_im_val.to_numpy(), axis=1),np.argmax(model_CNN.predict(t0_IMG_val), axis=1))\n",
    "print(\"\\n confusion matrix\" + str(cm)+\"\\n\")\n",
    "\n",
    "acc=accuracy_score(np.argmax(Y_im_val.to_numpy(), axis=1),np.argmax(model_CNN.predict(t0_IMG_val), axis=1))\n",
    "print(\"\\n accuracy\" + str(acc)+\"\\n\")\n",
    "\n",
    "recall=recall_score(np.argmax(Y_im_val.to_numpy(), axis=1),np.argmax(model_CNN.predict(t0_IMG_val), axis=1))\n",
    "print(\"\\n recall\" + str(recall)+\"\\n\")\n",
    "\n",
    "precision=precision_score(np.argmax(Y_im_val.to_numpy(), axis=1),np.argmax(model_CNN.predict(t0_IMG_val), axis=1))\n",
    "print(\"\\n precision\" + str(precision)+\"\\n\")\n"
   ]
  },
  {
   "cell_type": "markdown",
   "metadata": {},
   "source": [
    "## CLINICAL DATA CLASSIFICATION"
   ]
  },
  {
   "cell_type": "code",
   "execution_count": null,
   "metadata": {},
   "outputs": [
    {
     "ename": "AttributeError",
     "evalue": "'Sequential' object has no attribute 'prediction'",
     "output_type": "error",
     "traceback": [
      "\u001b[1;31m---------------------------------------------------------------------------\u001b[0m",
      "\u001b[1;31mAttributeError\u001b[0m                            Traceback (most recent call last)",
      "\u001b[1;32m~\\AppData\\Local\\Temp/ipykernel_1260/2788827967.py\u001b[0m in \u001b[0;36m<module>\u001b[1;34m\u001b[0m\n\u001b[1;32m----> 1\u001b[1;33m \u001b[0mp_Clinical\u001b[0m \u001b[1;33m=\u001b[0m \u001b[0mmodel_clinical\u001b[0m\u001b[1;33m.\u001b[0m\u001b[0mprediction\u001b[0m\u001b[1;33m(\u001b[0m\u001b[0mX_cl_val\u001b[0m\u001b[1;33m)\u001b[0m\u001b[1;33m\u001b[0m\u001b[1;33m\u001b[0m\u001b[0m\n\u001b[0m",
      "\u001b[1;31mAttributeError\u001b[0m: 'Sequential' object has no attribute 'prediction'"
     ]
    }
   ],
   "source": [
    "p_Clinical = model_clinical.prediction(X_cl_val)"
   ]
  },
  {
   "cell_type": "markdown",
   "metadata": {},
   "source": [
    "## CNN Classification"
   ]
  },
  {
   "cell_type": "code",
   "execution_count": null,
   "metadata": {},
   "outputs": [],
   "source": [
    "p_RX = model_CNN.prediction(t0_IMG_val)"
   ]
  },
  {
   "cell_type": "markdown",
   "metadata": {},
   "source": [
    "## COMBINATION OF THE p and Decision"
   ]
  },
  {
   "cell_type": "code",
   "execution_count": null,
   "metadata": {},
   "outputs": [],
   "source": [
    "def decisionFusion():\n",
    "    probOut = 0\n",
    "\n",
    "    return probOut"
   ]
  },
  {
   "cell_type": "code",
   "execution_count": null,
   "metadata": {},
   "outputs": [],
   "source": [
    "p_Out = decisionFusion(p_Clinical,p_RX)"
   ]
  },
  {
   "cell_type": "code",
   "execution_count": null,
   "metadata": {},
   "outputs": [],
   "source": []
  }
 ],
 "metadata": {
  "kernelspec": {
   "display_name": "Python 3.9.7 ('tfGPU')",
   "language": "python",
   "name": "python3"
  },
  "language_info": {
   "codemirror_mode": {
    "name": "ipython",
    "version": 3
   },
   "file_extension": ".py",
   "mimetype": "text/x-python",
   "name": "python",
   "nbconvert_exporter": "python",
   "pygments_lexer": "ipython3",
   "version": "3.9.7"
  },
  "orig_nbformat": 4,
  "vscode": {
   "interpreter": {
    "hash": "4db405b6028211bb031acc2bef2b1f47e0938d03337b972923fda4a906a651d3"
   }
  }
 },
 "nbformat": 4,
 "nbformat_minor": 2
}

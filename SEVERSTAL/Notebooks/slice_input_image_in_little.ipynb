{
 "cells": [
  {
   "cell_type": "markdown",
   "metadata": {},
   "source": [
    "# notebook for slicing the input images"
   ]
  },
  {
   "cell_type": "code",
   "execution_count": 1,
   "metadata": {},
   "outputs": [],
   "source": [
    "# What version of Python do you have?\n",
    "import sys\n",
    "import numpy as np\n",
    "import math\n",
    "from PIL import Image, ImageOps\n",
    "from numpy import asarray\n",
    "import matplotlib.pyplot as plt\n",
    "import os\n",
    "from os import walk\n",
    "\n",
    "import pandas as pd\n",
    "\n",
    "from tqdm import tqdm\n",
    "\n",
    "import gc\n",
    "import copy\n",
    "import cv2\n",
    "\n",
    "# import sklearn as sk\n",
    "from pathlib import Path\n",
    "import plotly.graph_objects as go\n",
    "from tensorflow.keras.preprocessing.image import load_img"
   ]
  },
  {
   "cell_type": "code",
   "execution_count": 2,
   "metadata": {},
   "outputs": [],
   "source": [
    "#cropping of images in numpy array\n",
    "def cropNpArrayIm(npArray,h_w): #sqare crop h = w = h_w\n",
    "    outArray = np.empty((0,npArray.shape[1],h_w,3));\n",
    "    #here a for is used to take each image of the array and crop using the numpy function array_split on each axis\n",
    "    for im in npArray:\n",
    "        # imageCropX = np.array(np.array_split(im,int(npArray.shape[1]/h_w),axis=0));             #the image is split in (shape[1]/h_w) parts horizontally\n",
    "        imageCropY = np.array(np.array_split(im,int(npArray.shape[2]/h_w),axis=1));     #the images resulted from the firts split are split in (shape[2]/h_w) parts vertically\n",
    "        # imageCropY = np.concatenate(imageCropY, axis=0)                                         #the cropped images are concatenated to result a single array\n",
    "        outArray = np.concatenate((outArray,imageCropY),axis=0)                                 #the out array is fulled by the images\n",
    "    return outArray"
   ]
  },
  {
   "cell_type": "code",
   "execution_count": 3,
   "metadata": {},
   "outputs": [],
   "source": [
    "def load_crop_im(pt,dirOut,w, resize, outSize = [256,256]):\n",
    "    if resize:\n",
    "        img = load_img(pt,target_size=(outSize[0],outSize[1]))\n",
    "    else:\n",
    "        img = Image.open(pt)\n",
    "\n",
    "    img = asarray(img)\n",
    "    cropNumber = 0\n",
    "    imageCropY = np.array_split(img,int(img.shape[1]/w),axis=1);     #the images resulted from the firts split are split in (shape[2]/h_w) parts vertically\n",
    "    for im in imageCropY:\n",
    "        filename = pt.stem\n",
    "        filename = filename + '_' + str(cropNumber) + pt.suffix\n",
    "        im = Image.fromarray(im)\n",
    "        im.save(dirOut / filename)\n",
    "        cropNumber = int(cropNumber) + 1"
   ]
  },
  {
   "cell_type": "code",
   "execution_count": 4,
   "metadata": {},
   "outputs": [],
   "source": [
    "pathImagesIn = Path('../DB/train_images_masks/')\n",
    "pathImagesOut = Path('../DB/cropped_train_images_masks/')"
   ]
  },
  {
   "cell_type": "code",
   "execution_count": 5,
   "metadata": {},
   "outputs": [],
   "source": [
    "pathImagesOut.mkdir(parents=True, exist_ok=True)"
   ]
  },
  {
   "cell_type": "code",
   "execution_count": 45,
   "metadata": {},
   "outputs": [],
   "source": [
    "f = []\n",
    "d = ''\n",
    "for (dirpath,dirnames,filenames) in walk(pathImagesIn):\n",
    "    f.extend(filenames)\n",
    "    d = Path(dirpath)\n",
    "\n",
    "f = [d / Path(el) for el in f]"
   ]
  },
  {
   "cell_type": "code",
   "execution_count": 46,
   "metadata": {},
   "outputs": [],
   "source": [
    "w = 160\n",
    "for pt in f:\n",
    "    load_crop_im(pt,pathImagesOut,w,False)"
   ]
  },
  {
   "cell_type": "markdown",
   "metadata": {},
   "source": [
    "# create db excell"
   ]
  },
  {
   "cell_type": "code",
   "execution_count": 6,
   "metadata": {},
   "outputs": [],
   "source": [
    "cvsPath = Path('../DB/train.csv')\n",
    "SevDB = pd.read_csv(cvsPath)"
   ]
  },
  {
   "cell_type": "code",
   "execution_count": 7,
   "metadata": {},
   "outputs": [
    {
     "data": {
      "text/html": [
       "<div>\n",
       "<style scoped>\n",
       "    .dataframe tbody tr th:only-of-type {\n",
       "        vertical-align: middle;\n",
       "    }\n",
       "\n",
       "    .dataframe tbody tr th {\n",
       "        vertical-align: top;\n",
       "    }\n",
       "\n",
       "    .dataframe thead th {\n",
       "        text-align: right;\n",
       "    }\n",
       "</style>\n",
       "<table border=\"1\" class=\"dataframe\">\n",
       "  <thead>\n",
       "    <tr style=\"text-align: right;\">\n",
       "      <th></th>\n",
       "      <th>ImageId</th>\n",
       "      <th>ClassId</th>\n",
       "      <th>EncodedPixels</th>\n",
       "    </tr>\n",
       "  </thead>\n",
       "  <tbody>\n",
       "    <tr>\n",
       "      <th>0</th>\n",
       "      <td>0002cc93b.jpg</td>\n",
       "      <td>1</td>\n",
       "      <td>29102 12 29346 24 29602 24 29858 24 30114 24 3...</td>\n",
       "    </tr>\n",
       "    <tr>\n",
       "      <th>1</th>\n",
       "      <td>0007a71bf.jpg</td>\n",
       "      <td>3</td>\n",
       "      <td>18661 28 18863 82 19091 110 19347 110 19603 11...</td>\n",
       "    </tr>\n",
       "    <tr>\n",
       "      <th>2</th>\n",
       "      <td>000a4bcdd.jpg</td>\n",
       "      <td>1</td>\n",
       "      <td>37607 3 37858 8 38108 14 38359 20 38610 25 388...</td>\n",
       "    </tr>\n",
       "    <tr>\n",
       "      <th>3</th>\n",
       "      <td>000f6bf48.jpg</td>\n",
       "      <td>4</td>\n",
       "      <td>131973 1 132228 4 132483 6 132738 8 132993 11 ...</td>\n",
       "    </tr>\n",
       "    <tr>\n",
       "      <th>4</th>\n",
       "      <td>0014fce06.jpg</td>\n",
       "      <td>3</td>\n",
       "      <td>229501 11 229741 33 229981 55 230221 77 230468...</td>\n",
       "    </tr>\n",
       "  </tbody>\n",
       "</table>\n",
       "</div>"
      ],
      "text/plain": [
       "         ImageId  ClassId                                      EncodedPixels\n",
       "0  0002cc93b.jpg        1  29102 12 29346 24 29602 24 29858 24 30114 24 3...\n",
       "1  0007a71bf.jpg        3  18661 28 18863 82 19091 110 19347 110 19603 11...\n",
       "2  000a4bcdd.jpg        1  37607 3 37858 8 38108 14 38359 20 38610 25 388...\n",
       "3  000f6bf48.jpg        4  131973 1 132228 4 132483 6 132738 8 132993 11 ...\n",
       "4  0014fce06.jpg        3  229501 11 229741 33 229981 55 230221 77 230468..."
      ]
     },
     "execution_count": 7,
     "metadata": {},
     "output_type": "execute_result"
    }
   ],
   "source": [
    "SevDB.head()"
   ]
  },
  {
   "cell_type": "markdown",
   "metadata": {},
   "source": [
    "## create new db"
   ]
  },
  {
   "cell_type": "code",
   "execution_count": 8,
   "metadata": {},
   "outputs": [],
   "source": [
    "filenames = []\n",
    "for (dirpath,dirnames,filenames) in walk(pathImagesOut):\n",
    "    filenames.extend(filenames)"
   ]
  },
  {
   "cell_type": "code",
   "execution_count": 9,
   "metadata": {},
   "outputs": [],
   "source": [
    "filenames = [Path(el).name for el in filenames]"
   ]
  },
  {
   "cell_type": "code",
   "execution_count": 10,
   "metadata": {},
   "outputs": [
    {
     "data": {
      "text/plain": [
       "['0002cc93b_0.jpg',\n",
       " '0002cc93b_1.jpg',\n",
       " '0002cc93b_2.jpg',\n",
       " '0002cc93b_3.jpg',\n",
       " '0002cc93b_4.jpg',\n",
       " '0002cc93b_5.jpg',\n",
       " '0002cc93b_6.jpg',\n",
       " '0002cc93b_7.jpg',\n",
       " '0002cc93b_8.jpg',\n",
       " '0002cc93b_9.jpg',\n",
       " '0007a71bf_0.jpg',\n",
       " '0007a71bf_1.jpg',\n",
       " '0007a71bf_2.jpg',\n",
       " '0007a71bf_3.jpg',\n",
       " '0007a71bf_4.jpg',\n",
       " '0007a71bf_5.jpg',\n",
       " '0007a71bf_6.jpg',\n",
       " '0007a71bf_7.jpg',\n",
       " '0007a71bf_8.jpg',\n",
       " '0007a71bf_9.jpg',\n",
       " '000a4bcdd_0.jpg',\n",
       " '000a4bcdd_1.jpg',\n",
       " '000a4bcdd_2.jpg',\n",
       " '000a4bcdd_3.jpg',\n",
       " '000a4bcdd_4.jpg',\n",
       " '000a4bcdd_5.jpg',\n",
       " '000a4bcdd_6.jpg',\n",
       " '000a4bcdd_7.jpg',\n",
       " '000a4bcdd_8.jpg',\n",
       " '000a4bcdd_9.jpg',\n",
       " '000f6bf48_0.jpg',\n",
       " '000f6bf48_1.jpg',\n",
       " '000f6bf48_2.jpg',\n",
       " '000f6bf48_3.jpg',\n",
       " '000f6bf48_4.jpg',\n",
       " '000f6bf48_5.jpg',\n",
       " '000f6bf48_6.jpg',\n",
       " '000f6bf48_7.jpg',\n",
       " '000f6bf48_8.jpg',\n",
       " '000f6bf48_9.jpg',\n",
       " '0014fce06_0.jpg',\n",
       " '0014fce06_1.jpg',\n",
       " '0014fce06_2.jpg',\n",
       " '0014fce06_3.jpg',\n",
       " '0014fce06_4.jpg',\n",
       " '0014fce06_5.jpg',\n",
       " '0014fce06_6.jpg',\n",
       " '0014fce06_7.jpg',\n",
       " '0014fce06_8.jpg',\n",
       " '0014fce06_9.jpg',\n",
       " '0025bde0c_0.jpg',\n",
       " '0025bde0c_1.jpg',\n",
       " '0025bde0c_2.jpg',\n",
       " '0025bde0c_3.jpg',\n",
       " '0025bde0c_4.jpg',\n",
       " '0025bde0c_5.jpg',\n",
       " '0025bde0c_6.jpg',\n",
       " '0025bde0c_7.jpg',\n",
       " '0025bde0c_8.jpg',\n",
       " '0025bde0c_9.jpg',\n",
       " '002af848d_0.jpg',\n",
       " '002af848d_1.jpg',\n",
       " '002af848d_2.jpg',\n",
       " '002af848d_3.jpg',\n",
       " '002af848d_4.jpg',\n",
       " '002af848d_5.jpg',\n",
       " '002af848d_6.jpg',\n",
       " '002af848d_7.jpg',\n",
       " '002af848d_8.jpg',\n",
       " '002af848d_9.jpg',\n",
       " '002fc4e19_0.jpg',\n",
       " '002fc4e19_1.jpg',\n",
       " '002fc4e19_2.jpg',\n",
       " '002fc4e19_3.jpg',\n",
       " '002fc4e19_4.jpg',\n",
       " '002fc4e19_5.jpg',\n",
       " '002fc4e19_6.jpg',\n",
       " '002fc4e19_7.jpg',\n",
       " '002fc4e19_8.jpg',\n",
       " '002fc4e19_9.jpg',\n",
       " '0030401a5_0.jpg',\n",
       " '0030401a5_1.jpg',\n",
       " '0030401a5_2.jpg',\n",
       " '0030401a5_3.jpg',\n",
       " '0030401a5_4.jpg',\n",
       " '0030401a5_5.jpg',\n",
       " '0030401a5_6.jpg',\n",
       " '0030401a5_7.jpg',\n",
       " '0030401a5_8.jpg',\n",
       " '0030401a5_9.jpg',\n",
       " '0046839bd_0.jpg',\n",
       " '0046839bd_1.jpg',\n",
       " '0046839bd_2.jpg',\n",
       " '0046839bd_3.jpg',\n",
       " '0046839bd_4.jpg',\n",
       " '0046839bd_5.jpg',\n",
       " '0046839bd_6.jpg',\n",
       " '0046839bd_7.jpg',\n",
       " '0046839bd_8.jpg',\n",
       " '0046839bd_9.jpg',\n",
       " '005d86c25_0.jpg',\n",
       " '005d86c25_1.jpg',\n",
       " '005d86c25_2.jpg',\n",
       " '005d86c25_3.jpg',\n",
       " '005d86c25_4.jpg',\n",
       " '005d86c25_5.jpg',\n",
       " '005d86c25_6.jpg',\n",
       " '005d86c25_7.jpg',\n",
       " '005d86c25_8.jpg',\n",
       " '005d86c25_9.jpg',\n",
       " '005f02e20_0.jpg',\n",
       " '005f02e20_1.jpg',\n",
       " '005f02e20_2.jpg',\n",
       " '005f02e20_3.jpg',\n",
       " '005f02e20_4.jpg',\n",
       " '005f02e20_5.jpg',\n",
       " '005f02e20_6.jpg',\n",
       " '005f02e20_7.jpg',\n",
       " '005f02e20_8.jpg',\n",
       " '005f02e20_9.jpg',\n",
       " '005f19695_0.jpg',\n",
       " '005f19695_1.jpg',\n",
       " '005f19695_2.jpg',\n",
       " '005f19695_3.jpg',\n",
       " '005f19695_4.jpg',\n",
       " '005f19695_5.jpg',\n",
       " '005f19695_6.jpg',\n",
       " '005f19695_7.jpg',\n",
       " '005f19695_8.jpg',\n",
       " '005f19695_9.jpg',\n",
       " '008621629_0.jpg',\n",
       " '008621629_1.jpg',\n",
       " '008621629_2.jpg',\n",
       " '008621629_3.jpg',\n",
       " '008621629_4.jpg',\n",
       " '008621629_5.jpg',\n",
       " '008621629_6.jpg',\n",
       " '008621629_7.jpg',\n",
       " '008621629_8.jpg',\n",
       " '008621629_9.jpg',\n",
       " '0088260da_0.jpg',\n",
       " '0088260da_1.jpg',\n",
       " '0088260da_2.jpg',\n",
       " '0088260da_3.jpg',\n",
       " '0088260da_4.jpg',\n",
       " '0088260da_5.jpg',\n",
       " '0088260da_6.jpg',\n",
       " '0088260da_7.jpg',\n",
       " '0088260da_8.jpg',\n",
       " '0088260da_9.jpg',\n",
       " '008d0f87b_0.jpg',\n",
       " '008d0f87b_1.jpg',\n",
       " '008d0f87b_2.jpg',\n",
       " '008d0f87b_3.jpg',\n",
       " '008d0f87b_4.jpg',\n",
       " '008d0f87b_5.jpg',\n",
       " '008d0f87b_6.jpg',\n",
       " '008d0f87b_7.jpg',\n",
       " '008d0f87b_8.jpg',\n",
       " '008d0f87b_9.jpg',\n",
       " '008ef3d74_0.jpg',\n",
       " '008ef3d74_1.jpg',\n",
       " '008ef3d74_2.jpg',\n",
       " '008ef3d74_3.jpg',\n",
       " '008ef3d74_4.jpg',\n",
       " '008ef3d74_5.jpg',\n",
       " '008ef3d74_6.jpg',\n",
       " '008ef3d74_7.jpg',\n",
       " '008ef3d74_8.jpg',\n",
       " '008ef3d74_9.jpg',\n",
       " '0095cd374_0.jpg',\n",
       " '0095cd374_1.jpg',\n",
       " '0095cd374_2.jpg',\n",
       " '0095cd374_3.jpg',\n",
       " '0095cd374_4.jpg',\n",
       " '0095cd374_5.jpg',\n",
       " '0095cd374_6.jpg',\n",
       " '0095cd374_7.jpg',\n",
       " '0095cd374_8.jpg',\n",
       " '0095cd374_9.jpg',\n",
       " '00ac8372f_0.jpg',\n",
       " '00ac8372f_1.jpg',\n",
       " '00ac8372f_2.jpg',\n",
       " '00ac8372f_3.jpg',\n",
       " '00ac8372f_4.jpg',\n",
       " '00ac8372f_5.jpg',\n",
       " '00ac8372f_6.jpg',\n",
       " '00ac8372f_7.jpg',\n",
       " '00ac8372f_8.jpg',\n",
       " '00ac8372f_9.jpg',\n",
       " '00af2671f_0.jpg',\n",
       " '00af2671f_1.jpg',\n",
       " '00af2671f_2.jpg',\n",
       " '00af2671f_3.jpg',\n",
       " '00af2671f_4.jpg',\n",
       " '00af2671f_5.jpg',\n",
       " '00af2671f_6.jpg',\n",
       " '00af2671f_7.jpg',\n",
       " '00af2671f_8.jpg',\n",
       " '00af2671f_9.jpg',\n",
       " '00bc01bfe_0.jpg',\n",
       " '00bc01bfe_1.jpg',\n",
       " '00bc01bfe_2.jpg',\n",
       " '00bc01bfe_3.jpg',\n",
       " '00bc01bfe_4.jpg',\n",
       " '00bc01bfe_5.jpg',\n",
       " '00bc01bfe_6.jpg',\n",
       " '00bc01bfe_7.jpg',\n",
       " '00bc01bfe_8.jpg',\n",
       " '00bc01bfe_9.jpg',\n",
       " '00bf8497a_0.jpg',\n",
       " '00bf8497a_1.jpg',\n",
       " '00bf8497a_2.jpg',\n",
       " '00bf8497a_3.jpg',\n",
       " '00bf8497a_4.jpg',\n",
       " '00bf8497a_5.jpg',\n",
       " '00bf8497a_6.jpg',\n",
       " '00bf8497a_7.jpg',\n",
       " '00bf8497a_8.jpg',\n",
       " '00bf8497a_9.jpg',\n",
       " '00c88fed0_0.jpg',\n",
       " '00c88fed0_1.jpg',\n",
       " '00c88fed0_2.jpg',\n",
       " '00c88fed0_3.jpg',\n",
       " '00c88fed0_4.jpg',\n",
       " '00c88fed0_5.jpg',\n",
       " '00c88fed0_6.jpg',\n",
       " '00c88fed0_7.jpg',\n",
       " '00c88fed0_8.jpg',\n",
       " '00c88fed0_9.jpg',\n",
       " '00cdb56a0_0.jpg',\n",
       " '00cdb56a0_1.jpg',\n",
       " '00cdb56a0_2.jpg',\n",
       " '00cdb56a0_3.jpg',\n",
       " '00cdb56a0_4.jpg',\n",
       " '00cdb56a0_5.jpg',\n",
       " '00cdb56a0_6.jpg',\n",
       " '00cdb56a0_7.jpg',\n",
       " '00cdb56a0_8.jpg',\n",
       " '00cdb56a0_9.jpg',\n",
       " '00d639396_0.jpg',\n",
       " '00d639396_1.jpg',\n",
       " '00d639396_2.jpg',\n",
       " '00d639396_3.jpg',\n",
       " '00d639396_4.jpg',\n",
       " '00d639396_5.jpg',\n",
       " '00d639396_6.jpg',\n",
       " '00d639396_7.jpg',\n",
       " '00d639396_8.jpg',\n",
       " '00d639396_9.jpg',\n",
       " '00e0398ad_0.jpg',\n",
       " '00e0398ad_1.jpg',\n",
       " '00e0398ad_2.jpg',\n",
       " '00e0398ad_3.jpg',\n",
       " '00e0398ad_4.jpg',\n",
       " '00e0398ad_5.jpg',\n",
       " '00e0398ad_6.jpg',\n",
       " '00e0398ad_7.jpg',\n",
       " '00e0398ad_8.jpg',\n",
       " '00e0398ad_9.jpg',\n",
       " '00ec97699_0.jpg',\n",
       " '00ec97699_1.jpg',\n",
       " '00ec97699_2.jpg',\n",
       " '00ec97699_3.jpg',\n",
       " '00ec97699_4.jpg',\n",
       " '00ec97699_5.jpg',\n",
       " '00ec97699_6.jpg',\n",
       " '00ec97699_7.jpg',\n",
       " '00ec97699_8.jpg',\n",
       " '00ec97699_9.jpg',\n",
       " '00f1665e6_0.jpg',\n",
       " '00f1665e6_1.jpg',\n",
       " '00f1665e6_2.jpg',\n",
       " '00f1665e6_3.jpg',\n",
       " '00f1665e6_4.jpg',\n",
       " '00f1665e6_5.jpg',\n",
       " '00f1665e6_6.jpg',\n",
       " '00f1665e6_7.jpg',\n",
       " '00f1665e6_8.jpg',\n",
       " '00f1665e6_9.jpg',\n",
       " '00f6e702c_0.jpg',\n",
       " '00f6e702c_1.jpg',\n",
       " '00f6e702c_2.jpg',\n",
       " '00f6e702c_3.jpg',\n",
       " '00f6e702c_4.jpg',\n",
       " '00f6e702c_5.jpg',\n",
       " '00f6e702c_6.jpg',\n",
       " '00f6e702c_7.jpg',\n",
       " '00f6e702c_8.jpg',\n",
       " '00f6e702c_9.jpg',\n",
       " '01053d28f_0.jpg',\n",
       " '01053d28f_1.jpg',\n",
       " '01053d28f_2.jpg',\n",
       " '01053d28f_3.jpg',\n",
       " '01053d28f_4.jpg',\n",
       " '01053d28f_5.jpg',\n",
       " '01053d28f_6.jpg',\n",
       " '01053d28f_7.jpg',\n",
       " '01053d28f_8.jpg',\n",
       " '01053d28f_9.jpg',\n",
       " '010db68d1_0.jpg',\n",
       " '010db68d1_1.jpg',\n",
       " '010db68d1_2.jpg',\n",
       " '010db68d1_3.jpg',\n",
       " '010db68d1_4.jpg',\n",
       " '010db68d1_5.jpg',\n",
       " '010db68d1_6.jpg',\n",
       " '010db68d1_7.jpg',\n",
       " '010db68d1_8.jpg',\n",
       " '010db68d1_9.jpg',\n",
       " '012a9a4c7_0.jpg',\n",
       " '012a9a4c7_1.jpg',\n",
       " '012a9a4c7_2.jpg',\n",
       " '012a9a4c7_3.jpg',\n",
       " '012a9a4c7_4.jpg',\n",
       " '012a9a4c7_5.jpg',\n",
       " '012a9a4c7_6.jpg',\n",
       " '012a9a4c7_7.jpg',\n",
       " '012a9a4c7_8.jpg',\n",
       " '012a9a4c7_9.jpg',\n",
       " '012d29df4_0.jpg',\n",
       " '012d29df4_1.jpg',\n",
       " '012d29df4_2.jpg',\n",
       " '012d29df4_3.jpg',\n",
       " '012d29df4_4.jpg',\n",
       " '012d29df4_5.jpg',\n",
       " '012d29df4_6.jpg',\n",
       " '012d29df4_7.jpg',\n",
       " '012d29df4_8.jpg',\n",
       " '012d29df4_9.jpg',\n",
       " '012f26693_0.jpg',\n",
       " '012f26693_1.jpg',\n",
       " '012f26693_2.jpg',\n",
       " '012f26693_3.jpg',\n",
       " '012f26693_4.jpg',\n",
       " '012f26693_5.jpg',\n",
       " '012f26693_6.jpg',\n",
       " '012f26693_7.jpg',\n",
       " '012f26693_8.jpg',\n",
       " '012f26693_9.jpg',\n",
       " '01338c0ea_0.jpg',\n",
       " '01338c0ea_1.jpg',\n",
       " '01338c0ea_2.jpg',\n",
       " '01338c0ea_3.jpg',\n",
       " '01338c0ea_4.jpg',\n",
       " '01338c0ea_5.jpg',\n",
       " '01338c0ea_6.jpg',\n",
       " '01338c0ea_7.jpg',\n",
       " '01338c0ea_8.jpg',\n",
       " '01338c0ea_9.jpg',\n",
       " '0139dd004_0.jpg',\n",
       " '0139dd004_1.jpg',\n",
       " '0139dd004_2.jpg',\n",
       " '0139dd004_3.jpg',\n",
       " '0139dd004_4.jpg',\n",
       " '0139dd004_5.jpg',\n",
       " '0139dd004_6.jpg',\n",
       " '0139dd004_7.jpg',\n",
       " '0139dd004_8.jpg',\n",
       " '0139dd004_9.jpg',\n",
       " '0141c9bf3_0.jpg',\n",
       " '0141c9bf3_1.jpg',\n",
       " '0141c9bf3_2.jpg',\n",
       " '0141c9bf3_3.jpg',\n",
       " '0141c9bf3_4.jpg',\n",
       " '0141c9bf3_5.jpg',\n",
       " '0141c9bf3_6.jpg',\n",
       " '0141c9bf3_7.jpg',\n",
       " '0141c9bf3_8.jpg',\n",
       " '0141c9bf3_9.jpg',\n",
       " '0148e9891_0.jpg',\n",
       " '0148e9891_1.jpg',\n",
       " '0148e9891_2.jpg',\n",
       " '0148e9891_3.jpg',\n",
       " '0148e9891_4.jpg',\n",
       " '0148e9891_5.jpg',\n",
       " '0148e9891_6.jpg',\n",
       " '0148e9891_7.jpg',\n",
       " '0148e9891_8.jpg',\n",
       " '0148e9891_9.jpg',\n",
       " '014ebe543_0.jpg',\n",
       " '014ebe543_1.jpg',\n",
       " '014ebe543_2.jpg',\n",
       " '014ebe543_3.jpg',\n",
       " '014ebe543_4.jpg',\n",
       " '014ebe543_5.jpg',\n",
       " '014ebe543_6.jpg',\n",
       " '014ebe543_7.jpg',\n",
       " '014ebe543_8.jpg',\n",
       " '014ebe543_9.jpg',\n",
       " '01540cab1_0.jpg',\n",
       " '01540cab1_1.jpg',\n",
       " '01540cab1_2.jpg',\n",
       " '01540cab1_3.jpg',\n",
       " '01540cab1_4.jpg',\n",
       " '01540cab1_5.jpg',\n",
       " '01540cab1_6.jpg',\n",
       " '01540cab1_7.jpg',\n",
       " '01540cab1_8.jpg',\n",
       " '01540cab1_9.jpg',\n",
       " '01661826d_0.jpg',\n",
       " '01661826d_1.jpg',\n",
       " '01661826d_2.jpg',\n",
       " '01661826d_3.jpg',\n",
       " '01661826d_4.jpg',\n",
       " '01661826d_5.jpg',\n",
       " '01661826d_6.jpg',\n",
       " '01661826d_7.jpg',\n",
       " '01661826d_8.jpg',\n",
       " '01661826d_9.jpg',\n",
       " '0167a740e_0.jpg',\n",
       " '0167a740e_1.jpg',\n",
       " '0167a740e_2.jpg',\n",
       " '0167a740e_3.jpg',\n",
       " '0167a740e_4.jpg',\n",
       " '0167a740e_5.jpg',\n",
       " '0167a740e_6.jpg',\n",
       " '0167a740e_7.jpg',\n",
       " '0167a740e_8.jpg',\n",
       " '0167a740e_9.jpg',\n",
       " '016af13d0_0.jpg',\n",
       " '016af13d0_1.jpg',\n",
       " '016af13d0_2.jpg',\n",
       " '016af13d0_3.jpg',\n",
       " '016af13d0_4.jpg',\n",
       " '016af13d0_5.jpg',\n",
       " '016af13d0_6.jpg',\n",
       " '016af13d0_7.jpg',\n",
       " '016af13d0_8.jpg',\n",
       " '016af13d0_9.jpg',\n",
       " '016efe618_0.jpg',\n",
       " '016efe618_1.jpg',\n",
       " '016efe618_2.jpg',\n",
       " '016efe618_3.jpg',\n",
       " '016efe618_4.jpg',\n",
       " '016efe618_5.jpg',\n",
       " '016efe618_6.jpg',\n",
       " '016efe618_7.jpg',\n",
       " '016efe618_8.jpg',\n",
       " '016efe618_9.jpg',\n",
       " '01764ee81_0.jpg',\n",
       " '01764ee81_1.jpg',\n",
       " '01764ee81_2.jpg',\n",
       " '01764ee81_3.jpg',\n",
       " '01764ee81_4.jpg',\n",
       " '01764ee81_5.jpg',\n",
       " '01764ee81_6.jpg',\n",
       " '01764ee81_7.jpg',\n",
       " '01764ee81_8.jpg',\n",
       " '01764ee81_9.jpg',\n",
       " '017c828a1_0.jpg',\n",
       " '017c828a1_1.jpg',\n",
       " '017c828a1_2.jpg',\n",
       " '017c828a1_3.jpg',\n",
       " '017c828a1_4.jpg',\n",
       " '017c828a1_5.jpg',\n",
       " '017c828a1_6.jpg',\n",
       " '017c828a1_7.jpg',\n",
       " '017c828a1_8.jpg',\n",
       " '017c828a1_9.jpg',\n",
       " '018ccdfed_0.jpg',\n",
       " '018ccdfed_1.jpg',\n",
       " '018ccdfed_2.jpg',\n",
       " '018ccdfed_3.jpg',\n",
       " '018ccdfed_4.jpg',\n",
       " '018ccdfed_5.jpg',\n",
       " '018ccdfed_6.jpg',\n",
       " '018ccdfed_7.jpg',\n",
       " '018ccdfed_8.jpg',\n",
       " '018ccdfed_9.jpg',\n",
       " '01919944c_0.jpg',\n",
       " '01919944c_1.jpg',\n",
       " '01919944c_2.jpg',\n",
       " '01919944c_3.jpg',\n",
       " '01919944c_4.jpg',\n",
       " '01919944c_5.jpg',\n",
       " '01919944c_6.jpg',\n",
       " '01919944c_7.jpg',\n",
       " '01919944c_8.jpg',\n",
       " '01919944c_9.jpg',\n",
       " '019f42c2a_0.jpg',\n",
       " '019f42c2a_1.jpg',\n",
       " '019f42c2a_2.jpg',\n",
       " '019f42c2a_3.jpg',\n",
       " '019f42c2a_4.jpg',\n",
       " '019f42c2a_5.jpg',\n",
       " '019f42c2a_6.jpg',\n",
       " '019f42c2a_7.jpg',\n",
       " '019f42c2a_8.jpg',\n",
       " '019f42c2a_9.jpg',\n",
       " '01a1027ce_0.jpg',\n",
       " '01a1027ce_1.jpg',\n",
       " '01a1027ce_2.jpg',\n",
       " '01a1027ce_3.jpg',\n",
       " '01a1027ce_4.jpg',\n",
       " '01a1027ce_5.jpg',\n",
       " '01a1027ce_6.jpg',\n",
       " '01a1027ce_7.jpg',\n",
       " '01a1027ce_8.jpg',\n",
       " '01a1027ce_9.jpg',\n",
       " '01afbfa7a_0.jpg',\n",
       " '01afbfa7a_1.jpg',\n",
       " '01afbfa7a_2.jpg',\n",
       " '01afbfa7a_3.jpg',\n",
       " '01afbfa7a_4.jpg',\n",
       " '01afbfa7a_5.jpg',\n",
       " '01afbfa7a_6.jpg',\n",
       " '01afbfa7a_7.jpg',\n",
       " '01afbfa7a_8.jpg',\n",
       " '01afbfa7a_9.jpg',\n",
       " '01b043500_0.jpg',\n",
       " '01b043500_1.jpg',\n",
       " '01b043500_2.jpg',\n",
       " '01b043500_3.jpg',\n",
       " '01b043500_4.jpg',\n",
       " '01b043500_5.jpg',\n",
       " '01b043500_6.jpg',\n",
       " '01b043500_7.jpg',\n",
       " '01b043500_8.jpg',\n",
       " '01b043500_9.jpg',\n",
       " '01b492dd6_0.jpg',\n",
       " '01b492dd6_1.jpg',\n",
       " '01b492dd6_2.jpg',\n",
       " '01b492dd6_3.jpg',\n",
       " '01b492dd6_4.jpg',\n",
       " '01b492dd6_5.jpg',\n",
       " '01b492dd6_6.jpg',\n",
       " '01b492dd6_7.jpg',\n",
       " '01b492dd6_8.jpg',\n",
       " '01b492dd6_9.jpg',\n",
       " '01c3ef286_0.jpg',\n",
       " '01c3ef286_1.jpg',\n",
       " '01c3ef286_2.jpg',\n",
       " '01c3ef286_3.jpg',\n",
       " '01c3ef286_4.jpg',\n",
       " '01c3ef286_5.jpg',\n",
       " '01c3ef286_6.jpg',\n",
       " '01c3ef286_7.jpg',\n",
       " '01c3ef286_8.jpg',\n",
       " '01c3ef286_9.jpg',\n",
       " '01cf446d4_0.jpg',\n",
       " '01cf446d4_1.jpg',\n",
       " '01cf446d4_2.jpg',\n",
       " '01cf446d4_3.jpg',\n",
       " '01cf446d4_4.jpg',\n",
       " '01cf446d4_5.jpg',\n",
       " '01cf446d4_6.jpg',\n",
       " '01cf446d4_7.jpg',\n",
       " '01cf446d4_8.jpg',\n",
       " '01cf446d4_9.jpg',\n",
       " '01cfacf80_0.jpg',\n",
       " '01cfacf80_1.jpg',\n",
       " '01cfacf80_2.jpg',\n",
       " '01cfacf80_3.jpg',\n",
       " '01cfacf80_4.jpg',\n",
       " '01cfacf80_5.jpg',\n",
       " '01cfacf80_6.jpg',\n",
       " '01cfacf80_7.jpg',\n",
       " '01cfacf80_8.jpg',\n",
       " '01cfacf80_9.jpg',\n",
       " '01df77e59_0.jpg',\n",
       " '01df77e59_1.jpg',\n",
       " '01df77e59_2.jpg',\n",
       " '01df77e59_3.jpg',\n",
       " '01df77e59_4.jpg',\n",
       " '01df77e59_5.jpg',\n",
       " '01df77e59_6.jpg',\n",
       " '01df77e59_7.jpg',\n",
       " '01df77e59_8.jpg',\n",
       " '01df77e59_9.jpg',\n",
       " '01e020dc5_0.jpg',\n",
       " '01e020dc5_1.jpg',\n",
       " '01e020dc5_2.jpg',\n",
       " '01e020dc5_3.jpg',\n",
       " '01e020dc5_4.jpg',\n",
       " '01e020dc5_5.jpg',\n",
       " '01e020dc5_6.jpg',\n",
       " '01e020dc5_7.jpg',\n",
       " '01e020dc5_8.jpg',\n",
       " '01e020dc5_9.jpg',\n",
       " '01ebe0d32_0.jpg',\n",
       " '01ebe0d32_1.jpg',\n",
       " '01ebe0d32_2.jpg',\n",
       " '01ebe0d32_3.jpg',\n",
       " '01ebe0d32_4.jpg',\n",
       " '01ebe0d32_5.jpg',\n",
       " '01ebe0d32_6.jpg',\n",
       " '01ebe0d32_7.jpg',\n",
       " '01ebe0d32_8.jpg',\n",
       " '01ebe0d32_9.jpg',\n",
       " '01fd320c9_0.jpg',\n",
       " '01fd320c9_1.jpg',\n",
       " '01fd320c9_2.jpg',\n",
       " '01fd320c9_3.jpg',\n",
       " '01fd320c9_4.jpg',\n",
       " '01fd320c9_5.jpg',\n",
       " '01fd320c9_6.jpg',\n",
       " '01fd320c9_7.jpg',\n",
       " '01fd320c9_8.jpg',\n",
       " '01fd320c9_9.jpg',\n",
       " '01fd50e68_0.jpg',\n",
       " '01fd50e68_1.jpg',\n",
       " '01fd50e68_2.jpg',\n",
       " '01fd50e68_3.jpg',\n",
       " '01fd50e68_4.jpg',\n",
       " '01fd50e68_5.jpg',\n",
       " '01fd50e68_6.jpg',\n",
       " '01fd50e68_7.jpg',\n",
       " '01fd50e68_8.jpg',\n",
       " '01fd50e68_9.jpg',\n",
       " '020ff3106_0.jpg',\n",
       " '020ff3106_1.jpg',\n",
       " '020ff3106_2.jpg',\n",
       " '020ff3106_3.jpg',\n",
       " '020ff3106_4.jpg',\n",
       " '020ff3106_5.jpg',\n",
       " '020ff3106_6.jpg',\n",
       " '020ff3106_7.jpg',\n",
       " '020ff3106_8.jpg',\n",
       " '020ff3106_9.jpg',\n",
       " '0217af9b1_0.jpg',\n",
       " '0217af9b1_1.jpg',\n",
       " '0217af9b1_2.jpg',\n",
       " '0217af9b1_3.jpg',\n",
       " '0217af9b1_4.jpg',\n",
       " '0217af9b1_5.jpg',\n",
       " '0217af9b1_6.jpg',\n",
       " '0217af9b1_7.jpg',\n",
       " '0217af9b1_8.jpg',\n",
       " '0217af9b1_9.jpg',\n",
       " '0218c0fcc_0.jpg',\n",
       " '0218c0fcc_1.jpg',\n",
       " '0218c0fcc_2.jpg',\n",
       " '0218c0fcc_3.jpg',\n",
       " '0218c0fcc_4.jpg',\n",
       " '0218c0fcc_5.jpg',\n",
       " '0218c0fcc_6.jpg',\n",
       " '0218c0fcc_7.jpg',\n",
       " '0218c0fcc_8.jpg',\n",
       " '0218c0fcc_9.jpg',\n",
       " '02291e913_0.jpg',\n",
       " '02291e913_1.jpg',\n",
       " '02291e913_2.jpg',\n",
       " '02291e913_3.jpg',\n",
       " '02291e913_4.jpg',\n",
       " '02291e913_5.jpg',\n",
       " '02291e913_6.jpg',\n",
       " '02291e913_7.jpg',\n",
       " '02291e913_8.jpg',\n",
       " '02291e913_9.jpg',\n",
       " '02431211b_0.jpg',\n",
       " '02431211b_1.jpg',\n",
       " '02431211b_2.jpg',\n",
       " '02431211b_3.jpg',\n",
       " '02431211b_4.jpg',\n",
       " '02431211b_5.jpg',\n",
       " '02431211b_6.jpg',\n",
       " '02431211b_7.jpg',\n",
       " '02431211b_8.jpg',\n",
       " '02431211b_9.jpg',\n",
       " '025cb9f6e_0.jpg',\n",
       " '025cb9f6e_1.jpg',\n",
       " '025cb9f6e_2.jpg',\n",
       " '025cb9f6e_3.jpg',\n",
       " '025cb9f6e_4.jpg',\n",
       " '025cb9f6e_5.jpg',\n",
       " '025cb9f6e_6.jpg',\n",
       " '025cb9f6e_7.jpg',\n",
       " '025cb9f6e_8.jpg',\n",
       " '025cb9f6e_9.jpg',\n",
       " '025dc8dc8_0.jpg',\n",
       " '025dc8dc8_1.jpg',\n",
       " '025dc8dc8_2.jpg',\n",
       " '025dc8dc8_3.jpg',\n",
       " '025dc8dc8_4.jpg',\n",
       " '025dc8dc8_5.jpg',\n",
       " '025dc8dc8_6.jpg',\n",
       " '025dc8dc8_7.jpg',\n",
       " '025dc8dc8_8.jpg',\n",
       " '025dc8dc8_9.jpg',\n",
       " '026183d85_0.jpg',\n",
       " '026183d85_1.jpg',\n",
       " '026183d85_2.jpg',\n",
       " '026183d85_3.jpg',\n",
       " '026183d85_4.jpg',\n",
       " '026183d85_5.jpg',\n",
       " '026183d85_6.jpg',\n",
       " '026183d85_7.jpg',\n",
       " '026183d85_8.jpg',\n",
       " '026183d85_9.jpg',\n",
       " '02701c239_0.jpg',\n",
       " '02701c239_1.jpg',\n",
       " '02701c239_2.jpg',\n",
       " '02701c239_3.jpg',\n",
       " '02701c239_4.jpg',\n",
       " '02701c239_5.jpg',\n",
       " '02701c239_6.jpg',\n",
       " '02701c239_7.jpg',\n",
       " '02701c239_8.jpg',\n",
       " '02701c239_9.jpg',\n",
       " '0281aba7b_0.jpg',\n",
       " '0281aba7b_1.jpg',\n",
       " '0281aba7b_2.jpg',\n",
       " '0281aba7b_3.jpg',\n",
       " '0281aba7b_4.jpg',\n",
       " '0281aba7b_5.jpg',\n",
       " '0281aba7b_6.jpg',\n",
       " '0281aba7b_7.jpg',\n",
       " '0281aba7b_8.jpg',\n",
       " '0281aba7b_9.jpg',\n",
       " '028eb44d1_0.jpg',\n",
       " '028eb44d1_1.jpg',\n",
       " '028eb44d1_2.jpg',\n",
       " '028eb44d1_3.jpg',\n",
       " '028eb44d1_4.jpg',\n",
       " '028eb44d1_5.jpg',\n",
       " '028eb44d1_6.jpg',\n",
       " '028eb44d1_7.jpg',\n",
       " '028eb44d1_8.jpg',\n",
       " '028eb44d1_9.jpg',\n",
       " '028ed7768_0.jpg',\n",
       " '028ed7768_1.jpg',\n",
       " '028ed7768_2.jpg',\n",
       " '028ed7768_3.jpg',\n",
       " '028ed7768_4.jpg',\n",
       " '028ed7768_5.jpg',\n",
       " '028ed7768_6.jpg',\n",
       " '028ed7768_7.jpg',\n",
       " '028ed7768_8.jpg',\n",
       " '028ed7768_9.jpg',\n",
       " '0294f23c0_0.jpg',\n",
       " '0294f23c0_1.jpg',\n",
       " '0294f23c0_2.jpg',\n",
       " '0294f23c0_3.jpg',\n",
       " '0294f23c0_4.jpg',\n",
       " '0294f23c0_5.jpg',\n",
       " '0294f23c0_6.jpg',\n",
       " '0294f23c0_7.jpg',\n",
       " '0294f23c0_8.jpg',\n",
       " '0294f23c0_9.jpg',\n",
       " '02b2d3aa4_0.jpg',\n",
       " '02b2d3aa4_1.jpg',\n",
       " '02b2d3aa4_2.jpg',\n",
       " '02b2d3aa4_3.jpg',\n",
       " '02b2d3aa4_4.jpg',\n",
       " '02b2d3aa4_5.jpg',\n",
       " '02b2d3aa4_6.jpg',\n",
       " '02b2d3aa4_7.jpg',\n",
       " '02b2d3aa4_8.jpg',\n",
       " '02b2d3aa4_9.jpg',\n",
       " '02b906933_0.jpg',\n",
       " '02b906933_1.jpg',\n",
       " '02b906933_2.jpg',\n",
       " '02b906933_3.jpg',\n",
       " '02b906933_4.jpg',\n",
       " '02b906933_5.jpg',\n",
       " '02b906933_6.jpg',\n",
       " '02b906933_7.jpg',\n",
       " '02b906933_8.jpg',\n",
       " '02b906933_9.jpg',\n",
       " '02bf279c9_0.jpg',\n",
       " '02bf279c9_1.jpg',\n",
       " '02bf279c9_2.jpg',\n",
       " '02bf279c9_3.jpg',\n",
       " '02bf279c9_4.jpg',\n",
       " '02bf279c9_5.jpg',\n",
       " '02bf279c9_6.jpg',\n",
       " '02bf279c9_7.jpg',\n",
       " '02bf279c9_8.jpg',\n",
       " '02bf279c9_9.jpg',\n",
       " '02c4655ff_0.jpg',\n",
       " '02c4655ff_1.jpg',\n",
       " '02c4655ff_2.jpg',\n",
       " '02c4655ff_3.jpg',\n",
       " '02c4655ff_4.jpg',\n",
       " '02c4655ff_5.jpg',\n",
       " '02c4655ff_6.jpg',\n",
       " '02c4655ff_7.jpg',\n",
       " '02c4655ff_8.jpg',\n",
       " '02c4655ff_9.jpg',\n",
       " '02c79bfcb_0.jpg',\n",
       " '02c79bfcb_1.jpg',\n",
       " '02c79bfcb_2.jpg',\n",
       " '02c79bfcb_3.jpg',\n",
       " '02c79bfcb_4.jpg',\n",
       " '02c79bfcb_5.jpg',\n",
       " '02c79bfcb_6.jpg',\n",
       " '02c79bfcb_7.jpg',\n",
       " '02c79bfcb_8.jpg',\n",
       " '02c79bfcb_9.jpg',\n",
       " '02d18b8a4_0.jpg',\n",
       " '02d18b8a4_1.jpg',\n",
       " '02d18b8a4_2.jpg',\n",
       " '02d18b8a4_3.jpg',\n",
       " '02d18b8a4_4.jpg',\n",
       " '02d18b8a4_5.jpg',\n",
       " '02d18b8a4_6.jpg',\n",
       " '02d18b8a4_7.jpg',\n",
       " '02d18b8a4_8.jpg',\n",
       " '02d18b8a4_9.jpg',\n",
       " '02d573611_0.jpg',\n",
       " '02d573611_1.jpg',\n",
       " '02d573611_2.jpg',\n",
       " '02d573611_3.jpg',\n",
       " '02d573611_4.jpg',\n",
       " '02d573611_5.jpg',\n",
       " '02d573611_6.jpg',\n",
       " '02d573611_7.jpg',\n",
       " '02d573611_8.jpg',\n",
       " '02d573611_9.jpg',\n",
       " '02d8c6b30_0.jpg',\n",
       " '02d8c6b30_1.jpg',\n",
       " '02d8c6b30_2.jpg',\n",
       " '02d8c6b30_3.jpg',\n",
       " '02d8c6b30_4.jpg',\n",
       " '02d8c6b30_5.jpg',\n",
       " '02d8c6b30_6.jpg',\n",
       " '02d8c6b30_7.jpg',\n",
       " '02d8c6b30_8.jpg',\n",
       " '02d8c6b30_9.jpg',\n",
       " '031627893_0.jpg',\n",
       " '031627893_1.jpg',\n",
       " '031627893_2.jpg',\n",
       " '031627893_3.jpg',\n",
       " '031627893_4.jpg',\n",
       " '031627893_5.jpg',\n",
       " '031627893_6.jpg',\n",
       " '031627893_7.jpg',\n",
       " '031627893_8.jpg',\n",
       " '031627893_9.jpg',\n",
       " '031f334ec_0.jpg',\n",
       " '031f334ec_1.jpg',\n",
       " '031f334ec_2.jpg',\n",
       " '031f334ec_3.jpg',\n",
       " '031f334ec_4.jpg',\n",
       " '031f334ec_5.jpg',\n",
       " '031f334ec_6.jpg',\n",
       " '031f334ec_7.jpg',\n",
       " '031f334ec_8.jpg',\n",
       " '031f334ec_9.jpg',\n",
       " '0340e13c4_0.jpg',\n",
       " '0340e13c4_1.jpg',\n",
       " '0340e13c4_2.jpg',\n",
       " '0340e13c4_3.jpg',\n",
       " '0340e13c4_4.jpg',\n",
       " '0340e13c4_5.jpg',\n",
       " '0340e13c4_6.jpg',\n",
       " '0340e13c4_7.jpg',\n",
       " '0340e13c4_8.jpg',\n",
       " '0340e13c4_9.jpg',\n",
       " '03461f8e0_0.jpg',\n",
       " '03461f8e0_1.jpg',\n",
       " '03461f8e0_2.jpg',\n",
       " '03461f8e0_3.jpg',\n",
       " '03461f8e0_4.jpg',\n",
       " '03461f8e0_5.jpg',\n",
       " '03461f8e0_6.jpg',\n",
       " '03461f8e0_7.jpg',\n",
       " '03461f8e0_8.jpg',\n",
       " '03461f8e0_9.jpg',\n",
       " '034941f9d_0.jpg',\n",
       " '034941f9d_1.jpg',\n",
       " '034941f9d_2.jpg',\n",
       " '034941f9d_3.jpg',\n",
       " '034941f9d_4.jpg',\n",
       " '034941f9d_5.jpg',\n",
       " '034941f9d_6.jpg',\n",
       " '034941f9d_7.jpg',\n",
       " '034941f9d_8.jpg',\n",
       " '034941f9d_9.jpg',\n",
       " '035021da2_0.jpg',\n",
       " '035021da2_1.jpg',\n",
       " '035021da2_2.jpg',\n",
       " '035021da2_3.jpg',\n",
       " '035021da2_4.jpg',\n",
       " '035021da2_5.jpg',\n",
       " '035021da2_6.jpg',\n",
       " '035021da2_7.jpg',\n",
       " '035021da2_8.jpg',\n",
       " '035021da2_9.jpg',\n",
       " '0360edfb8_0.jpg',\n",
       " '0360edfb8_1.jpg',\n",
       " '0360edfb8_2.jpg',\n",
       " '0360edfb8_3.jpg',\n",
       " '0360edfb8_4.jpg',\n",
       " '0360edfb8_5.jpg',\n",
       " '0360edfb8_6.jpg',\n",
       " '0360edfb8_7.jpg',\n",
       " '0360edfb8_8.jpg',\n",
       " '0360edfb8_9.jpg',\n",
       " '036c4e5d2_0.jpg',\n",
       " '036c4e5d2_1.jpg',\n",
       " '036c4e5d2_2.jpg',\n",
       " '036c4e5d2_3.jpg',\n",
       " '036c4e5d2_4.jpg',\n",
       " '036c4e5d2_5.jpg',\n",
       " '036c4e5d2_6.jpg',\n",
       " '036c4e5d2_7.jpg',\n",
       " '036c4e5d2_8.jpg',\n",
       " '036c4e5d2_9.jpg',\n",
       " '036c7d18c_0.jpg',\n",
       " '036c7d18c_1.jpg',\n",
       " '036c7d18c_2.jpg',\n",
       " '036c7d18c_3.jpg',\n",
       " '036c7d18c_4.jpg',\n",
       " '036c7d18c_5.jpg',\n",
       " '036c7d18c_6.jpg',\n",
       " '036c7d18c_7.jpg',\n",
       " '036c7d18c_8.jpg',\n",
       " '036c7d18c_9.jpg',\n",
       " '037fca267_0.jpg',\n",
       " '037fca267_1.jpg',\n",
       " '037fca267_2.jpg',\n",
       " '037fca267_3.jpg',\n",
       " '037fca267_4.jpg',\n",
       " '037fca267_5.jpg',\n",
       " '037fca267_6.jpg',\n",
       " '037fca267_7.jpg',\n",
       " '037fca267_8.jpg',\n",
       " '037fca267_9.jpg',\n",
       " '03860f6a9_0.jpg',\n",
       " '03860f6a9_1.jpg',\n",
       " '03860f6a9_2.jpg',\n",
       " '03860f6a9_3.jpg',\n",
       " '03860f6a9_4.jpg',\n",
       " '03860f6a9_5.jpg',\n",
       " '03860f6a9_6.jpg',\n",
       " '03860f6a9_7.jpg',\n",
       " '03860f6a9_8.jpg',\n",
       " '03860f6a9_9.jpg',\n",
       " '0386ce84b_0.jpg',\n",
       " '0386ce84b_1.jpg',\n",
       " '0386ce84b_2.jpg',\n",
       " '0386ce84b_3.jpg',\n",
       " '0386ce84b_4.jpg',\n",
       " '0386ce84b_5.jpg',\n",
       " '0386ce84b_6.jpg',\n",
       " '0386ce84b_7.jpg',\n",
       " '0386ce84b_8.jpg',\n",
       " '0386ce84b_9.jpg',\n",
       " '038f14456_0.jpg',\n",
       " '038f14456_1.jpg',\n",
       " '038f14456_2.jpg',\n",
       " '038f14456_3.jpg',\n",
       " '038f14456_4.jpg',\n",
       " '038f14456_5.jpg',\n",
       " '038f14456_6.jpg',\n",
       " '038f14456_7.jpg',\n",
       " '038f14456_8.jpg',\n",
       " '038f14456_9.jpg',\n",
       " '0391d44d6_0.jpg',\n",
       " '0391d44d6_1.jpg',\n",
       " '0391d44d6_2.jpg',\n",
       " '0391d44d6_3.jpg',\n",
       " '0391d44d6_4.jpg',\n",
       " '0391d44d6_5.jpg',\n",
       " '0391d44d6_6.jpg',\n",
       " '0391d44d6_7.jpg',\n",
       " '0391d44d6_8.jpg',\n",
       " '0391d44d6_9.jpg',\n",
       " '039577d49_0.jpg',\n",
       " '039577d49_1.jpg',\n",
       " '039577d49_2.jpg',\n",
       " '039577d49_3.jpg',\n",
       " '039577d49_4.jpg',\n",
       " '039577d49_5.jpg',\n",
       " '039577d49_6.jpg',\n",
       " '039577d49_7.jpg',\n",
       " '039577d49_8.jpg',\n",
       " '039577d49_9.jpg',\n",
       " '03ab4e3ea_0.jpg',\n",
       " '03ab4e3ea_1.jpg',\n",
       " '03ab4e3ea_2.jpg',\n",
       " '03ab4e3ea_3.jpg',\n",
       " '03ab4e3ea_4.jpg',\n",
       " '03ab4e3ea_5.jpg',\n",
       " '03ab4e3ea_6.jpg',\n",
       " '03ab4e3ea_7.jpg',\n",
       " '03ab4e3ea_8.jpg',\n",
       " '03ab4e3ea_9.jpg',\n",
       " '03ca4d04c_0.jpg',\n",
       " '03ca4d04c_1.jpg',\n",
       " '03ca4d04c_2.jpg',\n",
       " '03ca4d04c_3.jpg',\n",
       " '03ca4d04c_4.jpg',\n",
       " '03ca4d04c_5.jpg',\n",
       " '03ca4d04c_6.jpg',\n",
       " '03ca4d04c_7.jpg',\n",
       " '03ca4d04c_8.jpg',\n",
       " '03ca4d04c_9.jpg',\n",
       " '03da79fda_0.jpg',\n",
       " '03da79fda_1.jpg',\n",
       " '03da79fda_2.jpg',\n",
       " '03da79fda_3.jpg',\n",
       " '03da79fda_4.jpg',\n",
       " '03da79fda_5.jpg',\n",
       " '03da79fda_6.jpg',\n",
       " '03da79fda_7.jpg',\n",
       " '03da79fda_8.jpg',\n",
       " '03da79fda_9.jpg',\n",
       " ...]"
      ]
     },
     "execution_count": 10,
     "metadata": {},
     "output_type": "execute_result"
    }
   ],
   "source": [
    "filenames"
   ]
  },
  {
   "cell_type": "code",
   "execution_count": 14,
   "metadata": {},
   "outputs": [],
   "source": [
    "#find if there is an error and which kind\n",
    "\n",
    "defects = []\n",
    "kindDefects = []\n",
    "\n",
    "\n",
    "# i = 0\n",
    "for pt in filenames:\n",
    "    fullPt = pathImagesOut / Path(pt)\n",
    "    img = Image.open(fullPt)\n",
    "    img = asarray(img)\n",
    "    difct = np.any(img > 0.5)\n",
    "    defects.append(difct)\n",
    "\n",
    "    if difct:\n",
    "        oldName = pt.split('_')[0]\n",
    "        kdifct = SevDB.loc[SevDB['ImageId'].str.contains(str(oldName), case=False)]['ClassId'].values.tolist()\n",
    "        # print(kdifct)\n",
    "        kindDefects.append(kdifct[0])\n",
    "    else:\n",
    "        kdifct = 0\n",
    "        kindDefects.append(kdifct)\n",
    "    # print(difct)\n",
    "\n",
    "    # if i> 5:\n",
    "    #     break\n",
    "    # i = i +1"
   ]
  },
  {
   "cell_type": "code",
   "execution_count": 15,
   "metadata": {},
   "outputs": [],
   "source": [
    "croppedDB = pd.DataFrame(list(zip(filenames,defects,kindDefects)),columns=['PathId','Has_Defect','Kind_Defect'])"
   ]
  },
  {
   "cell_type": "code",
   "execution_count": 16,
   "metadata": {},
   "outputs": [],
   "source": [
    "croppedDB.to_csv('../DB/cropped_train.csv')"
   ]
  },
  {
   "cell_type": "code",
   "execution_count": null,
   "metadata": {},
   "outputs": [],
   "source": [
    "croppedDB"
   ]
  },
  {
   "cell_type": "code",
   "execution_count": 10,
   "metadata": {},
   "outputs": [],
   "source": [
    "def load_crop_im_vert(pt,dirOut,w, resize = False, outSize = [256,256]):\n",
    "    if resize:\n",
    "        img = load_img(pt,target_size=(outSize[0],outSize[1]))\n",
    "    else:\n",
    "        img = Image.open(pt)\n",
    "\n",
    "    img = asarray(img)\n",
    "    cropNumber = 0\n",
    "    print(img.shape)\n",
    "    imageCropY = np.array_split(img,int(img.shape[0]/w),axis=0);     #the images resulted from the firts split are split in (shape[2]/h_w) parts vertically\n",
    "    for im in imageCropY:\n",
    "        filename = pt.stem\n",
    "        filename = filename + '_' + str(cropNumber) + pt.suffix\n",
    "        im = Image.fromarray(im)\n",
    "        im.save(dirOut / filename)\n",
    "        cropNumber = int(cropNumber) + 1\n",
    "\n",
    "\n",
    "def cropAllImagesInPath(path, outpath, outSize_W, resize = False):\n",
    "    imgs = []\n",
    "    paths = []\n",
    "    for (dirpath, dirnames, filenames) in walk(path):\n",
    "        paths.extend(filenames)\n",
    "        break\n",
    "\n",
    "    for p in tqdm(paths):\n",
    "        p = Path(p)\n",
    "        # print(p)\n",
    "        # fullPath = Path(str(basePath) + str(p))\n",
    "        fullPath = path / p\n",
    "        # print(basePath)\n",
    "        # print(fullPath)\n",
    "        load_crop_im_vert(fullPath,outpath,outSize_W,resize = resize)\n",
    "    return imgs"
   ]
  },
  {
   "cell_type": "code",
   "execution_count": 5,
   "metadata": {},
   "outputs": [],
   "source": [
    "vsXpath = Path('../DB/Video-Systems/labelled/db/X/')\n",
    "vsYpath = Path('../DB/Video-Systems/labelled/db/Y/')\n",
    "\n",
    "vsXpathCropped = Path('../DB/Video-Systems/labelled/db/Cropped/X/')\n",
    "vsYpathCropped = Path('../DB/Video-Systems/labelled/db/Cropped/Y/')"
   ]
  },
  {
   "cell_type": "code",
   "execution_count": 6,
   "metadata": {},
   "outputs": [],
   "source": [
    "vsXpathCropped.mkdir(parents=True, exist_ok=True)\n",
    "vsYpathCropped.mkdir(parents=True, exist_ok=True)"
   ]
  },
  {
   "cell_type": "code",
   "execution_count": 11,
   "metadata": {},
   "outputs": [
    {
     "name": "stderr",
     "output_type": "stream",
     "text": [
      "  0%|          | 0/80 [00:00<?, ?it/s]"
     ]
    },
    {
     "name": "stdout",
     "output_type": "stream",
     "text": [
      "(1256, 1440, 3)\n"
     ]
    },
    {
     "name": "stderr",
     "output_type": "stream",
     "text": [
      "  2%|▎         | 2/80 [00:00<00:18,  4.15it/s]"
     ]
    },
    {
     "name": "stdout",
     "output_type": "stream",
     "text": [
      "(1256, 1440, 3)\n",
      "(1256, 1440, 3)\n"
     ]
    },
    {
     "name": "stderr",
     "output_type": "stream",
     "text": [
      "  4%|▍         | 3/80 [00:00<00:18,  4.17it/s]"
     ]
    },
    {
     "name": "stdout",
     "output_type": "stream",
     "text": [
      "(1256, 1440, 3)\n"
     ]
    },
    {
     "name": "stderr",
     "output_type": "stream",
     "text": [
      "  5%|▌         | 4/80 [00:00<00:18,  4.20it/s]"
     ]
    },
    {
     "name": "stdout",
     "output_type": "stream",
     "text": [
      "(1256, 1440, 3)\n"
     ]
    },
    {
     "name": "stderr",
     "output_type": "stream",
     "text": [
      "  8%|▊         | 6/80 [00:01<00:17,  4.20it/s]"
     ]
    },
    {
     "name": "stdout",
     "output_type": "stream",
     "text": [
      "(1256, 1440, 3)\n",
      "(1256, 1440, 3)\n"
     ]
    },
    {
     "name": "stderr",
     "output_type": "stream",
     "text": [
      "  9%|▉         | 7/80 [00:01<00:17,  4.20it/s]"
     ]
    },
    {
     "name": "stdout",
     "output_type": "stream",
     "text": [
      "(1256, 1440, 3)\n"
     ]
    },
    {
     "name": "stderr",
     "output_type": "stream",
     "text": [
      " 10%|█         | 8/80 [00:01<00:17,  4.20it/s]"
     ]
    },
    {
     "name": "stdout",
     "output_type": "stream",
     "text": [
      "(1256, 1440, 3)\n"
     ]
    },
    {
     "name": "stderr",
     "output_type": "stream",
     "text": [
      " 11%|█▏        | 9/80 [00:02<00:16,  4.21it/s]"
     ]
    },
    {
     "name": "stdout",
     "output_type": "stream",
     "text": [
      "(1256, 1440, 3)\n"
     ]
    },
    {
     "name": "stderr",
     "output_type": "stream",
     "text": [
      " 12%|█▎        | 10/80 [00:02<00:16,  4.18it/s]"
     ]
    },
    {
     "name": "stdout",
     "output_type": "stream",
     "text": [
      "(1256, 1440, 3)\n"
     ]
    },
    {
     "name": "stderr",
     "output_type": "stream",
     "text": [
      " 14%|█▍        | 11/80 [00:02<00:16,  4.16it/s]"
     ]
    },
    {
     "name": "stdout",
     "output_type": "stream",
     "text": [
      "(1256, 1440, 3)\n"
     ]
    },
    {
     "name": "stderr",
     "output_type": "stream",
     "text": [
      " 15%|█▌        | 12/80 [00:02<00:16,  4.13it/s]"
     ]
    },
    {
     "name": "stdout",
     "output_type": "stream",
     "text": [
      "(1256, 1440, 3)\n"
     ]
    },
    {
     "name": "stderr",
     "output_type": "stream",
     "text": [
      " 16%|█▋        | 13/80 [00:03<00:16,  4.13it/s]"
     ]
    },
    {
     "name": "stdout",
     "output_type": "stream",
     "text": [
      "(1256, 1440, 3)\n"
     ]
    },
    {
     "name": "stderr",
     "output_type": "stream",
     "text": [
      " 18%|█▊        | 14/80 [00:03<00:15,  4.14it/s]"
     ]
    },
    {
     "name": "stdout",
     "output_type": "stream",
     "text": [
      "(1256, 1440, 3)\n"
     ]
    },
    {
     "name": "stderr",
     "output_type": "stream",
     "text": [
      " 19%|█▉        | 15/80 [00:03<00:15,  4.17it/s]"
     ]
    },
    {
     "name": "stdout",
     "output_type": "stream",
     "text": [
      "(1256, 1440, 3)\n"
     ]
    },
    {
     "name": "stderr",
     "output_type": "stream",
     "text": [
      " 20%|██        | 16/80 [00:03<00:15,  4.20it/s]"
     ]
    },
    {
     "name": "stdout",
     "output_type": "stream",
     "text": [
      "(1256, 1440, 3)\n"
     ]
    },
    {
     "name": "stderr",
     "output_type": "stream",
     "text": [
      " 21%|██▏       | 17/80 [00:04<00:14,  4.21it/s]"
     ]
    },
    {
     "name": "stdout",
     "output_type": "stream",
     "text": [
      "(1256, 1440, 3)\n"
     ]
    },
    {
     "name": "stderr",
     "output_type": "stream",
     "text": [
      " 24%|██▍       | 19/80 [00:04<00:14,  4.20it/s]"
     ]
    },
    {
     "name": "stdout",
     "output_type": "stream",
     "text": [
      "(1256, 1440, 3)\n",
      "(1256, 1440, 3)\n"
     ]
    },
    {
     "name": "stderr",
     "output_type": "stream",
     "text": [
      " 25%|██▌       | 20/80 [00:04<00:14,  4.19it/s]"
     ]
    },
    {
     "name": "stdout",
     "output_type": "stream",
     "text": [
      "(1256, 1440, 3)\n"
     ]
    },
    {
     "name": "stderr",
     "output_type": "stream",
     "text": [
      " 26%|██▋       | 21/80 [00:05<00:14,  4.20it/s]"
     ]
    },
    {
     "name": "stdout",
     "output_type": "stream",
     "text": [
      "(1256, 1440, 3)\n"
     ]
    },
    {
     "name": "stderr",
     "output_type": "stream",
     "text": [
      " 28%|██▊       | 22/80 [00:05<00:13,  4.20it/s]"
     ]
    },
    {
     "name": "stdout",
     "output_type": "stream",
     "text": [
      "(1256, 1440, 3)\n"
     ]
    },
    {
     "name": "stderr",
     "output_type": "stream",
     "text": [
      " 29%|██▉       | 23/80 [00:05<00:13,  4.21it/s]"
     ]
    },
    {
     "name": "stdout",
     "output_type": "stream",
     "text": [
      "(1256, 1440, 3)\n"
     ]
    },
    {
     "name": "stderr",
     "output_type": "stream",
     "text": [
      " 30%|███       | 24/80 [00:05<00:13,  4.21it/s]"
     ]
    },
    {
     "name": "stdout",
     "output_type": "stream",
     "text": [
      "(1256, 1440, 3)\n"
     ]
    },
    {
     "name": "stderr",
     "output_type": "stream",
     "text": [
      " 31%|███▏      | 25/80 [00:05<00:13,  4.21it/s]"
     ]
    },
    {
     "name": "stdout",
     "output_type": "stream",
     "text": [
      "(1256, 1440, 3)\n"
     ]
    },
    {
     "name": "stderr",
     "output_type": "stream",
     "text": [
      " 32%|███▎      | 26/80 [00:06<00:12,  4.20it/s]"
     ]
    },
    {
     "name": "stdout",
     "output_type": "stream",
     "text": [
      "(1256, 1440, 3)\n"
     ]
    },
    {
     "name": "stderr",
     "output_type": "stream",
     "text": [
      " 34%|███▍      | 27/80 [00:06<00:12,  4.18it/s]"
     ]
    },
    {
     "name": "stdout",
     "output_type": "stream",
     "text": [
      "(1256, 1440, 3)\n"
     ]
    },
    {
     "name": "stderr",
     "output_type": "stream",
     "text": [
      " 35%|███▌      | 28/80 [00:06<00:12,  4.18it/s]"
     ]
    },
    {
     "name": "stdout",
     "output_type": "stream",
     "text": [
      "(1256, 1440, 3)\n"
     ]
    },
    {
     "name": "stderr",
     "output_type": "stream",
     "text": [
      " 38%|███▊      | 30/80 [00:07<00:11,  4.18it/s]"
     ]
    },
    {
     "name": "stdout",
     "output_type": "stream",
     "text": [
      "(1256, 1440, 3)\n",
      "(1256, 1440, 3)\n"
     ]
    },
    {
     "name": "stderr",
     "output_type": "stream",
     "text": [
      " 39%|███▉      | 31/80 [00:07<00:11,  4.19it/s]"
     ]
    },
    {
     "name": "stdout",
     "output_type": "stream",
     "text": [
      "(1256, 1440, 3)\n"
     ]
    },
    {
     "name": "stderr",
     "output_type": "stream",
     "text": [
      " 40%|████      | 32/80 [00:07<00:11,  4.18it/s]"
     ]
    },
    {
     "name": "stdout",
     "output_type": "stream",
     "text": [
      "(1256, 1440, 3)\n"
     ]
    },
    {
     "name": "stderr",
     "output_type": "stream",
     "text": [
      " 41%|████▏     | 33/80 [00:07<00:11,  4.18it/s]"
     ]
    },
    {
     "name": "stdout",
     "output_type": "stream",
     "text": [
      "(1256, 1440, 3)\n"
     ]
    },
    {
     "name": "stderr",
     "output_type": "stream",
     "text": [
      " 42%|████▎     | 34/80 [00:08<00:11,  4.17it/s]"
     ]
    },
    {
     "name": "stdout",
     "output_type": "stream",
     "text": [
      "(1256, 1440, 3)\n"
     ]
    },
    {
     "name": "stderr",
     "output_type": "stream",
     "text": [
      " 45%|████▌     | 36/80 [00:08<00:10,  4.16it/s]"
     ]
    },
    {
     "name": "stdout",
     "output_type": "stream",
     "text": [
      "(1256, 1440, 3)\n",
      "(1256, 1440, 3)\n"
     ]
    },
    {
     "name": "stderr",
     "output_type": "stream",
     "text": [
      " 46%|████▋     | 37/80 [00:08<00:10,  4.19it/s]"
     ]
    },
    {
     "name": "stdout",
     "output_type": "stream",
     "text": [
      "(1256, 1440, 3)\n"
     ]
    },
    {
     "name": "stderr",
     "output_type": "stream",
     "text": [
      " 48%|████▊     | 38/80 [00:09<00:10,  4.18it/s]"
     ]
    },
    {
     "name": "stdout",
     "output_type": "stream",
     "text": [
      "(1256, 1440, 3)\n"
     ]
    },
    {
     "name": "stderr",
     "output_type": "stream",
     "text": [
      " 50%|█████     | 40/80 [00:09<00:09,  4.19it/s]"
     ]
    },
    {
     "name": "stdout",
     "output_type": "stream",
     "text": [
      "(1256, 1440, 3)\n",
      "(1256, 1440, 3)\n"
     ]
    },
    {
     "name": "stderr",
     "output_type": "stream",
     "text": [
      " 51%|█████▏    | 41/80 [00:09<00:09,  4.19it/s]"
     ]
    },
    {
     "name": "stdout",
     "output_type": "stream",
     "text": [
      "(1256, 1440, 3)\n"
     ]
    },
    {
     "name": "stderr",
     "output_type": "stream",
     "text": [
      " 54%|█████▍    | 43/80 [00:10<00:08,  4.20it/s]"
     ]
    },
    {
     "name": "stdout",
     "output_type": "stream",
     "text": [
      "(1256, 1440, 3)\n",
      "(1256, 1440, 3)\n"
     ]
    },
    {
     "name": "stderr",
     "output_type": "stream",
     "text": [
      " 55%|█████▌    | 44/80 [00:10<00:08,  4.19it/s]"
     ]
    },
    {
     "name": "stdout",
     "output_type": "stream",
     "text": [
      "(1256, 1440, 3)\n"
     ]
    },
    {
     "name": "stderr",
     "output_type": "stream",
     "text": [
      " 57%|█████▊    | 46/80 [00:10<00:08,  4.22it/s]"
     ]
    },
    {
     "name": "stdout",
     "output_type": "stream",
     "text": [
      "(1256, 1440, 3)\n",
      "(1256, 1440, 3)\n"
     ]
    },
    {
     "name": "stderr",
     "output_type": "stream",
     "text": [
      " 60%|██████    | 48/80 [00:11<00:07,  4.20it/s]"
     ]
    },
    {
     "name": "stdout",
     "output_type": "stream",
     "text": [
      "(1256, 1440, 3)\n",
      "(1256, 1440, 3)\n"
     ]
    },
    {
     "name": "stderr",
     "output_type": "stream",
     "text": [
      " 61%|██████▏   | 49/80 [00:11<00:07,  4.21it/s]"
     ]
    },
    {
     "name": "stdout",
     "output_type": "stream",
     "text": [
      "(1256, 1440, 3)\n"
     ]
    },
    {
     "name": "stderr",
     "output_type": "stream",
     "text": [
      " 62%|██████▎   | 50/80 [00:11<00:07,  4.20it/s]"
     ]
    },
    {
     "name": "stdout",
     "output_type": "stream",
     "text": [
      "(1256, 1440, 3)\n"
     ]
    },
    {
     "name": "stderr",
     "output_type": "stream",
     "text": [
      " 65%|██████▌   | 52/80 [00:12<00:06,  4.19it/s]"
     ]
    },
    {
     "name": "stdout",
     "output_type": "stream",
     "text": [
      "(1256, 1440, 3)\n",
      "(1256, 1440, 3)\n"
     ]
    },
    {
     "name": "stderr",
     "output_type": "stream",
     "text": [
      " 66%|██████▋   | 53/80 [00:12<00:06,  4.19it/s]"
     ]
    },
    {
     "name": "stdout",
     "output_type": "stream",
     "text": [
      "(1256, 1440, 3)\n"
     ]
    },
    {
     "name": "stderr",
     "output_type": "stream",
     "text": [
      " 68%|██████▊   | 54/80 [00:12<00:06,  4.17it/s]"
     ]
    },
    {
     "name": "stdout",
     "output_type": "stream",
     "text": [
      "(1256, 1440, 3)\n"
     ]
    },
    {
     "name": "stderr",
     "output_type": "stream",
     "text": [
      " 69%|██████▉   | 55/80 [00:13<00:06,  4.17it/s]"
     ]
    },
    {
     "name": "stdout",
     "output_type": "stream",
     "text": [
      "(1256, 1440, 3)\n"
     ]
    },
    {
     "name": "stderr",
     "output_type": "stream",
     "text": [
      " 70%|███████   | 56/80 [00:13<00:05,  4.17it/s]"
     ]
    },
    {
     "name": "stdout",
     "output_type": "stream",
     "text": [
      "(1256, 1440, 3)\n"
     ]
    },
    {
     "name": "stderr",
     "output_type": "stream",
     "text": [
      " 71%|███████▏  | 57/80 [00:13<00:05,  4.16it/s]"
     ]
    },
    {
     "name": "stdout",
     "output_type": "stream",
     "text": [
      "(1256, 1440, 3)\n"
     ]
    },
    {
     "name": "stderr",
     "output_type": "stream",
     "text": [
      " 72%|███████▎  | 58/80 [00:13<00:05,  4.16it/s]"
     ]
    },
    {
     "name": "stdout",
     "output_type": "stream",
     "text": [
      "(1256, 1440, 3)\n"
     ]
    },
    {
     "name": "stderr",
     "output_type": "stream",
     "text": [
      " 74%|███████▍  | 59/80 [00:14<00:05,  4.18it/s]"
     ]
    },
    {
     "name": "stdout",
     "output_type": "stream",
     "text": [
      "(1256, 1440, 3)\n"
     ]
    },
    {
     "name": "stderr",
     "output_type": "stream",
     "text": [
      " 75%|███████▌  | 60/80 [00:14<00:04,  4.17it/s]"
     ]
    },
    {
     "name": "stdout",
     "output_type": "stream",
     "text": [
      "(1256, 1440, 3)\n"
     ]
    },
    {
     "name": "stderr",
     "output_type": "stream",
     "text": [
      " 76%|███████▋  | 61/80 [00:14<00:04,  4.17it/s]"
     ]
    },
    {
     "name": "stdout",
     "output_type": "stream",
     "text": [
      "(1256, 1440, 3)\n"
     ]
    },
    {
     "name": "stderr",
     "output_type": "stream",
     "text": [
      " 79%|███████▉  | 63/80 [00:15<00:04,  4.17it/s]"
     ]
    },
    {
     "name": "stdout",
     "output_type": "stream",
     "text": [
      "(1256, 1440, 3)\n",
      "(1256, 1440, 3)\n"
     ]
    },
    {
     "name": "stderr",
     "output_type": "stream",
     "text": [
      " 80%|████████  | 64/80 [00:15<00:03,  4.17it/s]"
     ]
    },
    {
     "name": "stdout",
     "output_type": "stream",
     "text": [
      "(1256, 1440, 3)\n"
     ]
    },
    {
     "name": "stderr",
     "output_type": "stream",
     "text": [
      " 81%|████████▏ | 65/80 [00:15<00:03,  4.15it/s]"
     ]
    },
    {
     "name": "stdout",
     "output_type": "stream",
     "text": [
      "(1256, 1440, 3)\n"
     ]
    },
    {
     "name": "stderr",
     "output_type": "stream",
     "text": [
      " 82%|████████▎ | 66/80 [00:15<00:03,  4.16it/s]"
     ]
    },
    {
     "name": "stdout",
     "output_type": "stream",
     "text": [
      "(1256, 1440, 3)\n"
     ]
    },
    {
     "name": "stderr",
     "output_type": "stream",
     "text": [
      " 84%|████████▍ | 67/80 [00:16<00:03,  4.10it/s]"
     ]
    },
    {
     "name": "stdout",
     "output_type": "stream",
     "text": [
      "(1256, 1440, 3)\n"
     ]
    },
    {
     "name": "stderr",
     "output_type": "stream",
     "text": [
      " 86%|████████▋ | 69/80 [00:16<00:02,  4.16it/s]"
     ]
    },
    {
     "name": "stdout",
     "output_type": "stream",
     "text": [
      "(1256, 1440, 3)\n",
      "(1256, 1440, 3)\n"
     ]
    },
    {
     "name": "stderr",
     "output_type": "stream",
     "text": [
      " 88%|████████▊ | 70/80 [00:16<00:02,  4.16it/s]"
     ]
    },
    {
     "name": "stdout",
     "output_type": "stream",
     "text": [
      "(1256, 1440, 3)\n"
     ]
    },
    {
     "name": "stderr",
     "output_type": "stream",
     "text": [
      " 89%|████████▉ | 71/80 [00:16<00:02,  4.18it/s]"
     ]
    },
    {
     "name": "stdout",
     "output_type": "stream",
     "text": [
      "(1256, 1440, 3)\n"
     ]
    },
    {
     "name": "stderr",
     "output_type": "stream",
     "text": [
      " 90%|█████████ | 72/80 [00:17<00:01,  4.17it/s]"
     ]
    },
    {
     "name": "stdout",
     "output_type": "stream",
     "text": [
      "(1256, 1440, 3)\n"
     ]
    },
    {
     "name": "stderr",
     "output_type": "stream",
     "text": [
      " 92%|█████████▎| 74/80 [00:17<00:01,  4.18it/s]"
     ]
    },
    {
     "name": "stdout",
     "output_type": "stream",
     "text": [
      "(1256, 1440, 3)\n",
      "(1256, 1440, 3)\n"
     ]
    },
    {
     "name": "stderr",
     "output_type": "stream",
     "text": [
      " 94%|█████████▍| 75/80 [00:17<00:01,  4.18it/s]"
     ]
    },
    {
     "name": "stdout",
     "output_type": "stream",
     "text": [
      "(1256, 1440, 3)\n"
     ]
    },
    {
     "name": "stderr",
     "output_type": "stream",
     "text": [
      " 95%|█████████▌| 76/80 [00:18<00:00,  4.17it/s]"
     ]
    },
    {
     "name": "stdout",
     "output_type": "stream",
     "text": [
      "(1256, 1440, 3)\n"
     ]
    },
    {
     "name": "stderr",
     "output_type": "stream",
     "text": [
      " 96%|█████████▋| 77/80 [00:18<00:00,  4.17it/s]"
     ]
    },
    {
     "name": "stdout",
     "output_type": "stream",
     "text": [
      "(1256, 1440, 3)\n"
     ]
    },
    {
     "name": "stderr",
     "output_type": "stream",
     "text": [
      " 99%|█████████▉| 79/80 [00:18<00:00,  4.16it/s]"
     ]
    },
    {
     "name": "stdout",
     "output_type": "stream",
     "text": [
      "(1256, 1440, 3)\n",
      "(1256, 1440, 3)\n"
     ]
    },
    {
     "name": "stderr",
     "output_type": "stream",
     "text": [
      "100%|██████████| 80/80 [00:19<00:00,  4.18it/s]\n",
      "  2%|▎         | 2/80 [00:00<00:04, 18.93it/s]"
     ]
    },
    {
     "name": "stdout",
     "output_type": "stream",
     "text": [
      "(1256, 1440, 3)\n",
      "(1256, 1440, 3)\n",
      "(1256, 1440, 3)\n",
      "(1256, 1440, 3)\n"
     ]
    },
    {
     "name": "stderr",
     "output_type": "stream",
     "text": [
      " 10%|█         | 8/80 [00:00<00:03, 20.52it/s]"
     ]
    },
    {
     "name": "stdout",
     "output_type": "stream",
     "text": [
      "(1256, 1440, 3)\n",
      "(1256, 1440, 3)\n",
      "(1256, 1440, 3)\n",
      "(1256, 1440, 3)\n"
     ]
    },
    {
     "name": "stderr",
     "output_type": "stream",
     "text": [
      " 14%|█▍        | 11/80 [00:00<00:03, 20.47it/s]"
     ]
    },
    {
     "name": "stdout",
     "output_type": "stream",
     "text": [
      "(1256, 1440, 3)\n",
      "(1256, 1440, 3)\n",
      "(1256, 1440, 3)\n",
      "(1256, 1440, 3)\n",
      "(1256, 1440, 3)\n"
     ]
    },
    {
     "name": "stderr",
     "output_type": "stream",
     "text": [
      " 21%|██▏       | 17/80 [00:00<00:03, 20.48it/s]"
     ]
    },
    {
     "name": "stdout",
     "output_type": "stream",
     "text": [
      "(1256, 1440, 3)\n",
      "(1256, 1440, 3)\n",
      "(1256, 1440, 3)\n",
      "(1256, 1440, 3)\n"
     ]
    },
    {
     "name": "stderr",
     "output_type": "stream",
     "text": [
      " 25%|██▌       | 20/80 [00:00<00:02, 20.48it/s]"
     ]
    },
    {
     "name": "stdout",
     "output_type": "stream",
     "text": [
      "(1256, 1440, 3)\n",
      "(1256, 1440, 3)\n",
      "(1256, 1440, 3)\n",
      "(1256, 1440, 3)\n",
      "(1256, 1440, 3)\n"
     ]
    },
    {
     "name": "stderr",
     "output_type": "stream",
     "text": [
      " 32%|███▎      | 26/80 [00:01<00:02, 21.53it/s]"
     ]
    },
    {
     "name": "stdout",
     "output_type": "stream",
     "text": [
      "(1256, 1440, 3)\n",
      "(1256, 1440, 3)\n",
      "(1256, 1440, 3)\n",
      "(1256, 1440, 3)\n",
      "(1256, 1440, 3)\n"
     ]
    },
    {
     "name": "stderr",
     "output_type": "stream",
     "text": [
      " 40%|████      | 32/80 [00:01<00:02, 22.54it/s]"
     ]
    },
    {
     "name": "stdout",
     "output_type": "stream",
     "text": [
      "(1256, 1440, 3)\n",
      "(1256, 1440, 3)\n",
      "(1256, 1440, 3)\n",
      "(1256, 1440, 3)\n",
      "(1256, 1440, 3)\n"
     ]
    },
    {
     "name": "stderr",
     "output_type": "stream",
     "text": [
      " 44%|████▍     | 35/80 [00:01<00:01, 22.83it/s]"
     ]
    },
    {
     "name": "stdout",
     "output_type": "stream",
     "text": [
      "(1256, 1440, 3)\n",
      "(1256, 1440, 3)\n",
      "(1256, 1440, 3)\n",
      "(1256, 1440, 3)\n",
      "(1256, 1440, 3)\n",
      "(1256, 1440, 3)\n"
     ]
    },
    {
     "name": "stderr",
     "output_type": "stream",
     "text": [
      " 51%|█████▏    | 41/80 [00:01<00:01, 23.62it/s]"
     ]
    },
    {
     "name": "stdout",
     "output_type": "stream",
     "text": [
      "(1256, 1440, 3)\n",
      "(1256, 1440, 3)\n",
      "(1256, 1440, 3)\n",
      "(1256, 1440, 3)\n",
      "(1256, 1440, 3)\n"
     ]
    },
    {
     "name": "stderr",
     "output_type": "stream",
     "text": [
      " 59%|█████▉    | 47/80 [00:02<00:01, 24.15it/s]"
     ]
    },
    {
     "name": "stdout",
     "output_type": "stream",
     "text": [
      "(1256, 1440, 3)\n",
      "(1256, 1440, 3)\n",
      "(1256, 1440, 3)\n",
      "(1256, 1440, 3)\n",
      "(1256, 1440, 3)\n",
      "(1256, 1440, 3)\n"
     ]
    },
    {
     "name": "stderr",
     "output_type": "stream",
     "text": [
      " 66%|██████▋   | 53/80 [00:02<00:01, 24.52it/s]"
     ]
    },
    {
     "name": "stdout",
     "output_type": "stream",
     "text": [
      "(1256, 1440, 3)\n",
      "(1256, 1440, 3)\n",
      "(1256, 1440, 3)\n",
      "(1256, 1440, 3)\n",
      "(1256, 1440, 3)\n",
      "(1256, 1440, 3)\n"
     ]
    },
    {
     "name": "stderr",
     "output_type": "stream",
     "text": [
      " 74%|███████▍  | 59/80 [00:02<00:00, 25.83it/s]"
     ]
    },
    {
     "name": "stdout",
     "output_type": "stream",
     "text": [
      "(1256, 1440, 3)\n",
      "(1256, 1440, 3)\n",
      "(1256, 1440, 3)\n",
      "(1256, 1440, 3)\n",
      "(1256, 1440, 3)\n",
      "(1256, 1440, 3)\n"
     ]
    },
    {
     "name": "stderr",
     "output_type": "stream",
     "text": [
      " 81%|████████▏ | 65/80 [00:02<00:00, 26.62it/s]"
     ]
    },
    {
     "name": "stdout",
     "output_type": "stream",
     "text": [
      "(1256, 1440, 3)\n",
      "(1256, 1440, 3)\n",
      "(1256, 1440, 3)\n",
      "(1256, 1440, 3)\n",
      "(1256, 1440, 3)\n",
      "(1256, 1440, 3)\n"
     ]
    },
    {
     "name": "stderr",
     "output_type": "stream",
     "text": [
      " 89%|████████▉ | 71/80 [00:03<00:00, 23.43it/s]"
     ]
    },
    {
     "name": "stdout",
     "output_type": "stream",
     "text": [
      "(1256, 1440, 3)\n",
      "(1256, 1440, 3)\n",
      "(1256, 1440, 3)\n",
      "(1256, 1440, 3)\n",
      "(1256, 1440, 3)\n"
     ]
    },
    {
     "name": "stderr",
     "output_type": "stream",
     "text": [
      " 96%|█████████▋| 77/80 [00:03<00:00, 23.49it/s]"
     ]
    },
    {
     "name": "stdout",
     "output_type": "stream",
     "text": [
      "(1256, 1440, 3)\n",
      "(1256, 1440, 3)\n",
      "(1256, 1440, 3)\n",
      "(1256, 1440, 3)\n",
      "(1256, 1440, 3)\n"
     ]
    },
    {
     "name": "stderr",
     "output_type": "stream",
     "text": [
      "100%|██████████| 80/80 [00:03<00:00, 23.07it/s]"
     ]
    },
    {
     "name": "stdout",
     "output_type": "stream",
     "text": [
      "(1256, 1440, 3)\n",
      "(1256, 1440, 3)\n",
      "(1256, 1440, 3)\n"
     ]
    },
    {
     "name": "stderr",
     "output_type": "stream",
     "text": [
      "\n"
     ]
    },
    {
     "ename": "AttributeError",
     "evalue": "'list' object has no attribute 'shape'",
     "output_type": "error",
     "traceback": [
      "\u001b[1;31m---------------------------------------------------------------------------\u001b[0m",
      "\u001b[1;31mAttributeError\u001b[0m                            Traceback (most recent call last)",
      "\u001b[1;32m~\\AppData\\Local\\Temp/ipykernel_20456/1716029672.py\u001b[0m in \u001b[0;36m<module>\u001b[1;34m\u001b[0m\n\u001b[0;32m      1\u001b[0m \u001b[0mVideSystemDB_X\u001b[0m \u001b[1;33m=\u001b[0m \u001b[0mcropAllImagesInPath\u001b[0m\u001b[1;33m(\u001b[0m\u001b[0mvsXpath\u001b[0m\u001b[1;33m,\u001b[0m\u001b[0mvsXpathCropped\u001b[0m\u001b[1;33m,\u001b[0m\u001b[1;36m157\u001b[0m\u001b[1;33m)\u001b[0m\u001b[1;33m\u001b[0m\u001b[1;33m\u001b[0m\u001b[0m\n\u001b[0;32m      2\u001b[0m \u001b[0mVideSystemDB_Y\u001b[0m \u001b[1;33m=\u001b[0m \u001b[0mcropAllImagesInPath\u001b[0m\u001b[1;33m(\u001b[0m\u001b[0mvsYpath\u001b[0m\u001b[1;33m,\u001b[0m\u001b[0mvsYpathCropped\u001b[0m\u001b[1;33m,\u001b[0m\u001b[1;36m157\u001b[0m\u001b[1;33m)\u001b[0m\u001b[1;33m\u001b[0m\u001b[1;33m\u001b[0m\u001b[0m\n\u001b[1;32m----> 3\u001b[1;33m \u001b[0mprint\u001b[0m\u001b[1;33m(\u001b[0m\u001b[0mVideSystemDB_X\u001b[0m\u001b[1;33m.\u001b[0m\u001b[0mshape\u001b[0m\u001b[1;33m)\u001b[0m\u001b[1;33m\u001b[0m\u001b[1;33m\u001b[0m\u001b[0m\n\u001b[0m\u001b[0;32m      4\u001b[0m \u001b[0mprint\u001b[0m\u001b[1;33m(\u001b[0m\u001b[0mVideSystemDB_Y\u001b[0m\u001b[1;33m.\u001b[0m\u001b[0mshape\u001b[0m\u001b[1;33m)\u001b[0m\u001b[1;33m\u001b[0m\u001b[1;33m\u001b[0m\u001b[0m\n",
      "\u001b[1;31mAttributeError\u001b[0m: 'list' object has no attribute 'shape'"
     ]
    }
   ],
   "source": [
    "VideSystemDB_X = cropAllImagesInPath(vsXpath,vsXpathCropped,157)\n",
    "VideSystemDB_Y = cropAllImagesInPath(vsYpath,vsYpathCropped,157)"
   ]
  },
  {
   "cell_type": "code",
   "execution_count": null,
   "metadata": {},
   "outputs": [],
   "source": []
  }
 ],
 "metadata": {
  "kernelspec": {
   "display_name": "Python 3.9.7 ('tfGPU')",
   "language": "python",
   "name": "python3"
  },
  "language_info": {
   "codemirror_mode": {
    "name": "ipython",
    "version": 3
   },
   "file_extension": ".py",
   "mimetype": "text/x-python",
   "name": "python",
   "nbconvert_exporter": "python",
   "pygments_lexer": "ipython3",
   "version": "3.9.7"
  },
  "orig_nbformat": 4,
  "vscode": {
   "interpreter": {
    "hash": "4db405b6028211bb031acc2bef2b1f47e0938d03337b972923fda4a906a651d3"
   }
  }
 },
 "nbformat": 4,
 "nbformat_minor": 2
}
